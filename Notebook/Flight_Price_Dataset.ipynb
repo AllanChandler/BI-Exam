{
 "cells": [
  {
   "cell_type": "markdown",
   "id": "e28cdb01-e0ad-4e4a-b0dd-3378e5bb3b1b",
   "metadata": {},
   "source": [
    "# Importerer nødvendige biblioteker"
   ]
  },
  {
   "cell_type": "code",
   "execution_count": 2,
   "id": "cb643dca-2ecb-4440-93a2-23b0bdd72336",
   "metadata": {},
   "outputs": [],
   "source": [
    "import pandas as pd\n",
    "import numpy as np\n",
    "import matplotlib.pyplot as plt\n",
    "import seaborn as sns"
   ]
  },
  {
   "cell_type": "markdown",
   "id": "af6b8eb3-5881-4c69-8981-8177478d48d0",
   "metadata": {},
   "source": [
    "# Indlæsning af data"
   ]
  },
  {
   "cell_type": "code",
   "execution_count": 4,
   "id": "97cfbb0a-018d-4e2b-b45b-3625b2b10e9f",
   "metadata": {},
   "outputs": [
    {
     "data": {
      "text/html": [
       "<div>\n",
       "<style scoped>\n",
       "    .dataframe tbody tr th:only-of-type {\n",
       "        vertical-align: middle;\n",
       "    }\n",
       "\n",
       "    .dataframe tbody tr th {\n",
       "        vertical-align: top;\n",
       "    }\n",
       "\n",
       "    .dataframe thead th {\n",
       "        text-align: right;\n",
       "    }\n",
       "</style>\n",
       "<table border=\"1\" class=\"dataframe\">\n",
       "  <thead>\n",
       "    <tr style=\"text-align: right;\">\n",
       "      <th></th>\n",
       "      <th>Airline</th>\n",
       "      <th>Date_of_Journey</th>\n",
       "      <th>Source</th>\n",
       "      <th>Dep_Time</th>\n",
       "      <th>Destination</th>\n",
       "      <th>Class</th>\n",
       "      <th>Price</th>\n",
       "    </tr>\n",
       "  </thead>\n",
       "  <tbody>\n",
       "    <tr>\n",
       "      <th>10498</th>\n",
       "      <td>Jet Airways</td>\n",
       "      <td>6/05/2019</td>\n",
       "      <td>Kolkata</td>\n",
       "      <td>16:30</td>\n",
       "      <td>Banglore</td>\n",
       "      <td>0</td>\n",
       "      <td>9663</td>\n",
       "    </tr>\n",
       "    <tr>\n",
       "      <th>4708</th>\n",
       "      <td>Multiple carriers</td>\n",
       "      <td>9/05/2019</td>\n",
       "      <td>Delhi</td>\n",
       "      <td>07:05</td>\n",
       "      <td>Cochin</td>\n",
       "      <td>0</td>\n",
       "      <td>8310</td>\n",
       "    </tr>\n",
       "    <tr>\n",
       "      <th>8461</th>\n",
       "      <td>Jet Airways</td>\n",
       "      <td>06/03/2019</td>\n",
       "      <td>Banglore</td>\n",
       "      <td>05:45</td>\n",
       "      <td>New Delhi</td>\n",
       "      <td>0</td>\n",
       "      <td>16736</td>\n",
       "    </tr>\n",
       "    <tr>\n",
       "      <th>57</th>\n",
       "      <td>Vistara</td>\n",
       "      <td>6/03/2019</td>\n",
       "      <td>Chennai</td>\n",
       "      <td>07:05</td>\n",
       "      <td>Kolkata</td>\n",
       "      <td>0</td>\n",
       "      <td>7414</td>\n",
       "    </tr>\n",
       "    <tr>\n",
       "      <th>4158</th>\n",
       "      <td>Air India</td>\n",
       "      <td>01/03/2019</td>\n",
       "      <td>Banglore</td>\n",
       "      <td>22:00</td>\n",
       "      <td>New Delhi</td>\n",
       "      <td>0</td>\n",
       "      <td>21130</td>\n",
       "    </tr>\n",
       "  </tbody>\n",
       "</table>\n",
       "</div>"
      ],
      "text/plain": [
       "                 Airline Date_of_Journey    Source Dep_Time Destination  \\\n",
       "10498        Jet Airways       6/05/2019   Kolkata    16:30    Banglore   \n",
       "4708   Multiple carriers       9/05/2019     Delhi    07:05      Cochin   \n",
       "8461         Jet Airways      06/03/2019  Banglore    05:45   New Delhi   \n",
       "57               Vistara       6/03/2019   Chennai    07:05     Kolkata   \n",
       "4158           Air India      01/03/2019  Banglore    22:00   New Delhi   \n",
       "\n",
       "       Class  Price  \n",
       "10498      0   9663  \n",
       "4708       0   8310  \n",
       "8461       0  16736  \n",
       "57         0   7414  \n",
       "4158       0  21130  "
      ]
     },
     "execution_count": 4,
     "metadata": {},
     "output_type": "execute_result"
    }
   ],
   "source": [
    "df = pd.read_csv('../data/Data_Train.csv')\n",
    "df.sample(5)"
   ]
  },
  {
   "cell_type": "markdown",
   "id": "696ec8cc-da0e-4f6a-a964-45011756fa50",
   "metadata": {},
   "source": [
    "Vi har importeret dataene og lavet en hurtig gennemgang for at få et overblik over datasættet. Nu går vi videre med at forberede og rense dataene, så de er klar til analyse."
   ]
  },
  {
   "cell_type": "markdown",
   "id": "3be6db84-4576-49b6-a403-a3e51b2d3dc0",
   "metadata": {},
   "source": [
    "# Rensning af data"
   ]
  },
  {
   "cell_type": "code",
   "execution_count": 7,
   "id": "4eed48e6-b661-4c4f-97ab-73507661e0fa",
   "metadata": {},
   "outputs": [
    {
     "name": "stdout",
     "output_type": "stream",
     "text": [
      "Tjekker for manglende værdier:\n",
      "Airline            0\n",
      "Date_of_Journey    0\n",
      "Source             0\n",
      "Dep_Time           0\n",
      "Destination        0\n",
      "Class              0\n",
      "Price              0\n",
      "dtype: int64\n",
      "Tjekker for NaN-værdier:\n",
      "Airline            0\n",
      "Date_of_Journey    0\n",
      "Source             0\n",
      "Dep_Time           0\n",
      "Destination        0\n",
      "Class              0\n",
      "Price              0\n",
      "dtype: int64\n",
      "Tjekker for datatyper:\n",
      "<class 'pandas.core.frame.DataFrame'>\n",
      "RangeIndex: 10683 entries, 0 to 10682\n",
      "Data columns (total 7 columns):\n",
      " #   Column           Non-Null Count  Dtype \n",
      "---  ------           --------------  ----- \n",
      " 0   Airline          10683 non-null  object\n",
      " 1   Date_of_Journey  10683 non-null  object\n",
      " 2   Source           10683 non-null  object\n",
      " 3   Dep_Time         10683 non-null  object\n",
      " 4   Destination      10683 non-null  object\n",
      " 5   Class            10683 non-null  int64 \n",
      " 6   Price            10683 non-null  int64 \n",
      "dtypes: int64(2), object(5)\n",
      "memory usage: 584.4+ KB\n",
      "None\n",
      "Tjekker for duplikater:\n",
      "2001\n"
     ]
    }
   ],
   "source": [
    "# Tjekker for manglende værdier\n",
    "print(\"Tjekker for manglende værdier:\")\n",
    "print(df.isnull().sum())\n",
    "\n",
    "# Tjekker for NaN-værdier\n",
    "print(\"Tjekker for NaN-værdier:\")\n",
    "print(df.isna().sum())\n",
    "\n",
    "# Tjekker for datatyper\n",
    "print(\"Tjekker for datatyper:\")\n",
    "print(df.info())\n",
    "\n",
    "# Tjekker for duplikater\n",
    "print(\"Tjekker for duplikater:\")\n",
    "print(df.duplicated().sum()) "
   ]
  },
  {
   "cell_type": "code",
   "execution_count": 8,
   "id": "e346653f-db8e-4417-80e1-3a701cfe61db",
   "metadata": {},
   "outputs": [
    {
     "name": "stdout",
     "output_type": "stream",
     "text": [
      "Antal fuldstændige duplikatrækker (inkl. kopier): 3192\n",
      "\n",
      "Eksempler på duplikerede rækker:\n",
      "        Airline Date_of_Journey    Source Dep_Time Destination  Class  Price\n",
      "2   Jet Airways       9/06/2019     Delhi    09:25      Cochin      0  13882\n",
      "6   Jet Airways      12/03/2019  Banglore    18:55   New Delhi      0  11087\n",
      "7   Jet Airways      01/03/2019  Banglore    08:00   New Delhi      0  22270\n",
      "13  Jet Airways       9/05/2019   Kolkata    21:10    Banglore      0   9663\n",
      "17  Jet Airways      12/06/2019     Delhi    14:00      Cochin      0  10262\n",
      "\n",
      "Antal gentagelser (egentlige duplikater): 2001\n",
      "Antal unikke rækker blandt de duplikerede: 1191\n",
      "\n",
      "Forekomster af række 2:\n",
      "          Airline Date_of_Journey Source Dep_Time Destination  Class  Price\n",
      "2     Jet Airways       9/06/2019  Delhi    09:25      Cochin      0  13882\n",
      "5375  Jet Airways       9/06/2019  Delhi    09:25      Cochin      0  13882\n",
      "\n",
      "Forekomster af række 6:\n",
      "          Airline Date_of_Journey    Source Dep_Time Destination  Class  Price\n",
      "6     Jet Airways      12/03/2019  Banglore    18:55   New Delhi      0  11087\n",
      "400   Jet Airways      12/03/2019  Banglore    18:55   New Delhi      0  11087\n",
      "1668  Jet Airways      12/03/2019  Banglore    18:55   New Delhi      0  11087\n",
      "2938  Jet Airways      12/03/2019  Banglore    18:55   New Delhi      0  11087\n",
      "4846  Jet Airways      12/03/2019  Banglore    18:55   New Delhi      0  11087\n",
      "5110  Jet Airways      12/03/2019  Banglore    18:55   New Delhi      0  11087\n",
      "5985  Jet Airways      12/03/2019  Banglore    18:55   New Delhi      0  11087\n",
      "6659  Jet Airways      12/03/2019  Banglore    18:55   New Delhi      0  11087\n",
      "8339  Jet Airways      12/03/2019  Banglore    18:55   New Delhi      0  11087\n",
      "8924  Jet Airways      12/03/2019  Banglore    18:55   New Delhi      0  11087\n"
     ]
    }
   ],
   "source": [
    "# Finder alle rækker der er identiske med mindst én anden (keep=False viser ALLE forekomster)\n",
    "fulde_duplikater = df[df.duplicated(keep=False)]\n",
    "\n",
    "# Udskriver samlet antal duplikerede rækker\n",
    "print(\"Antal fuldstændige duplikatrækker (inkl. kopier):\", fulde_duplikater.shape[0])\n",
    "\n",
    "# Viser et par eksempler på de duplikerede rækker\n",
    "print(\"\\nEksempler på duplikerede rækker:\")\n",
    "print(fulde_duplikater.head())\n",
    "\n",
    "# Tæller hvor mange af disse er faktiske kopier (ikke første forekomst)\n",
    "antal_egentlige_duplikater = df[df.duplicated(keep=False)].duplicated().sum()\n",
    "print(\"\\nAntal gentagelser (egentlige duplikater):\", antal_egentlige_duplikater)\n",
    "\n",
    "# Tjekker hvor mange unikke rækker er det der gentages?\n",
    "unikke_rækker = fulde_duplikater.drop_duplicates()\n",
    "print(\"Antal unikke rækker blandt de duplikerede:\", unikke_rækker.shape[0])\n",
    "\n",
    "# Eksempel 1: Række 2\n",
    "print(\"\\nForekomster af række 2:\")\n",
    "print(df[df.eq(df.loc[2]).all(axis=1)])\n",
    "\n",
    "# Eksempel 2: Række 6\n",
    "print(\"\\nForekomster af række 6:\")\n",
    "print(df[df.eq(df.loc[6]).all(axis=1)])"
   ]
  },
  {
   "cell_type": "code",
   "execution_count": 9,
   "id": "7456300a-354c-42d3-afd7-a5bf6ab36644",
   "metadata": {},
   "outputs": [
    {
     "name": "stdout",
     "output_type": "stream",
     "text": [
      "Datasættets nye størrelse efter sletning af duplikater: (8682, 7)\n"
     ]
    }
   ],
   "source": [
    "# Fjerner duplikaterne fra datasættet for at sikre, at kun unikke observationer er tilbage\n",
    "df = df.drop_duplicates()\n",
    "print(\"Datasættets nye størrelse efter sletning af duplikater:\", df.shape)"
   ]
  },
  {
   "cell_type": "markdown",
   "id": "59b17479-0774-4aea-9caf-4825c7deb85b",
   "metadata": {},
   "source": [
    "Datasættet indeholder ikke nogen manglende værdier, hverken som NaN eller null. Datatyperne består hovedsageligt af tekst (object), som vi vil konvertere til string, samt nogle numeriske kolonner, der er defineret som heltal (int64) og decimaltal (float64).\n",
    "\n",
    "Datasættet indeholder en del duplikater, hvor nogle rækker er præcist ens. Selvom duplikater kan være nyttige i nogle analyser, har vi valgt at fjerne dem her. Det gør vi for at sikre, at hver række i datasættet bidrager unikt til vores analyser og modeller. Ved at fjerne duplikaterne undgår vi, at nogle observationer får for stor vægt i analysen, hvilket kan påvirke resultaterne. Dette er vigtigt, både for lineær regression og andre statistiske analyser og maskinlæringsmodeller.\n",
    "\n",
    "Nu opdeles datasættet i to separate dataframes: en med numeriske værdier og en med nominelle (kategoriske) data, da det bliver lettere at arbejde med disse typer."
   ]
  },
  {
   "cell_type": "code",
   "execution_count": 11,
   "id": "825afce6-d1f9-499d-b6cd-5c38c79d6743",
   "metadata": {},
   "outputs": [],
   "source": [
    "# Fjerner 'Dep_Time' kolonnen, da den ikke er relevant for analysen\n",
    "df.drop(['Dep_Time'], axis=1, inplace=True) "
   ]
  },
  {
   "cell_type": "code",
   "execution_count": 12,
   "id": "30b18330-6035-48fb-82e0-1fc298c9b8fa",
   "metadata": {},
   "outputs": [],
   "source": [
    "# Konverterer 'Date_of_Journey' til datetime format for at gøre videre analyse nemmere\n",
    "df['Date_of_Journey'] = pd.to_datetime(df['Date_of_Journey'], format='%d/%m/%Y') \n",
    "\n",
    "# Opretter en ny kolonne 'Journey_month' som indeholder måneden fra 'Date_of_Journey'\n",
    "df['Journey_month'] = df['Date_of_Journey'].dt.month\n",
    "df['Journey_month'] = df['Journey_month'].astype('int64')  # Sikrer datatypen som int64 for konsistens"
   ]
  },
  {
   "cell_type": "code",
   "execution_count": 13,
   "id": "4e15d10c-b541-4f3d-8687-a8c2bb234e0e",
   "metadata": {},
   "outputs": [],
   "source": [
    "# Opdaterer den eksisterende 'Class' kolonne baseret på værdier i 'Airline' da den gamle kun havde 0 værdier\n",
    "df['Class'] = df['Airline'].apply(lambda x: 'Business' if 'Business' in x else ('Premium economy' if 'Premium economy' in x else 'Standard'))"
   ]
  },
  {
   "cell_type": "code",
   "execution_count": 14,
   "id": "1ee577f3-52e7-44e3-8b2e-9697991dc0ce",
   "metadata": {},
   "outputs": [
    {
     "data": {
      "text/html": [
       "<div>\n",
       "<style scoped>\n",
       "    .dataframe tbody tr th:only-of-type {\n",
       "        vertical-align: middle;\n",
       "    }\n",
       "\n",
       "    .dataframe tbody tr th {\n",
       "        vertical-align: top;\n",
       "    }\n",
       "\n",
       "    .dataframe thead th {\n",
       "        text-align: right;\n",
       "    }\n",
       "</style>\n",
       "<table border=\"1\" class=\"dataframe\">\n",
       "  <thead>\n",
       "    <tr style=\"text-align: right;\">\n",
       "      <th></th>\n",
       "      <th>Class</th>\n",
       "      <th>Price</th>\n",
       "      <th>Journey_month</th>\n",
       "      <th>Airline_Air Asia</th>\n",
       "      <th>Airline_Air India</th>\n",
       "      <th>Airline_GoAir</th>\n",
       "      <th>Airline_IndiGo</th>\n",
       "      <th>Airline_Jet Airways</th>\n",
       "      <th>Airline_Jet Airways Business</th>\n",
       "      <th>Airline_Multiple carriers</th>\n",
       "      <th>...</th>\n",
       "      <th>Date_of_Journey_2019-06-01 00:00:00</th>\n",
       "      <th>Date_of_Journey_2019-06-03 00:00:00</th>\n",
       "      <th>Date_of_Journey_2019-06-06 00:00:00</th>\n",
       "      <th>Date_of_Journey_2019-06-09 00:00:00</th>\n",
       "      <th>Date_of_Journey_2019-06-12 00:00:00</th>\n",
       "      <th>Date_of_Journey_2019-06-15 00:00:00</th>\n",
       "      <th>Date_of_Journey_2019-06-18 00:00:00</th>\n",
       "      <th>Date_of_Journey_2019-06-21 00:00:00</th>\n",
       "      <th>Date_of_Journey_2019-06-24 00:00:00</th>\n",
       "      <th>Date_of_Journey_2019-06-27 00:00:00</th>\n",
       "    </tr>\n",
       "  </thead>\n",
       "  <tbody>\n",
       "    <tr>\n",
       "      <th>6009</th>\n",
       "      <td>Standard</td>\n",
       "      <td>7144</td>\n",
       "      <td>5</td>\n",
       "      <td>0</td>\n",
       "      <td>0</td>\n",
       "      <td>0</td>\n",
       "      <td>1</td>\n",
       "      <td>0</td>\n",
       "      <td>0</td>\n",
       "      <td>0</td>\n",
       "      <td>...</td>\n",
       "      <td>0</td>\n",
       "      <td>0</td>\n",
       "      <td>0</td>\n",
       "      <td>0</td>\n",
       "      <td>0</td>\n",
       "      <td>0</td>\n",
       "      <td>0</td>\n",
       "      <td>0</td>\n",
       "      <td>0</td>\n",
       "      <td>0</td>\n",
       "    </tr>\n",
       "    <tr>\n",
       "      <th>8884</th>\n",
       "      <td>Standard</td>\n",
       "      <td>4804</td>\n",
       "      <td>5</td>\n",
       "      <td>0</td>\n",
       "      <td>0</td>\n",
       "      <td>0</td>\n",
       "      <td>1</td>\n",
       "      <td>0</td>\n",
       "      <td>0</td>\n",
       "      <td>0</td>\n",
       "      <td>...</td>\n",
       "      <td>0</td>\n",
       "      <td>0</td>\n",
       "      <td>0</td>\n",
       "      <td>0</td>\n",
       "      <td>0</td>\n",
       "      <td>0</td>\n",
       "      <td>0</td>\n",
       "      <td>0</td>\n",
       "      <td>0</td>\n",
       "      <td>0</td>\n",
       "    </tr>\n",
       "    <tr>\n",
       "      <th>3178</th>\n",
       "      <td>Standard</td>\n",
       "      <td>3873</td>\n",
       "      <td>4</td>\n",
       "      <td>0</td>\n",
       "      <td>0</td>\n",
       "      <td>0</td>\n",
       "      <td>0</td>\n",
       "      <td>0</td>\n",
       "      <td>0</td>\n",
       "      <td>0</td>\n",
       "      <td>...</td>\n",
       "      <td>0</td>\n",
       "      <td>0</td>\n",
       "      <td>0</td>\n",
       "      <td>0</td>\n",
       "      <td>0</td>\n",
       "      <td>0</td>\n",
       "      <td>0</td>\n",
       "      <td>0</td>\n",
       "      <td>0</td>\n",
       "      <td>0</td>\n",
       "    </tr>\n",
       "    <tr>\n",
       "      <th>3555</th>\n",
       "      <td>Standard</td>\n",
       "      <td>3573</td>\n",
       "      <td>4</td>\n",
       "      <td>0</td>\n",
       "      <td>0</td>\n",
       "      <td>0</td>\n",
       "      <td>0</td>\n",
       "      <td>0</td>\n",
       "      <td>0</td>\n",
       "      <td>0</td>\n",
       "      <td>...</td>\n",
       "      <td>0</td>\n",
       "      <td>0</td>\n",
       "      <td>0</td>\n",
       "      <td>0</td>\n",
       "      <td>0</td>\n",
       "      <td>0</td>\n",
       "      <td>0</td>\n",
       "      <td>0</td>\n",
       "      <td>0</td>\n",
       "      <td>0</td>\n",
       "    </tr>\n",
       "    <tr>\n",
       "      <th>4815</th>\n",
       "      <td>Standard</td>\n",
       "      <td>8938</td>\n",
       "      <td>3</td>\n",
       "      <td>0</td>\n",
       "      <td>0</td>\n",
       "      <td>0</td>\n",
       "      <td>0</td>\n",
       "      <td>0</td>\n",
       "      <td>0</td>\n",
       "      <td>1</td>\n",
       "      <td>...</td>\n",
       "      <td>0</td>\n",
       "      <td>0</td>\n",
       "      <td>0</td>\n",
       "      <td>0</td>\n",
       "      <td>0</td>\n",
       "      <td>0</td>\n",
       "      <td>0</td>\n",
       "      <td>0</td>\n",
       "      <td>0</td>\n",
       "      <td>0</td>\n",
       "    </tr>\n",
       "  </tbody>\n",
       "</table>\n",
       "<p>5 rows × 66 columns</p>\n",
       "</div>"
      ],
      "text/plain": [
       "         Class  Price  Journey_month  Airline_Air Asia  Airline_Air India  \\\n",
       "6009  Standard   7144              5                 0                  0   \n",
       "8884  Standard   4804              5                 0                  0   \n",
       "3178  Standard   3873              4                 0                  0   \n",
       "3555  Standard   3573              4                 0                  0   \n",
       "4815  Standard   8938              3                 0                  0   \n",
       "\n",
       "      Airline_GoAir  Airline_IndiGo  Airline_Jet Airways  \\\n",
       "6009              0               1                    0   \n",
       "8884              0               1                    0   \n",
       "3178              0               0                    0   \n",
       "3555              0               0                    0   \n",
       "4815              0               0                    0   \n",
       "\n",
       "      Airline_Jet Airways Business  Airline_Multiple carriers  ...  \\\n",
       "6009                             0                          0  ...   \n",
       "8884                             0                          0  ...   \n",
       "3178                             0                          0  ...   \n",
       "3555                             0                          0  ...   \n",
       "4815                             0                          1  ...   \n",
       "\n",
       "      Date_of_Journey_2019-06-01 00:00:00  \\\n",
       "6009                                    0   \n",
       "8884                                    0   \n",
       "3178                                    0   \n",
       "3555                                    0   \n",
       "4815                                    0   \n",
       "\n",
       "      Date_of_Journey_2019-06-03 00:00:00  \\\n",
       "6009                                    0   \n",
       "8884                                    0   \n",
       "3178                                    0   \n",
       "3555                                    0   \n",
       "4815                                    0   \n",
       "\n",
       "      Date_of_Journey_2019-06-06 00:00:00  \\\n",
       "6009                                    0   \n",
       "8884                                    0   \n",
       "3178                                    0   \n",
       "3555                                    0   \n",
       "4815                                    0   \n",
       "\n",
       "      Date_of_Journey_2019-06-09 00:00:00  \\\n",
       "6009                                    0   \n",
       "8884                                    0   \n",
       "3178                                    0   \n",
       "3555                                    0   \n",
       "4815                                    0   \n",
       "\n",
       "      Date_of_Journey_2019-06-12 00:00:00  \\\n",
       "6009                                    0   \n",
       "8884                                    0   \n",
       "3178                                    0   \n",
       "3555                                    0   \n",
       "4815                                    0   \n",
       "\n",
       "      Date_of_Journey_2019-06-15 00:00:00  \\\n",
       "6009                                    0   \n",
       "8884                                    0   \n",
       "3178                                    0   \n",
       "3555                                    0   \n",
       "4815                                    0   \n",
       "\n",
       "      Date_of_Journey_2019-06-18 00:00:00  \\\n",
       "6009                                    0   \n",
       "8884                                    0   \n",
       "3178                                    0   \n",
       "3555                                    0   \n",
       "4815                                    0   \n",
       "\n",
       "      Date_of_Journey_2019-06-21 00:00:00  \\\n",
       "6009                                    0   \n",
       "8884                                    0   \n",
       "3178                                    0   \n",
       "3555                                    0   \n",
       "4815                                    0   \n",
       "\n",
       "      Date_of_Journey_2019-06-24 00:00:00  Date_of_Journey_2019-06-27 00:00:00  \n",
       "6009                                    0                                    0  \n",
       "8884                                    0                                    0  \n",
       "3178                                    0                                    0  \n",
       "3555                                    0                                    0  \n",
       "4815                                    0                                    0  \n",
       "\n",
       "[5 rows x 66 columns]"
      ]
     },
     "execution_count": 14,
     "metadata": {},
     "output_type": "execute_result"
    }
   ],
   "source": [
    "# Udfører one-hot encoding på de kategoriske kolonner for at gøre dem numeriske og lettere at regressere på\n",
    "dfNumeric = pd.get_dummies(df, columns=['Airline', 'Source', 'Destination', 'Date_of_Journey'], dtype=pd.Int64Dtype())\n",
    "\n",
    "# Viser 5 tilfældige rækker af det transformerede datasæt\n",
    "dfNumeric.sample(5)"
   ]
  },
  {
   "cell_type": "code",
   "execution_count": 15,
   "id": "14445f87-1c60-4c56-9866-f5fc440f7499",
   "metadata": {},
   "outputs": [
    {
     "data": {
      "text/plain": [
       "Airline            string[python]\n",
       "Date_of_Journey    datetime64[ns]\n",
       "Source             string[python]\n",
       "Destination        string[python]\n",
       "Class              string[python]\n",
       "Price                       int64\n",
       "Journey_month               int64\n",
       "dtype: object"
      ]
     },
     "execution_count": 15,
     "metadata": {},
     "output_type": "execute_result"
    }
   ],
   "source": [
    "# Konverterer alle 'object'-kolonner til 'string'-type\n",
    "for col in df:\n",
    "    if df[col].dtype == 'object':\n",
    "        df[col] = df[col].astype('string')\n",
    "\n",
    "# Tjekker datatyperne efter konvertering\n",
    "df.dtypes"
   ]
  },
  {
   "cell_type": "markdown",
   "id": "2d461c8c-add5-43ee-8144-574bf2884939",
   "metadata": {},
   "source": [
    "# Dataudforskning"
   ]
  },
  {
   "cell_type": "code",
   "execution_count": 17,
   "id": "90e11bfa-4935-4773-9bb5-e21acabcfd5e",
   "metadata": {},
   "outputs": [
    {
     "data": {
      "text/html": [
       "<div>\n",
       "<style scoped>\n",
       "    .dataframe tbody tr th:only-of-type {\n",
       "        vertical-align: middle;\n",
       "    }\n",
       "\n",
       "    .dataframe tbody tr th {\n",
       "        vertical-align: top;\n",
       "    }\n",
       "\n",
       "    .dataframe thead th {\n",
       "        text-align: right;\n",
       "    }\n",
       "</style>\n",
       "<table border=\"1\" class=\"dataframe\">\n",
       "  <thead>\n",
       "    <tr style=\"text-align: right;\">\n",
       "      <th></th>\n",
       "      <th>Date_of_Journey</th>\n",
       "      <th>Price</th>\n",
       "      <th>Journey_month</th>\n",
       "    </tr>\n",
       "  </thead>\n",
       "  <tbody>\n",
       "    <tr>\n",
       "      <th>count</th>\n",
       "      <td>8682</td>\n",
       "      <td>8682.000000</td>\n",
       "      <td>8682.000000</td>\n",
       "    </tr>\n",
       "    <tr>\n",
       "      <th>mean</th>\n",
       "      <td>2019-05-04 12:20:24.049758208</td>\n",
       "      <td>8434.731283</td>\n",
       "      <td>4.695001</td>\n",
       "    </tr>\n",
       "    <tr>\n",
       "      <th>min</th>\n",
       "      <td>2019-03-01 00:00:00</td>\n",
       "      <td>1759.000000</td>\n",
       "      <td>3.000000</td>\n",
       "    </tr>\n",
       "    <tr>\n",
       "      <th>25%</th>\n",
       "      <td>2019-03-27 00:00:00</td>\n",
       "      <td>4823.000000</td>\n",
       "      <td>3.000000</td>\n",
       "    </tr>\n",
       "    <tr>\n",
       "      <th>50%</th>\n",
       "      <td>2019-05-15 00:00:00</td>\n",
       "      <td>7229.000000</td>\n",
       "      <td>5.000000</td>\n",
       "    </tr>\n",
       "    <tr>\n",
       "      <th>75%</th>\n",
       "      <td>2019-06-06 00:00:00</td>\n",
       "      <td>11410.000000</td>\n",
       "      <td>6.000000</td>\n",
       "    </tr>\n",
       "    <tr>\n",
       "      <th>max</th>\n",
       "      <td>2019-06-27 00:00:00</td>\n",
       "      <td>79512.000000</td>\n",
       "      <td>6.000000</td>\n",
       "    </tr>\n",
       "    <tr>\n",
       "      <th>std</th>\n",
       "      <td>NaN</td>\n",
       "      <td>4605.337734</td>\n",
       "      <td>1.164916</td>\n",
       "    </tr>\n",
       "  </tbody>\n",
       "</table>\n",
       "</div>"
      ],
      "text/plain": [
       "                     Date_of_Journey         Price  Journey_month\n",
       "count                           8682   8682.000000    8682.000000\n",
       "mean   2019-05-04 12:20:24.049758208   8434.731283       4.695001\n",
       "min              2019-03-01 00:00:00   1759.000000       3.000000\n",
       "25%              2019-03-27 00:00:00   4823.000000       3.000000\n",
       "50%              2019-05-15 00:00:00   7229.000000       5.000000\n",
       "75%              2019-06-06 00:00:00  11410.000000       6.000000\n",
       "max              2019-06-27 00:00:00  79512.000000       6.000000\n",
       "std                              NaN   4605.337734       1.164916"
      ]
     },
     "execution_count": 17,
     "metadata": {},
     "output_type": "execute_result"
    }
   ],
   "source": [
    "df.describe()"
   ]
  },
  {
   "cell_type": "markdown",
   "id": "7f92ab2c-89cc-4e00-a485-854b7b99e3ac",
   "metadata": {},
   "source": [
    "Date_of_Journey: Datoerne Strækker sig fra 1. marts til 27. juni 2019, med median omkring midt i maj.\n",
    "\n",
    "Price: Priserne varierer fra 1.759 til 79.512, med en gennemsnitlig pris på ca. 8.435.\n",
    "\n",
    "Journey_month: Rejserne fordeler sig over månederne marts (3) til juni (6), med flest rejser omkring april–maj (gennemsnit 4,7).\n",
    "\n",
    "Der er stor variation i priserne, hvilket sandsynligvis skyldes forskelle i sæson, rejseklasse og flyselskab.\n",
    "\n",
    "Standardafvigelsen vises som NaN for datoer, da det ikke er beregnbar, da det er en datetime-værdi"
   ]
  },
  {
   "cell_type": "code",
   "execution_count": 19,
   "id": "06620594-f033-4c8b-98b7-c2ceaa447ece",
   "metadata": {},
   "outputs": [
    {
     "data": {
      "text/plain": [
       "Index(['Airline', 'Date_of_Journey', 'Source', 'Destination', 'Class', 'Price',\n",
       "       'Journey_month'],\n",
       "      dtype='object')"
      ]
     },
     "execution_count": 19,
     "metadata": {},
     "output_type": "execute_result"
    }
   ],
   "source": [
    "df.columns"
   ]
  },
  {
   "cell_type": "markdown",
   "id": "b1f48a15-77f6-4d96-ade4-7646f83b1cce",
   "metadata": {},
   "source": [
    "Vi kan se, at dataene allerede er forholdsvis standardiserede, men lad os konvertere kolonnenavnene til at bruge \"x-y\" i stedet for \"x_y\" for at demonstrere muligheden for at forberede data."
   ]
  },
  {
   "cell_type": "code",
   "execution_count": 21,
   "id": "46426f61-f3bf-4c9b-88bb-003a3c93ee0f",
   "metadata": {},
   "outputs": [
    {
     "name": "stdout",
     "output_type": "stream",
     "text": [
      "Index(['AIRLINE', 'DATE-OF-JOURNEY', 'SOURCE', 'DESTINATION', 'CLASS', 'PRICE',\n",
      "       'JOURNEY-MONTH'],\n",
      "      dtype='object')\n"
     ]
    },
    {
     "data": {
      "text/plain": [
       "0"
      ]
     },
     "execution_count": 21,
     "metadata": {},
     "output_type": "execute_result"
    }
   ],
   "source": [
    "import gc\n",
    "\n",
    "dfStan = df.copy()\n",
    "\n",
    "# Skifter kolonnenavne til store bogstaver og erstatter \"_\" med \"-\"\n",
    "dfStan.columns = [col.upper().replace('_', '-') for col in dfStan.columns]\n",
    "\n",
    "print(dfStan.columns)\n",
    "\n",
    "del dfStan\n",
    "\n",
    "# Kører garbage collection for at rydde op i hukommelsen\n",
    "gc.collect()"
   ]
  },
  {
   "cell_type": "markdown",
   "id": "b7fd6eeb-2d96-4dfc-b923-3e40f6688d39",
   "metadata": {},
   "source": [
    "Som nævnt foretager vi ikke en permanent ændring af kolonnenavnene i datasættet, men viser blot, hvordan det kan gøres. \n",
    "\n",
    "Vi vælger dog at konvertere kolonnenavnene til små bogstaver, da det giver et pænere, mere ensartet og læsevenligt datasæt."
   ]
  },
  {
   "cell_type": "code",
   "execution_count": 23,
   "id": "82242d48-bc08-4152-b305-a86fe848a2a9",
   "metadata": {},
   "outputs": [
    {
     "name": "stdout",
     "output_type": "stream",
     "text": [
      "Index(['airline', 'date_of_journey', 'source', 'destination', 'class', 'price',\n",
      "       'journey_month'],\n",
      "      dtype='object')\n"
     ]
    }
   ],
   "source": [
    "# Skifter kolonnenavne til små bogstaver \n",
    "df.columns = [col.lower() for col in df.columns]\n",
    "\n",
    "print(df.columns)"
   ]
  },
  {
   "cell_type": "markdown",
   "id": "b5e40d0b-4f19-4ccc-b871-7129d25de597",
   "metadata": {},
   "source": [
    "For at lave en grundlæggende visualisering og udforske fordelingen af prisdataene, laver vi et histogram."
   ]
  },
  {
   "cell_type": "code",
   "execution_count": 25,
   "id": "3a97d1a9-cc84-4021-bcd4-198329bd9986",
   "metadata": {},
   "outputs": [
    {
     "data": {
      "image/png": "[encoded data removed]",
      "text/plain": [
       "<Figure size 1000x600 with 1 Axes>"
      ]
     },
     "metadata": {},
     "output_type": "display_data"
    },
    {
     "name": "stdout",
     "output_type": "stream",
     "text": [
      "Skævhed (Skewness): 2.24303381701942\n",
      "Kurtosis: 17.0167794296372\n",
      "Fordelingen er højreskæv (positiv skævhed).\n",
      "Fordelingen er spidsere end en normalfordeling (høj kurtosis).\n"
     ]
    }
   ],
   "source": [
    "from scipy.stats import skew, kurtosis  \n",
    "\n",
    "# Plotter histogram med KDE for prisfordeling\n",
    "plt.figure(figsize=(10, 6))\n",
    "sns.histplot(df['price'], kde=True, bins=50)\n",
    "plt.title('Fordeling af Priser')\n",
    "plt.ylabel('Antal')\n",
    "plt.xlabel('Pris')\n",
    "plt.show()\n",
    "\n",
    "# Beregning af skævhed og kurtosis\n",
    "skewness = skew(df['price'].dropna())  # Fjerner NaN-værdier før beregning\n",
    "kurt = kurtosis(df['price'].dropna())  # Fjerner NaN-værdier før beregning\n",
    "\n",
    "# Udskriv resultaterne\n",
    "print(f\"Skævhed (Skewness): {skewness}\")\n",
    "print(f\"Kurtosis: {kurt}\")\n",
    "\n",
    "# Tolkning af skævhed og kurtosis:\n",
    "if skewness > 0:\n",
    "    print(\"Fordelingen er højreskæv (positiv skævhed).\")\n",
    "elif skewness < 0:\n",
    "    print(\"Fordelingen er venstreskæv (negativ skævhed).\")\n",
    "else:\n",
    "    print(\"Fordelingen er symmetrisk.\")\n",
    "\n",
    "if kurt > 3:\n",
    "    print(\"Fordelingen er spidsere end en normalfordeling (høj kurtosis).\")\n",
    "elif kurt < 3:\n",
    "    print(\"Fordelingen er fladere end en normalfordeling (lav kurtosis).\")\n",
    "else:\n",
    "    print(\"Fordelingen har samme spidshed som en normalfordeling.\")\n"
   ]
  },
  {
   "cell_type": "markdown",
   "id": "dd51825d-6049-45ea-87be-7e405c48de1d",
   "metadata": {},
   "source": [
    "Fordelingen er højreskæv (positiv skævhed), hvilket betyder, at der er flere lavere værdier, og den højre hale af fordelingen er længere.\n",
    "\n",
    "Fordelingen har også høj kurtosis, hvilket indikerer, at dataene er spidsere end en normalfordeling, og der er flere ekstreme værdier (outliers) end vi ville forvente i en normalfordeling. Dette tyder på, at vores data kan indeholde nogle ekstreme observationer, som vi vil fjerne ved hjælp af z-score teknikken for at forbedre modellens præcision."
   ]
  }
 ],
 "metadata": {
  "kernelspec": {
   "display_name": "Python [conda env:base] *",
   "language": "python",
   "name": "conda-base-py"
  },
  "language_info": {
   "codemirror_mode": {
    "name": "ipython",
    "version": 3
   },
   "file_extension": ".py",
   "mimetype": "text/x-python",
   "name": "python",
   "nbconvert_exporter": "python",
   "pygments_lexer": "ipython3",
   "version": "3.12.7"
  }
 },
 "nbformat": 4,
 "nbformat_minor": 5
}
