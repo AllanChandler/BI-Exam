{
 "cells": [
  {
   "cell_type": "markdown",
   "id": "7fd17b7f-1e75-448a-bd11-3f2d83d9dffa",
   "metadata": {},
   "source": [
    "# Importerer nødvendige biblioteker"
   ]
  },
  {
   "cell_type": "code",
   "execution_count": 2,
   "id": "e42afdb3-6485-4138-9806-8bd275d13ed6",
   "metadata": {},
   "outputs": [],
   "source": [
    "import pandas as pd\n",
    "import numpy as np\n",
    "import matplotlib.pyplot as plt\n",
    "import seaborn as sns"
   ]
  },
  {
   "cell_type": "markdown",
   "id": "fd1d734b-7a95-4da5-aa35-45f3cde61e4b",
   "metadata": {},
   "source": [
    "# Indlæsning af data"
   ]
  },
  {
   "cell_type": "code",
   "execution_count": 4,
   "id": "04d39b6c-e15a-4de7-a9d8-09d06fab59bd",
   "metadata": {},
   "outputs": [
    {
     "data": {
      "text/html": [
       "<div>\n",
       "<style scoped>\n",
       "    .dataframe tbody tr th:only-of-type {\n",
       "        vertical-align: middle;\n",
       "    }\n",
       "\n",
       "    .dataframe tbody tr th {\n",
       "        vertical-align: top;\n",
       "    }\n",
       "\n",
       "    .dataframe thead th {\n",
       "        text-align: right;\n",
       "    }\n",
       "</style>\n",
       "<table border=\"1\" class=\"dataframe\">\n",
       "  <thead>\n",
       "    <tr style=\"text-align: right;\">\n",
       "      <th></th>\n",
       "      <th>airline</th>\n",
       "      <th>flight</th>\n",
       "      <th>source_city</th>\n",
       "      <th>departure_time</th>\n",
       "      <th>stops</th>\n",
       "      <th>arrival_time</th>\n",
       "      <th>destination_city</th>\n",
       "      <th>class</th>\n",
       "      <th>duration</th>\n",
       "      <th>days_left</th>\n",
       "      <th>price</th>\n",
       "    </tr>\n",
       "  </thead>\n",
       "  <tbody>\n",
       "    <tr>\n",
       "      <th>42028</th>\n",
       "      <td>Indigo</td>\n",
       "      <td>6E-2028</td>\n",
       "      <td>Delhi</td>\n",
       "      <td>Afternoon</td>\n",
       "      <td>one</td>\n",
       "      <td>Night</td>\n",
       "      <td>Chennai</td>\n",
       "      <td>Economy</td>\n",
       "      <td>8.25</td>\n",
       "      <td>43</td>\n",
       "      <td>4729</td>\n",
       "    </tr>\n",
       "    <tr>\n",
       "      <th>130787</th>\n",
       "      <td>Air_India</td>\n",
       "      <td>AI-770</td>\n",
       "      <td>Kolkata</td>\n",
       "      <td>Night</td>\n",
       "      <td>one</td>\n",
       "      <td>Night</td>\n",
       "      <td>Mumbai</td>\n",
       "      <td>Economy</td>\n",
       "      <td>26.92</td>\n",
       "      <td>22</td>\n",
       "      <td>6786</td>\n",
       "    </tr>\n",
       "    <tr>\n",
       "      <th>51379</th>\n",
       "      <td>GO_FIRST</td>\n",
       "      <td>G8-7536</td>\n",
       "      <td>Mumbai</td>\n",
       "      <td>Afternoon</td>\n",
       "      <td>zero</td>\n",
       "      <td>Afternoon</td>\n",
       "      <td>Delhi</td>\n",
       "      <td>Economy</td>\n",
       "      <td>2.08</td>\n",
       "      <td>43</td>\n",
       "      <td>2339</td>\n",
       "    </tr>\n",
       "    <tr>\n",
       "      <th>281856</th>\n",
       "      <td>Vistara</td>\n",
       "      <td>UK-876</td>\n",
       "      <td>Hyderabad</td>\n",
       "      <td>Night</td>\n",
       "      <td>one</td>\n",
       "      <td>Evening</td>\n",
       "      <td>Bangalore</td>\n",
       "      <td>Business</td>\n",
       "      <td>20.17</td>\n",
       "      <td>30</td>\n",
       "      <td>38099</td>\n",
       "    </tr>\n",
       "    <tr>\n",
       "      <th>4584</th>\n",
       "      <td>SpiceJet</td>\n",
       "      <td>SG-2976</td>\n",
       "      <td>Delhi</td>\n",
       "      <td>Evening</td>\n",
       "      <td>one</td>\n",
       "      <td>Night</td>\n",
       "      <td>Mumbai</td>\n",
       "      <td>Economy</td>\n",
       "      <td>4.50</td>\n",
       "      <td>24</td>\n",
       "      <td>5613</td>\n",
       "    </tr>\n",
       "  </tbody>\n",
       "</table>\n",
       "</div>"
      ],
      "text/plain": [
       "          airline   flight source_city departure_time stops arrival_time  \\\n",
       "42028      Indigo  6E-2028       Delhi      Afternoon   one        Night   \n",
       "130787  Air_India   AI-770     Kolkata          Night   one        Night   \n",
       "51379    GO_FIRST  G8-7536      Mumbai      Afternoon  zero    Afternoon   \n",
       "281856    Vistara   UK-876   Hyderabad          Night   one      Evening   \n",
       "4584     SpiceJet  SG-2976       Delhi        Evening   one        Night   \n",
       "\n",
       "       destination_city     class  duration  days_left  price  \n",
       "42028           Chennai   Economy      8.25         43   4729  \n",
       "130787           Mumbai   Economy     26.92         22   6786  \n",
       "51379             Delhi   Economy      2.08         43   2339  \n",
       "281856        Bangalore  Business     20.17         30  38099  \n",
       "4584             Mumbai   Economy      4.50         24   5613  "
      ]
     },
     "execution_count": 4,
     "metadata": {},
     "output_type": "execute_result"
    }
   ],
   "source": [
    "df = pd.read_csv('../data/Clean_Dataset.csv', index_col=0)\n",
    "df.sample(5)"
   ]
  },
  {
   "cell_type": "markdown",
   "id": "422c262d-cf43-48a2-826b-57e930f27ea1",
   "metadata": {},
   "source": [
    "Vi har importeret dataene og lavet en hurtig gennemgang for at få et overblik over datasættet. Nu går vi videre med at forberede og rense dataene, så de er klar til analyse."
   ]
  },
  {
   "cell_type": "markdown",
   "id": "e4c9d559-59d1-4195-b0fc-7c2510f63653",
   "metadata": {},
   "source": [
    "# Rensning af data"
   ]
  },
  {
   "cell_type": "code",
   "execution_count": 7,
   "id": "237a898d-ec93-4184-bbaf-12128596bb64",
   "metadata": {},
   "outputs": [
    {
     "name": "stdout",
     "output_type": "stream",
     "text": [
      "Tjekker for manglende værdier:\n",
      "airline             0\n",
      "flight              0\n",
      "source_city         0\n",
      "departure_time      0\n",
      "stops               0\n",
      "arrival_time        0\n",
      "destination_city    0\n",
      "class               0\n",
      "duration            0\n",
      "days_left           0\n",
      "price               0\n",
      "dtype: int64\n",
      "Tjekker for NaN-værdier:\n",
      "airline             0\n",
      "flight              0\n",
      "source_city         0\n",
      "departure_time      0\n",
      "stops               0\n",
      "arrival_time        0\n",
      "destination_city    0\n",
      "class               0\n",
      "duration            0\n",
      "days_left           0\n",
      "price               0\n",
      "dtype: int64\n",
      "Tjekker for datatyper:\n",
      "<class 'pandas.core.frame.DataFrame'>\n",
      "Index: 300153 entries, 0 to 300152\n",
      "Data columns (total 11 columns):\n",
      " #   Column            Non-Null Count   Dtype  \n",
      "---  ------            --------------   -----  \n",
      " 0   airline           300153 non-null  object \n",
      " 1   flight            300153 non-null  object \n",
      " 2   source_city       300153 non-null  object \n",
      " 3   departure_time    300153 non-null  object \n",
      " 4   stops             300153 non-null  object \n",
      " 5   arrival_time      300153 non-null  object \n",
      " 6   destination_city  300153 non-null  object \n",
      " 7   class             300153 non-null  object \n",
      " 8   duration          300153 non-null  float64\n",
      " 9   days_left         300153 non-null  int64  \n",
      " 10  price             300153 non-null  int64  \n",
      "dtypes: float64(1), int64(2), object(8)\n",
      "memory usage: 27.5+ MB\n",
      "None\n",
      "Tjekker for duplikater:\n",
      "0\n"
     ]
    }
   ],
   "source": [
    "# Tjekker for manglende værdier\n",
    "print(\"Tjekker for manglende værdier:\")\n",
    "print(df.isnull().sum())\n",
    "\n",
    "# Tjekker for NaN-værdier\n",
    "print(\"Tjekker for NaN-værdier:\")\n",
    "print(df.isna().sum())\n",
    "\n",
    "# Tjekker for datatyper\n",
    "print(\"Tjekker for datatyper:\")\n",
    "print(df.info())\n",
    "\n",
    "# Tjekker for duplikater\n",
    "print(\"Tjekker for duplikater:\")\n",
    "print(df.duplicated().sum()) "
   ]
  },
  {
   "cell_type": "code",
   "execution_count": 8,
   "id": "2d8bd6ed-6ed4-4505-abda-a196f7e5000b",
   "metadata": {},
   "outputs": [
    {
     "data": {
      "text/plain": [
       "(300153, 11)"
      ]
     },
     "execution_count": 8,
     "metadata": {},
     "output_type": "execute_result"
    }
   ],
   "source": [
    "df.shape"
   ]
  },
  {
   "cell_type": "markdown",
   "id": "f0dafca2-3322-40f7-aabb-ec72217cb1a5",
   "metadata": {},
   "source": [
    "Som man kan se, indeholder datasættet ikke nogen manglende værdier, hverken som NaN eller null. Derudover består datatyperne primært af tekstdata (object), som nu skal konverteres til string, samt nogle numeriske kolonner i form af heltal (int64) og decimaltal (float64).\n",
    "\n",
    "Der er heller ingen duplikater i datasættet, hvilket betyder, at der ikke er behov for rensning af dataen.\n",
    "\n",
    "Nu opdeles datasættet i to separate dataframes: en med numeriske værdier og en med nominelle (kategoriske) data, så det bliver lettere at arbejde målrettet med hver type."
   ]
  },
  {
   "cell_type": "code",
   "execution_count": 10,
   "id": "d0842c67-ef46-4ea2-a815-aea743704a3d",
   "metadata": {},
   "outputs": [],
   "source": [
    "# Fjerner 'flight' kolonnen, da den kun er en identifikator og ikke bidrager til analysen\n",
    "df.drop(['flight'], axis=1, inplace=True)  \n",
    "\n",
    "# Fjerner 'departure_time' kolonnen, da den ikke er relevant for vores forskningsspørgsmål om dage før afrejse og antal stop\n",
    "df.drop(['departure_time'], axis=1, inplace=True)  \n",
    "\n",
    "# Fjerner 'arrival_time' kolonnen, da den ikke er relevant for vores forskningsspørgsmål om dage før afrejse og antal stop\n",
    "df.drop(['arrival_time'], axis=1, inplace=True)  "
   ]
  },
  {
   "cell_type": "code",
   "execution_count": 11,
   "id": "47169aa7-99b2-4f91-aaaa-6f2e9cef1cd5",
   "metadata": {},
   "outputs": [
    {
     "data": {
      "text/html": [
       "<div>\n",
       "<style scoped>\n",
       "    .dataframe tbody tr th:only-of-type {\n",
       "        vertical-align: middle;\n",
       "    }\n",
       "\n",
       "    .dataframe tbody tr th {\n",
       "        vertical-align: top;\n",
       "    }\n",
       "\n",
       "    .dataframe thead th {\n",
       "        text-align: right;\n",
       "    }\n",
       "</style>\n",
       "<table border=\"1\" class=\"dataframe\">\n",
       "  <thead>\n",
       "    <tr style=\"text-align: right;\">\n",
       "      <th></th>\n",
       "      <th>duration</th>\n",
       "      <th>days_left</th>\n",
       "      <th>price</th>\n",
       "      <th>airline_AirAsia</th>\n",
       "      <th>airline_Air_India</th>\n",
       "      <th>airline_GO_FIRST</th>\n",
       "      <th>airline_Indigo</th>\n",
       "      <th>airline_SpiceJet</th>\n",
       "      <th>airline_Vistara</th>\n",
       "      <th>source_city_Bangalore</th>\n",
       "      <th>...</th>\n",
       "      <th>stops_two_or_more</th>\n",
       "      <th>stops_zero</th>\n",
       "      <th>destination_city_Bangalore</th>\n",
       "      <th>destination_city_Chennai</th>\n",
       "      <th>destination_city_Delhi</th>\n",
       "      <th>destination_city_Hyderabad</th>\n",
       "      <th>destination_city_Kolkata</th>\n",
       "      <th>destination_city_Mumbai</th>\n",
       "      <th>class_Business</th>\n",
       "      <th>class_Economy</th>\n",
       "    </tr>\n",
       "  </thead>\n",
       "  <tbody>\n",
       "    <tr>\n",
       "      <th>206395</th>\n",
       "      <td>19.92</td>\n",
       "      <td>46</td>\n",
       "      <td>4086</td>\n",
       "      <td>0</td>\n",
       "      <td>0</td>\n",
       "      <td>0</td>\n",
       "      <td>0</td>\n",
       "      <td>0</td>\n",
       "      <td>1</td>\n",
       "      <td>0</td>\n",
       "      <td>...</td>\n",
       "      <td>0</td>\n",
       "      <td>0</td>\n",
       "      <td>0</td>\n",
       "      <td>0</td>\n",
       "      <td>0</td>\n",
       "      <td>1</td>\n",
       "      <td>0</td>\n",
       "      <td>0</td>\n",
       "      <td>0</td>\n",
       "      <td>1</td>\n",
       "    </tr>\n",
       "    <tr>\n",
       "      <th>66426</th>\n",
       "      <td>2.58</td>\n",
       "      <td>29</td>\n",
       "      <td>4499</td>\n",
       "      <td>0</td>\n",
       "      <td>0</td>\n",
       "      <td>0</td>\n",
       "      <td>1</td>\n",
       "      <td>0</td>\n",
       "      <td>0</td>\n",
       "      <td>0</td>\n",
       "      <td>...</td>\n",
       "      <td>0</td>\n",
       "      <td>1</td>\n",
       "      <td>0</td>\n",
       "      <td>0</td>\n",
       "      <td>0</td>\n",
       "      <td>0</td>\n",
       "      <td>1</td>\n",
       "      <td>0</td>\n",
       "      <td>0</td>\n",
       "      <td>1</td>\n",
       "    </tr>\n",
       "    <tr>\n",
       "      <th>86306</th>\n",
       "      <td>5.50</td>\n",
       "      <td>13</td>\n",
       "      <td>10744</td>\n",
       "      <td>0</td>\n",
       "      <td>1</td>\n",
       "      <td>0</td>\n",
       "      <td>0</td>\n",
       "      <td>0</td>\n",
       "      <td>0</td>\n",
       "      <td>1</td>\n",
       "      <td>...</td>\n",
       "      <td>0</td>\n",
       "      <td>0</td>\n",
       "      <td>0</td>\n",
       "      <td>0</td>\n",
       "      <td>1</td>\n",
       "      <td>0</td>\n",
       "      <td>0</td>\n",
       "      <td>0</td>\n",
       "      <td>0</td>\n",
       "      <td>1</td>\n",
       "    </tr>\n",
       "    <tr>\n",
       "      <th>21795</th>\n",
       "      <td>2.08</td>\n",
       "      <td>12</td>\n",
       "      <td>5955</td>\n",
       "      <td>0</td>\n",
       "      <td>0</td>\n",
       "      <td>0</td>\n",
       "      <td>0</td>\n",
       "      <td>0</td>\n",
       "      <td>1</td>\n",
       "      <td>0</td>\n",
       "      <td>...</td>\n",
       "      <td>0</td>\n",
       "      <td>1</td>\n",
       "      <td>0</td>\n",
       "      <td>0</td>\n",
       "      <td>0</td>\n",
       "      <td>0</td>\n",
       "      <td>1</td>\n",
       "      <td>0</td>\n",
       "      <td>0</td>\n",
       "      <td>1</td>\n",
       "    </tr>\n",
       "    <tr>\n",
       "      <th>233961</th>\n",
       "      <td>17.50</td>\n",
       "      <td>47</td>\n",
       "      <td>54608</td>\n",
       "      <td>0</td>\n",
       "      <td>1</td>\n",
       "      <td>0</td>\n",
       "      <td>0</td>\n",
       "      <td>0</td>\n",
       "      <td>0</td>\n",
       "      <td>0</td>\n",
       "      <td>...</td>\n",
       "      <td>0</td>\n",
       "      <td>0</td>\n",
       "      <td>1</td>\n",
       "      <td>0</td>\n",
       "      <td>0</td>\n",
       "      <td>0</td>\n",
       "      <td>0</td>\n",
       "      <td>0</td>\n",
       "      <td>1</td>\n",
       "      <td>0</td>\n",
       "    </tr>\n",
       "  </tbody>\n",
       "</table>\n",
       "<p>5 rows × 26 columns</p>\n",
       "</div>"
      ],
      "text/plain": [
       "        duration  days_left  price  airline_AirAsia  airline_Air_India  \\\n",
       "206395     19.92         46   4086                0                  0   \n",
       "66426       2.58         29   4499                0                  0   \n",
       "86306       5.50         13  10744                0                  1   \n",
       "21795       2.08         12   5955                0                  0   \n",
       "233961     17.50         47  54608                0                  1   \n",
       "\n",
       "        airline_GO_FIRST  airline_Indigo  airline_SpiceJet  airline_Vistara  \\\n",
       "206395                 0               0                 0                1   \n",
       "66426                  0               1                 0                0   \n",
       "86306                  0               0                 0                0   \n",
       "21795                  0               0                 0                1   \n",
       "233961                 0               0                 0                0   \n",
       "\n",
       "        source_city_Bangalore  ...  stops_two_or_more  stops_zero  \\\n",
       "206395                      0  ...                  0           0   \n",
       "66426                       0  ...                  0           1   \n",
       "86306                       1  ...                  0           0   \n",
       "21795                       0  ...                  0           1   \n",
       "233961                      0  ...                  0           0   \n",
       "\n",
       "        destination_city_Bangalore  destination_city_Chennai  \\\n",
       "206395                           0                         0   \n",
       "66426                            0                         0   \n",
       "86306                            0                         0   \n",
       "21795                            0                         0   \n",
       "233961                           1                         0   \n",
       "\n",
       "        destination_city_Delhi  destination_city_Hyderabad  \\\n",
       "206395                       0                           1   \n",
       "66426                        0                           0   \n",
       "86306                        1                           0   \n",
       "21795                        0                           0   \n",
       "233961                       0                           0   \n",
       "\n",
       "        destination_city_Kolkata  destination_city_Mumbai  class_Business  \\\n",
       "206395                         0                        0               0   \n",
       "66426                          1                        0               0   \n",
       "86306                          0                        0               0   \n",
       "21795                          1                        0               0   \n",
       "233961                         0                        0               1   \n",
       "\n",
       "        class_Economy  \n",
       "206395              1  \n",
       "66426               1  \n",
       "86306               1  \n",
       "21795               1  \n",
       "233961              0  \n",
       "\n",
       "[5 rows x 26 columns]"
      ]
     },
     "execution_count": 11,
     "metadata": {},
     "output_type": "execute_result"
    }
   ],
   "source": [
    "# Udfører one-hot encoding på de kategoriske kolonner for at gøre dem numeriske og lettere at regressere på\n",
    "dfNumeric = pd.get_dummies(df, columns=['airline', 'source_city', 'stops', 'destination_city', 'class'], dtype=pd.Int64Dtype())\n",
    "\n",
    "# Viser 5 tilfældige rækker af det transformerede datasæt\n",
    "dfNumeric.sample(5)"
   ]
  },
  {
   "cell_type": "code",
   "execution_count": 12,
   "id": "3e5f99bb-7403-43aa-b6c9-15659f6fd016",
   "metadata": {},
   "outputs": [
    {
     "data": {
      "text/plain": [
       "airline             string[python]\n",
       "source_city         string[python]\n",
       "stops               string[python]\n",
       "destination_city    string[python]\n",
       "class               string[python]\n",
       "duration                   float64\n",
       "days_left                    int64\n",
       "price                        int64\n",
       "dtype: object"
      ]
     },
     "execution_count": 12,
     "metadata": {},
     "output_type": "execute_result"
    }
   ],
   "source": [
    "# Konverterer alle 'object'-kolonner til 'string'-type\n",
    "for col in df:\n",
    "    if df[col].dtype == 'object':\n",
    "        df[col] = df[col].astype('string')\n",
    "\n",
    "# Tjekker datatyperne efter konvertering\n",
    "df.dtypes"
   ]
  },
  {
   "cell_type": "markdown",
   "id": "b7d93fe3-c3d9-4614-aa99-643dc9cf2061",
   "metadata": {},
   "source": [
    "# Dataudforskning"
   ]
  },
  {
   "cell_type": "code",
   "execution_count": 14,
   "id": "4b84fa8a-9fb6-473d-b7cd-6afdced6abb2",
   "metadata": {},
   "outputs": [
    {
     "data": {
      "text/html": [
       "<div>\n",
       "<style scoped>\n",
       "    .dataframe tbody tr th:only-of-type {\n",
       "        vertical-align: middle;\n",
       "    }\n",
       "\n",
       "    .dataframe tbody tr th {\n",
       "        vertical-align: top;\n",
       "    }\n",
       "\n",
       "    .dataframe thead th {\n",
       "        text-align: right;\n",
       "    }\n",
       "</style>\n",
       "<table border=\"1\" class=\"dataframe\">\n",
       "  <thead>\n",
       "    <tr style=\"text-align: right;\">\n",
       "      <th></th>\n",
       "      <th>duration</th>\n",
       "      <th>days_left</th>\n",
       "      <th>price</th>\n",
       "    </tr>\n",
       "  </thead>\n",
       "  <tbody>\n",
       "    <tr>\n",
       "      <th>count</th>\n",
       "      <td>300153.000000</td>\n",
       "      <td>300153.000000</td>\n",
       "      <td>300153.000000</td>\n",
       "    </tr>\n",
       "    <tr>\n",
       "      <th>mean</th>\n",
       "      <td>12.221021</td>\n",
       "      <td>26.004751</td>\n",
       "      <td>20889.660523</td>\n",
       "    </tr>\n",
       "    <tr>\n",
       "      <th>std</th>\n",
       "      <td>7.191997</td>\n",
       "      <td>13.561004</td>\n",
       "      <td>22697.767366</td>\n",
       "    </tr>\n",
       "    <tr>\n",
       "      <th>min</th>\n",
       "      <td>0.830000</td>\n",
       "      <td>1.000000</td>\n",
       "      <td>1105.000000</td>\n",
       "    </tr>\n",
       "    <tr>\n",
       "      <th>25%</th>\n",
       "      <td>6.830000</td>\n",
       "      <td>15.000000</td>\n",
       "      <td>4783.000000</td>\n",
       "    </tr>\n",
       "    <tr>\n",
       "      <th>50%</th>\n",
       "      <td>11.250000</td>\n",
       "      <td>26.000000</td>\n",
       "      <td>7425.000000</td>\n",
       "    </tr>\n",
       "    <tr>\n",
       "      <th>75%</th>\n",
       "      <td>16.170000</td>\n",
       "      <td>38.000000</td>\n",
       "      <td>42521.000000</td>\n",
       "    </tr>\n",
       "    <tr>\n",
       "      <th>max</th>\n",
       "      <td>49.830000</td>\n",
       "      <td>49.000000</td>\n",
       "      <td>123071.000000</td>\n",
       "    </tr>\n",
       "  </tbody>\n",
       "</table>\n",
       "</div>"
      ],
      "text/plain": [
       "            duration      days_left          price\n",
       "count  300153.000000  300153.000000  300153.000000\n",
       "mean       12.221021      26.004751   20889.660523\n",
       "std         7.191997      13.561004   22697.767366\n",
       "min         0.830000       1.000000    1105.000000\n",
       "25%         6.830000      15.000000    4783.000000\n",
       "50%        11.250000      26.000000    7425.000000\n",
       "75%        16.170000      38.000000   42521.000000\n",
       "max        49.830000      49.000000  123071.000000"
      ]
     },
     "execution_count": 14,
     "metadata": {},
     "output_type": "execute_result"
    }
   ],
   "source": [
    "df.describe()"
   ]
  },
  {
   "cell_type": "markdown",
   "id": "7d044fab-f0c3-46b0-af1b-395712b3fc03",
   "metadata": {},
   "source": [
    "Duration: Varierer fra 0,83 til 49,83 timer, med et gennemsnit på 12,22 timer.\n",
    "\n",
    "Days_Left: Varierer fra 1 til 49 dage, med et gennemsnit på 26 dage.\n",
    "\n",
    "Price: Priserne spænder fra 1.105 til 123.071, med en gennemsnitlig pris på 20.890.\n",
    "\n",
    "Der er stor variation i priserne, hvilket sandsynligvis skyldes forskelle i sæson, rejseklasse og flyselskab."
   ]
  },
  {
   "cell_type": "code",
   "execution_count": 16,
   "id": "c7f7a414-b01c-4ba9-9a96-08fa434fc15a",
   "metadata": {},
   "outputs": [
    {
     "data": {
      "text/plain": [
       "Index(['airline', 'source_city', 'stops', 'destination_city', 'class',\n",
       "       'duration', 'days_left', 'price'],\n",
       "      dtype='object')"
      ]
     },
     "execution_count": 16,
     "metadata": {},
     "output_type": "execute_result"
    }
   ],
   "source": [
    "df.columns"
   ]
  },
  {
   "cell_type": "markdown",
   "id": "c3837826-5de1-41ed-a64b-79dcce45bc7d",
   "metadata": {},
   "source": [
    "Vi kan se, at dataene allerede er forholdsvis standardiserede, men lad os konvertere kolonnenavnene til at bruge \"x-y\" i stedet for \"x_y\" for at demonstrere muligheden for at forberede data."
   ]
  },
  {
   "cell_type": "code",
   "execution_count": 18,
   "id": "3a24ac20-0d3d-46a4-9c08-c7038f224a83",
   "metadata": {},
   "outputs": [
    {
     "name": "stdout",
     "output_type": "stream",
     "text": [
      "Index(['AIRLINE', 'SOURCE-CITY', 'STOPS', 'DESTINATION-CITY', 'CLASS',\n",
      "       'DURATION', 'DAYS-LEFT', 'PRICE'],\n",
      "      dtype='object')\n"
     ]
    },
    {
     "data": {
      "text/plain": [
       "0"
      ]
     },
     "execution_count": 18,
     "metadata": {},
     "output_type": "execute_result"
    }
   ],
   "source": [
    "import gc\n",
    "\n",
    "dfStan = df.copy()\n",
    "\n",
    "# Skifter kolonnenavne til store bogstaver og erstatter \"_\" med \"-\"\n",
    "dfStan.columns = [col.upper().replace('_', '-') for col in dfStan.columns]\n",
    "\n",
    "print(dfStan.columns)\n",
    "\n",
    "del dfStan\n",
    "\n",
    "# Kører garbage collection for at rydde op i hukommelsen\n",
    "gc.collect()"
   ]
  },
  {
   "cell_type": "markdown",
   "id": "63a3edfb-34b8-475f-a601-5eff1d0f681c",
   "metadata": {},
   "source": [
    "Som nævnt foretager vi ikke en permanent ændring af kolonnenavnene i datasættet, men viser blot, hvordan det kan gøres."
   ]
  },
  {
   "cell_type": "markdown",
   "id": "e1842c37-d213-48f3-8638-4ef34e74ac89",
   "metadata": {},
   "source": [
    "For at lave en grundlæggende visualisering og udforske fordelingen af prisdataene, laver vi et histogram."
   ]
  },
  {
   "cell_type": "code",
   "execution_count": 21,
   "id": "ec4c8a61-aa59-4f21-81f7-d540b641dec6",
   "metadata": {},
   "outputs": [
    {
     "data": {
      "image/png": "[encoded data removed]",
      "text/plain": [
       "<Figure size 1000x600 with 1 Axes>"
      ]
     },
     "metadata": {},
     "output_type": "display_data"
    },
    {
     "name": "stdout",
     "output_type": "stream",
     "text": [
      "Skævhed (Skewness): 1.0613719490179376\n",
      "Kurtosis: -0.3963061069535949\n",
      "Fordelingen er højreskæv (positiv skævhed).\n",
      "Fordelingen er fladere end en normalfordeling (lav kurtosis).\n"
     ]
    }
   ],
   "source": [
    "from scipy.stats import skew, kurtosis  \n",
    "\n",
    "# Plotter histogram med KDE for prisfordeling\n",
    "plt.figure(figsize=(10, 6))\n",
    "sns.histplot(df['price'], kde=True, bins=50)\n",
    "plt.title('Fordeling af Priser')\n",
    "plt.ylabel('Antal')\n",
    "plt.xlabel('Pris')\n",
    "plt.show()\n",
    "\n",
    "# Beregning af skævhed og kurtosis\n",
    "skewness = skew(df['price'].dropna())  # Fjerner NaN-værdier før beregning\n",
    "kurt = kurtosis(df['price'].dropna())  # Fjerner NaN-værdier før beregning\n",
    "\n",
    "# Udskriver resultaterne\n",
    "print(f\"Skævhed (Skewness): {skewness}\")\n",
    "print(f\"Kurtosis: {kurt}\")\n",
    "\n",
    "# Tolkning af skævhed og kurtosis:\n",
    "if skewness > 0:\n",
    "    print(\"Fordelingen er højreskæv (positiv skævhed).\")\n",
    "elif skewness < 0:\n",
    "    print(\"Fordelingen er venstreskæv (negativ skævhed).\")\n",
    "else:\n",
    "    print(\"Fordelingen er symmetrisk.\")\n",
    "\n",
    "if kurt > 3:\n",
    "    print(\"Fordelingen er spidsere end en normalfordeling (høj kurtosis).\")\n",
    "elif kurt < 3:\n",
    "    print(\"Fordelingen er fladere end en normalfordeling (lav kurtosis).\")\n",
    "else:\n",
    "    print(\"Fordelingen har samme spidshed som en normalfordeling.\")\n"
   ]
  },
  {
   "cell_type": "markdown",
   "id": "08289b44-4779-4e84-823d-bc38e23330d1",
   "metadata": {},
   "source": [
    "Fordelingen har en højre hale og færre ekstreme værdier end en normalfordeling, hvilket kan indikere, at dataene er mere spredte og ikke indeholder så mange outliers. Skævheden tyder på, at vi har flere lavere værdier med nogle højere outliers, som vi vil fjerne ved hjælp af z-score teknikken for at forbedre modellens præcision."
   ]
  }
 ],
 "metadata": {
  "kernelspec": {
   "display_name": "Python [conda env:base] *",
   "language": "python",
   "name": "conda-base-py"
  },
  "language_info": {
   "codemirror_mode": {
    "name": "ipython",
    "version": 3
   },
   "file_extension": ".py",
   "mimetype": "text/x-python",
   "name": "python",
   "nbconvert_exporter": "python",
   "pygments_lexer": "ipython3",
   "version": "3.12.7"
  }
 },
 "nbformat": 4,
 "nbformat_minor": 5
}
