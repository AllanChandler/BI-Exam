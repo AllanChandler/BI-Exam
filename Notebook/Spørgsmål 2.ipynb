{
 "cells": [
  {
   "cell_type": "markdown",
   "id": "7fd17b7f-1e75-448a-bd11-3f2d83d9dffa",
   "metadata": {},
   "source": [
    "# Importerer nødvendige biblioteker"
   ]
  },
  {
   "cell_type": "code",
   "execution_count": 130,
   "id": "e42afdb3-6485-4138-9806-8bd275d13ed6",
   "metadata": {},
   "outputs": [],
   "source": [
    "import pandas as pd\n",
    "import numpy as np\n",
    "import matplotlib.pyplot as plt\n",
    "import seaborn as sns\n",
    "from sklearn.ensemble import RandomForestRegressor\n",
    "from sklearn.model_selection import train_test_split\n",
    "from sklearn.metrics import mean_squared_error, mean_absolute_error, r2_score\n",
    "from sklearn import metrics\n",
    "from sklearn.preprocessing import StandardScaler\n",
    "from sklearn.linear_model import LinearRegression\n",
    "\n",
    "\n",
    "\n"
   ]
  },
  {
   "cell_type": "markdown",
   "id": "fd1d734b-7a95-4da5-aa35-45f3cde61e4b",
   "metadata": {},
   "source": [
    "# Indlæsning af data"
   ]
  },
  {
   "cell_type": "code",
   "execution_count": 132,
   "id": "04d39b6c-e15a-4de7-a9d8-09d06fab59bd",
   "metadata": {},
   "outputs": [
    {
     "data": {
      "text/html": [
       "<div>\n",
       "<style scoped>\n",
       "    .dataframe tbody tr th:only-of-type {\n",
       "        vertical-align: middle;\n",
       "    }\n",
       "\n",
       "    .dataframe tbody tr th {\n",
       "        vertical-align: top;\n",
       "    }\n",
       "\n",
       "    .dataframe thead th {\n",
       "        text-align: right;\n",
       "    }\n",
       "</style>\n",
       "<table border=\"1\" class=\"dataframe\">\n",
       "  <thead>\n",
       "    <tr style=\"text-align: right;\">\n",
       "      <th></th>\n",
       "      <th>airline</th>\n",
       "      <th>flight</th>\n",
       "      <th>source_city</th>\n",
       "      <th>departure_time</th>\n",
       "      <th>stops</th>\n",
       "      <th>arrival_time</th>\n",
       "      <th>destination_city</th>\n",
       "      <th>class</th>\n",
       "      <th>duration</th>\n",
       "      <th>days_left</th>\n",
       "      <th>price</th>\n",
       "    </tr>\n",
       "  </thead>\n",
       "  <tbody>\n",
       "    <tr>\n",
       "      <th>33112</th>\n",
       "      <td>Air_India</td>\n",
       "      <td>AI-467</td>\n",
       "      <td>Delhi</td>\n",
       "      <td>Evening</td>\n",
       "      <td>one</td>\n",
       "      <td>Night</td>\n",
       "      <td>Hyderabad</td>\n",
       "      <td>Economy</td>\n",
       "      <td>27.08</td>\n",
       "      <td>34</td>\n",
       "      <td>5232</td>\n",
       "    </tr>\n",
       "    <tr>\n",
       "      <th>247176</th>\n",
       "      <td>Vistara</td>\n",
       "      <td>UK-852</td>\n",
       "      <td>Bangalore</td>\n",
       "      <td>Morning</td>\n",
       "      <td>one</td>\n",
       "      <td>Evening</td>\n",
       "      <td>Delhi</td>\n",
       "      <td>Business</td>\n",
       "      <td>8.58</td>\n",
       "      <td>31</td>\n",
       "      <td>54841</td>\n",
       "    </tr>\n",
       "    <tr>\n",
       "      <th>280689</th>\n",
       "      <td>Vistara</td>\n",
       "      <td>UK-878</td>\n",
       "      <td>Hyderabad</td>\n",
       "      <td>Afternoon</td>\n",
       "      <td>one</td>\n",
       "      <td>Early_Morning</td>\n",
       "      <td>Bangalore</td>\n",
       "      <td>Business</td>\n",
       "      <td>18.92</td>\n",
       "      <td>10</td>\n",
       "      <td>38099</td>\n",
       "    </tr>\n",
       "    <tr>\n",
       "      <th>277374</th>\n",
       "      <td>Vistara</td>\n",
       "      <td>UK-880</td>\n",
       "      <td>Hyderabad</td>\n",
       "      <td>Afternoon</td>\n",
       "      <td>one</td>\n",
       "      <td>Early_Morning</td>\n",
       "      <td>Mumbai</td>\n",
       "      <td>Business</td>\n",
       "      <td>18.50</td>\n",
       "      <td>4</td>\n",
       "      <td>58315</td>\n",
       "    </tr>\n",
       "    <tr>\n",
       "      <th>41041</th>\n",
       "      <td>Vistara</td>\n",
       "      <td>UK-819</td>\n",
       "      <td>Delhi</td>\n",
       "      <td>Afternoon</td>\n",
       "      <td>two_or_more</td>\n",
       "      <td>Night</td>\n",
       "      <td>Chennai</td>\n",
       "      <td>Economy</td>\n",
       "      <td>8.83</td>\n",
       "      <td>37</td>\n",
       "      <td>8719</td>\n",
       "    </tr>\n",
       "  </tbody>\n",
       "</table>\n",
       "</div>"
      ],
      "text/plain": [
       "          airline  flight source_city departure_time        stops  \\\n",
       "33112   Air_India  AI-467       Delhi        Evening          one   \n",
       "247176    Vistara  UK-852   Bangalore        Morning          one   \n",
       "280689    Vistara  UK-878   Hyderabad      Afternoon          one   \n",
       "277374    Vistara  UK-880   Hyderabad      Afternoon          one   \n",
       "41041     Vistara  UK-819       Delhi      Afternoon  two_or_more   \n",
       "\n",
       "         arrival_time destination_city     class  duration  days_left  price  \n",
       "33112           Night        Hyderabad   Economy     27.08         34   5232  \n",
       "247176        Evening            Delhi  Business      8.58         31  54841  \n",
       "280689  Early_Morning        Bangalore  Business     18.92         10  38099  \n",
       "277374  Early_Morning           Mumbai  Business     18.50          4  58315  \n",
       "41041           Night          Chennai   Economy      8.83         37   8719  "
      ]
     },
     "execution_count": 132,
     "metadata": {},
     "output_type": "execute_result"
    }
   ],
   "source": [
    "df = pd.read_csv('../data/Clean_Dataset.csv', index_col=0)\n",
    "df.sample(5)"
   ]
  },
  {
   "cell_type": "code",
   "execution_count": 133,
   "id": "522a5989-c88a-4f25-95de-362f85e3186a",
   "metadata": {},
   "outputs": [
    {
     "data": {
      "text/plain": [
       "airline             0\n",
       "flight              0\n",
       "source_city         0\n",
       "departure_time      0\n",
       "stops               0\n",
       "arrival_time        0\n",
       "destination_city    0\n",
       "class               0\n",
       "duration            0\n",
       "days_left           0\n",
       "price               0\n",
       "dtype: int64"
      ]
     },
     "execution_count": 133,
     "metadata": {},
     "output_type": "execute_result"
    }
   ],
   "source": [
    "df.isnull().sum()"
   ]
  },
  {
   "cell_type": "markdown",
   "id": "422c262d-cf43-48a2-826b-57e930f27ea1",
   "metadata": {},
   "source": [
    "Vi har importeret dataene og lavet en hurtig gennemgang for at få et overblik over datasættet. Nu går vi videre med at forberede og rense dataene, så de er klar til analyse."
   ]
  },
  {
   "cell_type": "markdown",
   "id": "e4c9d559-59d1-4195-b0fc-7c2510f63653",
   "metadata": {},
   "source": [
    "# Rensning af data"
   ]
  },
  {
   "cell_type": "code",
   "execution_count": 136,
   "id": "237a898d-ec93-4184-bbaf-12128596bb64",
   "metadata": {},
   "outputs": [
    {
     "name": "stdout",
     "output_type": "stream",
     "text": [
      "Tjekker for manglende værdier:\n",
      "airline             0\n",
      "flight              0\n",
      "source_city         0\n",
      "departure_time      0\n",
      "stops               0\n",
      "arrival_time        0\n",
      "destination_city    0\n",
      "class               0\n",
      "duration            0\n",
      "days_left           0\n",
      "price               0\n",
      "dtype: int64\n",
      "Tjekker for NaN-værdier:\n",
      "airline             0\n",
      "flight              0\n",
      "source_city         0\n",
      "departure_time      0\n",
      "stops               0\n",
      "arrival_time        0\n",
      "destination_city    0\n",
      "class               0\n",
      "duration            0\n",
      "days_left           0\n",
      "price               0\n",
      "dtype: int64\n",
      "Tjekker for datatyper:\n",
      "<class 'pandas.core.frame.DataFrame'>\n",
      "Index: 300153 entries, 0 to 300152\n",
      "Data columns (total 11 columns):\n",
      " #   Column            Non-Null Count   Dtype  \n",
      "---  ------            --------------   -----  \n",
      " 0   airline           300153 non-null  object \n",
      " 1   flight            300153 non-null  object \n",
      " 2   source_city       300153 non-null  object \n",
      " 3   departure_time    300153 non-null  object \n",
      " 4   stops             300153 non-null  object \n",
      " 5   arrival_time      300153 non-null  object \n",
      " 6   destination_city  300153 non-null  object \n",
      " 7   class             300153 non-null  object \n",
      " 8   duration          300153 non-null  float64\n",
      " 9   days_left         300153 non-null  int64  \n",
      " 10  price             300153 non-null  int64  \n",
      "dtypes: float64(1), int64(2), object(8)\n",
      "memory usage: 27.5+ MB\n",
      "None\n",
      "Tjekker for duplikater:\n",
      "0\n"
     ]
    }
   ],
   "source": [
    "# Tjekker for manglende værdier\n",
    "print(\"Tjekker for manglende værdier:\")\n",
    "print(df.isnull().sum())\n",
    "\n",
    "# Tjekker for NaN-værdier\n",
    "print(\"Tjekker for NaN-værdier:\")\n",
    "print(df.isna().sum())\n",
    "\n",
    "# Tjekker for datatyper\n",
    "print(\"Tjekker for datatyper:\")\n",
    "print(df.info())\n",
    "\n",
    "# Tjekker for duplikater\n",
    "print(\"Tjekker for duplikater:\")\n",
    "print(df.duplicated().sum()) "
   ]
  },
  {
   "cell_type": "code",
   "execution_count": 137,
   "id": "2d8bd6ed-6ed4-4505-abda-a196f7e5000b",
   "metadata": {},
   "outputs": [
    {
     "data": {
      "text/plain": [
       "(300153, 11)"
      ]
     },
     "execution_count": 137,
     "metadata": {},
     "output_type": "execute_result"
    }
   ],
   "source": [
    "df.shape"
   ]
  },
  {
   "cell_type": "code",
   "execution_count": 138,
   "id": "c30865ba-6ae2-402a-a5c8-3b98b15fe52f",
   "metadata": {},
   "outputs": [
    {
     "data": {
      "text/plain": [
       "airline             0\n",
       "flight              0\n",
       "source_city         0\n",
       "departure_time      0\n",
       "stops               0\n",
       "arrival_time        0\n",
       "destination_city    0\n",
       "class               0\n",
       "duration            0\n",
       "days_left           0\n",
       "price               0\n",
       "dtype: int64"
      ]
     },
     "execution_count": 138,
     "metadata": {},
     "output_type": "execute_result"
    }
   ],
   "source": [
    "df.isnull().sum()"
   ]
  },
  {
   "cell_type": "markdown",
   "id": "f0dafca2-3322-40f7-aabb-ec72217cb1a5",
   "metadata": {},
   "source": [
    "Som man kan se, indeholder datasættet ikke nogen manglende værdier, hverken som NaN eller null. Derudover består datatyperne primært af tekstdata (object), som nu skal konverteres til string, samt nogle numeriske kolonner i form af heltal (int64) og decimaltal (float64).\n",
    "\n",
    "Der er heller ingen duplikater i datasættet, hvilket betyder, at der ikke er behov for rensning af dataen.\n",
    "\n",
    "Nu opdeles datasættet i to separate dataframes: en med numeriske værdier og en med nominelle (kategoriske) data, så det bliver lettere at arbejde målrettet med hver type."
   ]
  },
  {
   "cell_type": "code",
   "execution_count": 140,
   "id": "d0842c67-ef46-4ea2-a815-aea743704a3d",
   "metadata": {},
   "outputs": [],
   "source": [
    "# Fjerner 'flight' kolonnen, da den kun er en identifikator og ikke bidrager til analysen\n",
    "df.drop(['flight'], axis=1, inplace=True)  \n",
    "\n",
    "# Fjerner 'departure_time' kolonnen, da den ikke er relevant for vores forskningsspørgsmål om dage før afrejse og antal stop\n",
    "df.drop(['departure_time'], axis=1, inplace=True)  \n",
    "\n",
    "# Fjerner 'arrival_time' kolonnen, da den ikke er relevant for vores forskningsspørgsmål om dage før afrejse og antal stop\n",
    "df.drop(['arrival_time'], axis=1, inplace=True)  "
   ]
  },
  {
   "cell_type": "code",
   "execution_count": 141,
   "id": "47169aa7-99b2-4f91-aaaa-6f2e9cef1cd5",
   "metadata": {},
   "outputs": [
    {
     "data": {
      "text/html": [
       "<div>\n",
       "<style scoped>\n",
       "    .dataframe tbody tr th:only-of-type {\n",
       "        vertical-align: middle;\n",
       "    }\n",
       "\n",
       "    .dataframe tbody tr th {\n",
       "        vertical-align: top;\n",
       "    }\n",
       "\n",
       "    .dataframe thead th {\n",
       "        text-align: right;\n",
       "    }\n",
       "</style>\n",
       "<table border=\"1\" class=\"dataframe\">\n",
       "  <thead>\n",
       "    <tr style=\"text-align: right;\">\n",
       "      <th></th>\n",
       "      <th>duration</th>\n",
       "      <th>days_left</th>\n",
       "      <th>price</th>\n",
       "      <th>airline_AirAsia</th>\n",
       "      <th>airline_Air_India</th>\n",
       "      <th>airline_GO_FIRST</th>\n",
       "      <th>airline_Indigo</th>\n",
       "      <th>airline_SpiceJet</th>\n",
       "      <th>airline_Vistara</th>\n",
       "      <th>source_city_Bangalore</th>\n",
       "      <th>...</th>\n",
       "      <th>stops_two_or_more</th>\n",
       "      <th>stops_zero</th>\n",
       "      <th>destination_city_Bangalore</th>\n",
       "      <th>destination_city_Chennai</th>\n",
       "      <th>destination_city_Delhi</th>\n",
       "      <th>destination_city_Hyderabad</th>\n",
       "      <th>destination_city_Kolkata</th>\n",
       "      <th>destination_city_Mumbai</th>\n",
       "      <th>class_Business</th>\n",
       "      <th>class_Economy</th>\n",
       "    </tr>\n",
       "  </thead>\n",
       "  <tbody>\n",
       "    <tr>\n",
       "      <th>159357</th>\n",
       "      <td>8.58</td>\n",
       "      <td>8</td>\n",
       "      <td>15373</td>\n",
       "      <td>0</td>\n",
       "      <td>0</td>\n",
       "      <td>0</td>\n",
       "      <td>1</td>\n",
       "      <td>0</td>\n",
       "      <td>0</td>\n",
       "      <td>0</td>\n",
       "      <td>...</td>\n",
       "      <td>0</td>\n",
       "      <td>0</td>\n",
       "      <td>0</td>\n",
       "      <td>0</td>\n",
       "      <td>0</td>\n",
       "      <td>0</td>\n",
       "      <td>0</td>\n",
       "      <td>1</td>\n",
       "      <td>0</td>\n",
       "      <td>1</td>\n",
       "    </tr>\n",
       "    <tr>\n",
       "      <th>214130</th>\n",
       "      <td>9.75</td>\n",
       "      <td>28</td>\n",
       "      <td>49177</td>\n",
       "      <td>0</td>\n",
       "      <td>0</td>\n",
       "      <td>0</td>\n",
       "      <td>0</td>\n",
       "      <td>0</td>\n",
       "      <td>1</td>\n",
       "      <td>0</td>\n",
       "      <td>...</td>\n",
       "      <td>0</td>\n",
       "      <td>0</td>\n",
       "      <td>1</td>\n",
       "      <td>0</td>\n",
       "      <td>0</td>\n",
       "      <td>0</td>\n",
       "      <td>0</td>\n",
       "      <td>0</td>\n",
       "      <td>1</td>\n",
       "      <td>0</td>\n",
       "    </tr>\n",
       "    <tr>\n",
       "      <th>140917</th>\n",
       "      <td>24.83</td>\n",
       "      <td>39</td>\n",
       "      <td>4705</td>\n",
       "      <td>0</td>\n",
       "      <td>1</td>\n",
       "      <td>0</td>\n",
       "      <td>0</td>\n",
       "      <td>0</td>\n",
       "      <td>0</td>\n",
       "      <td>0</td>\n",
       "      <td>...</td>\n",
       "      <td>0</td>\n",
       "      <td>0</td>\n",
       "      <td>1</td>\n",
       "      <td>0</td>\n",
       "      <td>0</td>\n",
       "      <td>0</td>\n",
       "      <td>0</td>\n",
       "      <td>0</td>\n",
       "      <td>0</td>\n",
       "      <td>1</td>\n",
       "    </tr>\n",
       "    <tr>\n",
       "      <th>140624</th>\n",
       "      <td>10.50</td>\n",
       "      <td>37</td>\n",
       "      <td>6195</td>\n",
       "      <td>0</td>\n",
       "      <td>0</td>\n",
       "      <td>0</td>\n",
       "      <td>0</td>\n",
       "      <td>0</td>\n",
       "      <td>1</td>\n",
       "      <td>0</td>\n",
       "      <td>...</td>\n",
       "      <td>0</td>\n",
       "      <td>0</td>\n",
       "      <td>1</td>\n",
       "      <td>0</td>\n",
       "      <td>0</td>\n",
       "      <td>0</td>\n",
       "      <td>0</td>\n",
       "      <td>0</td>\n",
       "      <td>0</td>\n",
       "      <td>1</td>\n",
       "    </tr>\n",
       "    <tr>\n",
       "      <th>90077</th>\n",
       "      <td>7.00</td>\n",
       "      <td>31</td>\n",
       "      <td>4028</td>\n",
       "      <td>0</td>\n",
       "      <td>0</td>\n",
       "      <td>1</td>\n",
       "      <td>0</td>\n",
       "      <td>0</td>\n",
       "      <td>0</td>\n",
       "      <td>1</td>\n",
       "      <td>...</td>\n",
       "      <td>0</td>\n",
       "      <td>0</td>\n",
       "      <td>0</td>\n",
       "      <td>0</td>\n",
       "      <td>1</td>\n",
       "      <td>0</td>\n",
       "      <td>0</td>\n",
       "      <td>0</td>\n",
       "      <td>0</td>\n",
       "      <td>1</td>\n",
       "    </tr>\n",
       "  </tbody>\n",
       "</table>\n",
       "<p>5 rows × 26 columns</p>\n",
       "</div>"
      ],
      "text/plain": [
       "        duration  days_left  price  airline_AirAsia  airline_Air_India  \\\n",
       "159357      8.58          8  15373                0                  0   \n",
       "214130      9.75         28  49177                0                  0   \n",
       "140917     24.83         39   4705                0                  1   \n",
       "140624     10.50         37   6195                0                  0   \n",
       "90077       7.00         31   4028                0                  0   \n",
       "\n",
       "        airline_GO_FIRST  airline_Indigo  airline_SpiceJet  airline_Vistara  \\\n",
       "159357                 0               1                 0                0   \n",
       "214130                 0               0                 0                1   \n",
       "140917                 0               0                 0                0   \n",
       "140624                 0               0                 0                1   \n",
       "90077                  1               0                 0                0   \n",
       "\n",
       "        source_city_Bangalore  ...  stops_two_or_more  stops_zero  \\\n",
       "159357                      0  ...                  0           0   \n",
       "214130                      0  ...                  0           0   \n",
       "140917                      0  ...                  0           0   \n",
       "140624                      0  ...                  0           0   \n",
       "90077                       1  ...                  0           0   \n",
       "\n",
       "        destination_city_Bangalore  destination_city_Chennai  \\\n",
       "159357                           0                         0   \n",
       "214130                           1                         0   \n",
       "140917                           1                         0   \n",
       "140624                           1                         0   \n",
       "90077                            0                         0   \n",
       "\n",
       "        destination_city_Delhi  destination_city_Hyderabad  \\\n",
       "159357                       0                           0   \n",
       "214130                       0                           0   \n",
       "140917                       0                           0   \n",
       "140624                       0                           0   \n",
       "90077                        1                           0   \n",
       "\n",
       "        destination_city_Kolkata  destination_city_Mumbai  class_Business  \\\n",
       "159357                         0                        1               0   \n",
       "214130                         0                        0               1   \n",
       "140917                         0                        0               0   \n",
       "140624                         0                        0               0   \n",
       "90077                          0                        0               0   \n",
       "\n",
       "        class_Economy  \n",
       "159357              1  \n",
       "214130              0  \n",
       "140917              1  \n",
       "140624              1  \n",
       "90077               1  \n",
       "\n",
       "[5 rows x 26 columns]"
      ]
     },
     "execution_count": 141,
     "metadata": {},
     "output_type": "execute_result"
    }
   ],
   "source": [
    "# Udfører one-hot encoding på de kategoriske kolonner for at gøre dem numeriske og lettere at regressere på\n",
    "dfNumeric = pd.get_dummies(df, columns=['airline', 'source_city', 'stops', 'destination_city', 'class'], dtype=pd.Int64Dtype())\n",
    "\n",
    "# Viser 5 tilfældige rækker af det transformerede datasæt\n",
    "dfNumeric.sample(5)"
   ]
  },
  {
   "cell_type": "code",
   "execution_count": 142,
   "id": "3e5f99bb-7403-43aa-b6c9-15659f6fd016",
   "metadata": {},
   "outputs": [
    {
     "data": {
      "text/plain": [
       "airline             string[python]\n",
       "source_city         string[python]\n",
       "stops               string[python]\n",
       "destination_city    string[python]\n",
       "class               string[python]\n",
       "duration                   float64\n",
       "days_left                    int64\n",
       "price                        int64\n",
       "dtype: object"
      ]
     },
     "execution_count": 142,
     "metadata": {},
     "output_type": "execute_result"
    }
   ],
   "source": [
    "# Konverterer alle 'object'-kolonner til 'string'-type\n",
    "for col in df:\n",
    "    if df[col].dtype == 'object':\n",
    "        df[col] = df[col].astype('string')\n",
    "\n",
    "# Tjekker datatyperne efter konvertering\n",
    "df.dtypes"
   ]
  },
  {
   "cell_type": "markdown",
   "id": "b7d93fe3-c3d9-4614-aa99-643dc9cf2061",
   "metadata": {},
   "source": [
    "# Dataudforskning"
   ]
  },
  {
   "cell_type": "code",
   "execution_count": 144,
   "id": "4b84fa8a-9fb6-473d-b7cd-6afdced6abb2",
   "metadata": {},
   "outputs": [
    {
     "data": {
      "text/html": [
       "<div>\n",
       "<style scoped>\n",
       "    .dataframe tbody tr th:only-of-type {\n",
       "        vertical-align: middle;\n",
       "    }\n",
       "\n",
       "    .dataframe tbody tr th {\n",
       "        vertical-align: top;\n",
       "    }\n",
       "\n",
       "    .dataframe thead th {\n",
       "        text-align: right;\n",
       "    }\n",
       "</style>\n",
       "<table border=\"1\" class=\"dataframe\">\n",
       "  <thead>\n",
       "    <tr style=\"text-align: right;\">\n",
       "      <th></th>\n",
       "      <th>duration</th>\n",
       "      <th>days_left</th>\n",
       "      <th>price</th>\n",
       "    </tr>\n",
       "  </thead>\n",
       "  <tbody>\n",
       "    <tr>\n",
       "      <th>count</th>\n",
       "      <td>300153.000000</td>\n",
       "      <td>300153.000000</td>\n",
       "      <td>300153.000000</td>\n",
       "    </tr>\n",
       "    <tr>\n",
       "      <th>mean</th>\n",
       "      <td>12.221021</td>\n",
       "      <td>26.004751</td>\n",
       "      <td>20889.660523</td>\n",
       "    </tr>\n",
       "    <tr>\n",
       "      <th>std</th>\n",
       "      <td>7.191997</td>\n",
       "      <td>13.561004</td>\n",
       "      <td>22697.767366</td>\n",
       "    </tr>\n",
       "    <tr>\n",
       "      <th>min</th>\n",
       "      <td>0.830000</td>\n",
       "      <td>1.000000</td>\n",
       "      <td>1105.000000</td>\n",
       "    </tr>\n",
       "    <tr>\n",
       "      <th>25%</th>\n",
       "      <td>6.830000</td>\n",
       "      <td>15.000000</td>\n",
       "      <td>4783.000000</td>\n",
       "    </tr>\n",
       "    <tr>\n",
       "      <th>50%</th>\n",
       "      <td>11.250000</td>\n",
       "      <td>26.000000</td>\n",
       "      <td>7425.000000</td>\n",
       "    </tr>\n",
       "    <tr>\n",
       "      <th>75%</th>\n",
       "      <td>16.170000</td>\n",
       "      <td>38.000000</td>\n",
       "      <td>42521.000000</td>\n",
       "    </tr>\n",
       "    <tr>\n",
       "      <th>max</th>\n",
       "      <td>49.830000</td>\n",
       "      <td>49.000000</td>\n",
       "      <td>123071.000000</td>\n",
       "    </tr>\n",
       "  </tbody>\n",
       "</table>\n",
       "</div>"
      ],
      "text/plain": [
       "            duration      days_left          price\n",
       "count  300153.000000  300153.000000  300153.000000\n",
       "mean       12.221021      26.004751   20889.660523\n",
       "std         7.191997      13.561004   22697.767366\n",
       "min         0.830000       1.000000    1105.000000\n",
       "25%         6.830000      15.000000    4783.000000\n",
       "50%        11.250000      26.000000    7425.000000\n",
       "75%        16.170000      38.000000   42521.000000\n",
       "max        49.830000      49.000000  123071.000000"
      ]
     },
     "execution_count": 144,
     "metadata": {},
     "output_type": "execute_result"
    }
   ],
   "source": [
    "df.describe()"
   ]
  },
  {
   "cell_type": "markdown",
   "id": "7d044fab-f0c3-46b0-af1b-395712b3fc03",
   "metadata": {},
   "source": [
    "Duration: Varierer fra 0,83 til 49,83 timer, med et gennemsnit på 12,22 timer.\n",
    "\n",
    "Days_Left: Varierer fra 1 til 49 dage, med et gennemsnit på 26 dage.\n",
    "\n",
    "Price: Priserne spænder fra 1.105 til 123.071, med en gennemsnitlig pris på 20.890.\n",
    "\n",
    "Der er stor variation i priserne, hvilket sandsynligvis skyldes forskelle i sæson, rejseklasse og flyselskab."
   ]
  },
  {
   "cell_type": "code",
   "execution_count": 146,
   "id": "c7f7a414-b01c-4ba9-9a96-08fa434fc15a",
   "metadata": {},
   "outputs": [
    {
     "data": {
      "text/plain": [
       "Index(['airline', 'source_city', 'stops', 'destination_city', 'class',\n",
       "       'duration', 'days_left', 'price'],\n",
       "      dtype='object')"
      ]
     },
     "execution_count": 146,
     "metadata": {},
     "output_type": "execute_result"
    }
   ],
   "source": [
    "df.columns"
   ]
  },
  {
   "cell_type": "markdown",
   "id": "c3837826-5de1-41ed-a64b-79dcce45bc7d",
   "metadata": {},
   "source": [
    "Vi kan se, at dataene allerede er forholdsvis standardiserede, men lad os konvertere kolonnenavnene til at bruge \"x-y\" i stedet for \"x_y\" for at demonstrere muligheden for at forberede data."
   ]
  },
  {
   "cell_type": "code",
   "execution_count": 148,
   "id": "3a24ac20-0d3d-46a4-9c08-c7038f224a83",
   "metadata": {},
   "outputs": [
    {
     "name": "stdout",
     "output_type": "stream",
     "text": [
      "Index(['AIRLINE', 'SOURCE-CITY', 'STOPS', 'DESTINATION-CITY', 'CLASS',\n",
      "       'DURATION', 'DAYS-LEFT', 'PRICE'],\n",
      "      dtype='object')\n"
     ]
    },
    {
     "data": {
      "text/plain": [
       "15464"
      ]
     },
     "execution_count": 148,
     "metadata": {},
     "output_type": "execute_result"
    }
   ],
   "source": [
    "import gc\n",
    "\n",
    "dfStan = df.copy()\n",
    "\n",
    "# Skifter kolonnenavne til store bogstaver og erstatter \"_\" med \"-\"\n",
    "dfStan.columns = [col.upper().replace('_', '-') for col in dfStan.columns]\n",
    "\n",
    "print(dfStan.columns)\n",
    "\n",
    "del dfStan\n",
    "\n",
    "# Kører garbage collection for at rydde op i hukommelsen\n",
    "gc.collect()"
   ]
  },
  {
   "cell_type": "markdown",
   "id": "63a3edfb-34b8-475f-a601-5eff1d0f681c",
   "metadata": {},
   "source": [
    "Som nævnt foretager vi ikke en permanent ændring af kolonnenavnene i datasættet, men viser blot, hvordan det kan gøres."
   ]
  },
  {
   "cell_type": "markdown",
   "id": "e1842c37-d213-48f3-8638-4ef34e74ac89",
   "metadata": {},
   "source": [
    "For at lave en grundlæggende visualisering og udforske fordelingen af prisdataene, laver vi et histogram."
   ]
  },
  {
   "cell_type": "code",
   "execution_count": 151,
   "id": "ec4c8a61-aa59-4f21-81f7-d540b641dec6",
   "metadata": {},
   "outputs": [
    {
     "data": {
      "image/png": "[encoded data removed]",
      "text/plain": [
       "<Figure size 1000x600 with 1 Axes>"
      ]
     },
     "metadata": {},
     "output_type": "display_data"
    },
    {
     "name": "stdout",
     "output_type": "stream",
     "text": [
      "Skævhed (Skewness): 1.0613719490179376\n",
      "Kurtosis: -0.3963061069535949\n",
      "Fordelingen er højreskæv (positiv skævhed).\n",
      "Fordelingen er fladere end en normalfordeling (lav kurtosis).\n"
     ]
    }
   ],
   "source": [
    "from scipy.stats import skew, kurtosis  \n",
    "\n",
    "# Plotter histogram med KDE for prisfordeling\n",
    "plt.figure(figsize=(10, 6))\n",
    "sns.histplot(df['price'], kde=True, bins=50)\n",
    "plt.title('Fordeling af Priser')\n",
    "plt.ylabel('Antal')\n",
    "plt.xlabel('Pris')\n",
    "plt.show()\n",
    "\n",
    "# Beregning af skævhed og kurtosis\n",
    "skewness = skew(df['price'].dropna())  # Fjerner NaN-værdier før beregning\n",
    "kurt = kurtosis(df['price'].dropna())  # Fjerner NaN-værdier før beregning\n",
    "\n",
    "# Udskriver resultaterne\n",
    "print(f\"Skævhed (Skewness): {skewness}\")\n",
    "print(f\"Kurtosis: {kurt}\")\n",
    "\n",
    "# Tolkning af skævhed og kurtosis:\n",
    "if skewness > 0:\n",
    "    print(\"Fordelingen er højreskæv (positiv skævhed).\")\n",
    "elif skewness < 0:\n",
    "    print(\"Fordelingen er venstreskæv (negativ skævhed).\")\n",
    "else:\n",
    "    print(\"Fordelingen er symmetrisk.\")\n",
    "\n",
    "if kurt > 3:\n",
    "    print(\"Fordelingen er spidsere end en normalfordeling (høj kurtosis).\")\n",
    "elif kurt < 3:\n",
    "    print(\"Fordelingen er fladere end en normalfordeling (lav kurtosis).\")\n",
    "else:\n",
    "    print(\"Fordelingen har samme spidshed som en normalfordeling.\")\n"
   ]
  },
  {
   "cell_type": "markdown",
   "id": "08289b44-4779-4e84-823d-bc38e23330d1",
   "metadata": {},
   "source": [
    "Fordelingen har en højre hale og færre ekstreme værdier end en normalfordeling, hvilket kan indikere, at dataene er mere spredte og ikke indeholder så mange outliers. Skævheden tyder på, at vi har flere lavere værdier med nogle højere outliers, som vi vil fjerne ved hjælp af z-score teknikken for at forbedre modellens præcision."
   ]
  },
  {
   "cell_type": "markdown",
   "id": "8fed7c0f-4038-4fa6-9d38-1915bfa390f5",
   "metadata": {},
   "source": [
    "# 2. Hvordan påvirker antallet af stop prisen?"
   ]
  },
  {
   "cell_type": "markdown",
   "id": "cbf9cc21-f6e6-40b8-a557-dbedb95cd65b",
   "metadata": {},
   "source": [
    "# Overblik over fordelingen af stops:"
   ]
  },
  {
   "cell_type": "code",
   "execution_count": 155,
   "id": "e59cdbf6-a77e-4ab6-9469-6f86eecbe8a5",
   "metadata": {},
   "outputs": [
    {
     "data": {
      "text/plain": [
       "count     300153\n",
       "unique         3\n",
       "top          one\n",
       "freq      250863\n",
       "Name: stops, dtype: object"
      ]
     },
     "execution_count": 155,
     "metadata": {},
     "output_type": "execute_result"
    }
   ],
   "source": [
    "df['stops'].describe()\n"
   ]
  },
  {
   "cell_type": "code",
   "execution_count": 156,
   "id": "5ef80ebf-f789-42f7-9c42-e96f0e94585d",
   "metadata": {},
   "outputs": [
    {
     "data": {
      "text/plain": [
       "stops\n",
       "one            250863\n",
       "zero            36004\n",
       "two_or_more     13286\n",
       "Name: count, dtype: Int64"
      ]
     },
     "execution_count": 156,
     "metadata": {},
     "output_type": "execute_result"
    }
   ],
   "source": [
    "df['stops'].value_counts()\n"
   ]
  },
  {
   "cell_type": "markdown",
   "id": "56506185-35c4-495a-b890-6eb9f2c08c9e",
   "metadata": {},
   "source": [
    "# Konverter fra string til tal:"
   ]
  },
  {
   "cell_type": "code",
   "execution_count": 158,
   "id": "0a161b1d-0411-488f-9343-ebb37013f302",
   "metadata": {},
   "outputs": [],
   "source": [
    "df['stops_numb'] = df['stops'].map({\n",
    "    'zero': 0,\n",
    "    'one': 1,\n",
    "    'two_or_more': 2,\n",
    "})\n"
   ]
  },
  {
   "cell_type": "code",
   "execution_count": 159,
   "id": "bb57d564-3046-4dd2-a2eb-9d5601c0bde4",
   "metadata": {},
   "outputs": [
    {
     "data": {
      "text/plain": [
       "stops_numb\n",
       "1    250863\n",
       "0     36004\n",
       "2     13286\n",
       "Name: count, dtype: int64"
      ]
     },
     "execution_count": 159,
     "metadata": {},
     "output_type": "execute_result"
    }
   ],
   "source": [
    "df['stops_numb'].value_counts()"
   ]
  },
  {
   "cell_type": "markdown",
   "id": "e8905221-67d9-4fff-9b45-ef612fe633cf",
   "metadata": {},
   "source": [
    "# Beskrivende statistik og visualisering: "
   ]
  },
  {
   "cell_type": "markdown",
   "id": "8518f636-5d1c-4636-8ef8-2d64eb5f932f",
   "metadata": {},
   "source": [
    " # Beskrivende statistik for pris og stop:"
   ]
  },
  {
   "cell_type": "code",
   "execution_count": 162,
   "id": "6da91975-2b27-40bc-a224-bc14c46c9510",
   "metadata": {},
   "outputs": [
    {
     "name": "stdout",
     "output_type": "stream",
     "text": [
      "          stops_numb          price\n",
      "count  300153.000000  300153.000000\n",
      "mean        0.924312   20889.660523\n",
      "std         0.398106   22697.767366\n",
      "min         0.000000    1105.000000\n",
      "25%         1.000000    4783.000000\n",
      "50%         1.000000    7425.000000\n",
      "75%         1.000000   42521.000000\n",
      "max         2.000000  123071.000000\n"
     ]
    }
   ],
   "source": [
    "print(df[['stops_numb', 'price']].describe())\n",
    "\n"
   ]
  },
  {
   "cell_type": "markdown",
   "id": "665b8651-6a36-492a-be02-6e6a56783dad",
   "metadata": {},
   "source": [
    "# Korrelationsanalyse:"
   ]
  },
  {
   "cell_type": "code",
   "execution_count": 164,
   "id": "7b759d47-a10c-485e-871a-e09e62ab9e3d",
   "metadata": {},
   "outputs": [
    {
     "name": "stdout",
     "output_type": "stream",
     "text": [
      "            stops_numb     price\n",
      "stops_numb    1.000000  0.119648\n",
      "price         0.119648  1.000000\n"
     ]
    },
    {
     "data": {
      "image/png": "[encoded data removed]",
      "text/plain": [
       "<Figure size 640x480 with 2 Axes>"
      ]
     },
     "metadata": {},
     "output_type": "display_data"
    }
   ],
   "source": [
    "corr=(df[['stops_numb', 'price']].corr())\n",
    "print (corr)\n",
    "\n",
    "sns.heatmap(corr, annot=True, cmap='coolwarm', fmt='.2f')\n",
    "plt.title('Korrelation mellem Antal Stop og Pris')\n",
    "plt.show()\n"
   ]
  },
  {
   "cell_type": "markdown",
   "id": "1ad1cf81-d1f1-4b84-a68c-697ae5db9763",
   "metadata": {},
   "source": [
    "###\n",
    "Der er en meget lav positiv korrelation på 0.119648 mellem stops og pris. Det betyder, at der er en svag positiv sammenhæng mellem antallet af stop og prisen. Det betyder, at antallet af stop kun i begrænset omfang forklarer variationen i prisen."
   ]
  },
  {
   "cell_type": "markdown",
   "id": "0a604e65-fcc1-4f9c-8d98-0426992ce288",
   "metadata": {},
   "source": [
    "# Visualisere forholdet mellem stops og pris (Scatter plot):"
   ]
  },
  {
   "cell_type": "code",
   "execution_count": 167,
   "id": "e7f115b7-839f-405d-8919-ea712b771c50",
   "metadata": {},
   "outputs": [
    {
     "data": {
      "image/png": "[encoded data removed]",
      "text/plain": [
       "<Figure size 640x480 with 1 Axes>"
      ]
     },
     "metadata": {},
     "output_type": "display_data"
    }
   ],
   "source": [
    "plt.scatter(df['stops_numb'], df['price'], alpha=0.3)\n",
    "plt.title('Sammenhæng mellem antal stop og pris')\n",
    "plt.xlabel('Antal stop')\n",
    "plt.ylabel('Pris')\n",
    "plt.show()\n",
    "\n"
   ]
  },
  {
   "cell_type": "markdown",
   "id": "dc378cc3-1d8f-4094-9347-79184f47aaa0",
   "metadata": {},
   "source": [
    "### Analyse af scatterplottet: \n",
    "\n",
    "| Antal stop | Observationer om prisfordeling                                   |\n",
    "|------------|-----------------------------------------------------------------|\n",
    "| 0 stop     | Mange data ligger under 60.000 – generelt lavere priser         |\n",
    "| 1 stop     | Større spredning i priserne, inkl. meget høje priser over 120.000 |\n",
    "| 2 stop     | Stor spredning med tendens til højere priser end direkte fly, men nogle under 40.000 |\n",
    "\n",
    "Scatterplottet viser, at direkte fly (0 stop) typisk har lavere og mere koncentrerede priser, mens rejser med 1 eller 2 stop har større prisvariation og flere dyre billetter.\n",
    "\n",
    "\n"
   ]
  },
  {
   "cell_type": "markdown",
   "id": "9f510847-3d31-4214-b4dc-8fcd97b0f08d",
   "metadata": {},
   "source": [
    "# Visualiser prisfordelingen per antal stop (Boxplot): "
   ]
  },
  {
   "cell_type": "code",
   "execution_count": 170,
   "id": "d4b35129-6eff-4500-9cd9-c629186a2a8b",
   "metadata": {},
   "outputs": [
    {
     "data": {
      "image/png": "[encoded data removed]",
      "text/plain": [
       "<Figure size 640x480 with 1 Axes>"
      ]
     },
     "metadata": {},
     "output_type": "display_data"
    }
   ],
   "source": [
    "\n",
    "import matplotlib.pyplot as plt\n",
    "\n",
    "df_sorted = df.sort_values('stops_numb')\n",
    "df_sorted.boxplot(column='price', by='stops_numb')\n",
    "plt.title('Pris fordelt på antal stop')\n",
    "plt.xlabel('Antal stop')\n",
    "plt.ylabel('Pris')\n",
    "plt.suptitle(\"\")\n",
    "plt.show()\n"
   ]
  },
  {
   "cell_type": "markdown",
   "id": "3c9882b2-fcc0-4612-b1e8-eee29486b459",
   "metadata": {},
   "source": [
    "### Analyse af Boxplot: \n",
    "\n",
    "| Antal stop | Medianpris   | Spredning | Outliers | Kommentar                                                 |\n",
    "|------------|--------------|-----------|----------|------------------------------------------------------------|\n",
    "| 0          | Lavest medianpris          | Lav       | Mange      |Direkte fly er generelt billigere og mere stabile i pris, men enkelte meget dyre billetter trækker ud som outliers.                             |\n",
    "| 1          | Højest medianpris       | Stor      | Få    | 1-stop flyvninger har generelt høje priser og stor variation, med få ekstreme afvigelser.                 |\n",
    "| 2          | Højere end 0 stop, men en smule lavere end 1 (ret tæt) | Højere end 0 stop, men langt lavere end 1 | Mange    | 2-stop flyvninger har tendens til høje og ustabile priser, med mange ekstreme prisudsving. |\n",
    "\n",
    "Boxplottet viser, at direkte fly (0 stop) generelt har de laveste og mest stabile priser, selvom der findes enkelte meget dyre billetter som outliers. Flyvninger med 1 stop har den højeste medianpris og stor prisvariation, men færre ekstreme prisudsving. Fly med 2 stop ligger prismæssigt tæt på 1-stop, men med flere outliers og dermed større usikkerhed i prissætningen."
   ]
  },
  {
   "cell_type": "code",
   "execution_count": 172,
   "id": "663497f5-1fa1-4da9-b4e1-8e7c49923bc7",
   "metadata": {},
   "outputs": [
    {
     "name": "stdout",
     "output_type": "stream",
     "text": [
      "Gennemsnitspris pr. antal stop:\n",
      " stops_numb\n",
      "0     9375.938535\n",
      "1    22900.992482\n",
      "2    14113.450775\n",
      "Name: price, dtype: float64\n"
     ]
    },
    {
     "data": {
      "image/png": "[encoded data removed]",
      "text/plain": [
       "<Figure size 640x480 with 1 Axes>"
      ]
     },
     "metadata": {},
     "output_type": "display_data"
    }
   ],
   "source": [
    "average_prices = df.groupby('stops_numb')['price'].mean()\n",
    "print(\"Gennemsnitspris pr. antal stop:\\n\", average_prices)\n",
    "\n",
    "# Visualisering af gennemsnitspriser\n",
    "average_prices.plot(kind='bar', color='skyblue')\n",
    "plt.title('Gennemsnitspris i forhold til antal stop')\n",
    "plt.xlabel('Antal stop')\n",
    "plt.ylabel('Pris (i gennemsnit)')\n",
    "plt.grid(axis='y')\n",
    "plt.show()"
   ]
  },
  {
   "cell_type": "markdown",
   "id": "eb5183f5-d353-454f-995e-3012dd350021",
   "metadata": {},
   "source": [
    "### Analyse af gennemsnitspris i forhold til antal stop\n",
    "\n",
    "| Antal stop | Gennemsnitspris (ca.) | \n",
    "|------------|------------------------|\n",
    "| 0 stop     | 9.400                  | \n",
    "| 1 stop     | 23.000                 | \n",
    "| 2 stop     | 14.000                 | \n",
    "\n",
    "\n",
    "Den gennemsnitlige pris er lavest for direkte fly, højest for 1 stop, og ligger i midten for 2 stop. \n"
   ]
  },
  {
   "cell_type": "markdown",
   "id": "657942a7-c80d-4a4c-a81f-8edea5c07d3e",
   "metadata": {},
   "source": [
    "# Konklusion på beskrivende statistik – Hvordan påvirker antallet af stop prisen?"
   ]
  },
  {
   "cell_type": "markdown",
   "id": "9102362c-79cc-4fc1-890b-e6e9b2d76e81",
   "metadata": {},
   "source": [
    "Analysen af flypriser i forhold til antallet af stop viser at hypotesen om, at flyvninger med flere stop generelt er billigere end direkte fly ikke er sand.\n",
    "\n",
    "• Korrelationsanalysen viser en svag positiv sammenhæng (ca. 0,12) mellem antal stop og pris, hvilket indikerer, at prisen stiger en smule med flere stop, men sammenhængen er ikke stærk og ikke nødvendigvis lineær.\n",
    "\n",
    "• Scatterplottet illustrerer, at direkte fly (0 stop) typisk har lavere og mere stabile priser, med de fleste billetpriser under 60.000, mens 1-stop og 2-stop flyvninger udviser større spredning og flere meget dyre billetter (op til og over 120.000). 2-stop flyvninger viser desuden en tendens til lidt højere priser end direkte fly, men også flere lave priser under 40.000.\n",
    "\n",
    "• Boxplottet bekræfter, at direkte fly har den laveste medianpris og mest stabile prisfordeling, men også mange outliers, der repræsenterer enkelte meget dyre billetter. 1-stop flyvninger har den højeste medianpris og stor prisvariation, men relativt få ekstreme prisudsving. 2-stop flyvninger ligger prismæssigt tæt på 1-stop, men med flere outliers, hvilket antyder større usikkerhed og variation i priserne.\n",
    "\n",
    "• Gennemsnitspriserne understøtter de forrige diagrammer, hvor direkte fly er billigst (ca. 9.400), 2-stop fly ligger i midten (ca. 14.000), og 1-stop fly med de dyreste priser (ca. 23.000).\n",
    "\n",
    "Sammenfattende tyder alle analyser på, at flyvninger med flere stop ikke nødvendigvis er billigere end direkte flyvninger. Derimod viser det sig at 1-stop flyvninger ofte er de dyreste. Prisvariationerne er størst for flyvninger med stop, hvilket betyder, at prisfastsættelsen er mere usikker og afhængig af flere faktorer.\n"
   ]
  },
  {
   "cell_type": "markdown",
   "id": "810dfa63-ceec-46b1-8d02-2c8f058e084c",
   "metadata": {},
   "source": [
    "# Sprint 3: "
   ]
  },
  {
   "cell_type": "markdown",
   "id": "3f5a4bad-38f6-49dd-8a05-0c6cc7c2ac60",
   "metadata": {},
   "source": [
    "# Datamodellering"
   ]
  },
  {
   "cell_type": "markdown",
   "id": "036f0500-a3bd-4fdd-b96c-54296c0e0960",
   "metadata": {},
   "source": [
    "## Defination af features og target: "
   ]
  },
  {
   "cell_type": "code",
   "execution_count": 179,
   "id": "6889ba37-0545-4454-ac15-936f044534ce",
   "metadata": {},
   "outputs": [],
   "source": [
    "X = dfNumeric.drop('price', axis=1)  \n",
    "y = dfNumeric['price']             "
   ]
  },
  {
   "cell_type": "markdown",
   "id": "26293818-53f4-415e-86bb-3917760dfc14",
   "metadata": {},
   "source": [
    "## Split data i trænings- og testdatasæt:"
   ]
  },
  {
   "cell_type": "code",
   "execution_count": 181,
   "id": "0eb95036-8db6-4fc0-a5c8-d768c823c75c",
   "metadata": {},
   "outputs": [],
   "source": [
    "X_train, X_test, y_train, y_test = train_test_split(\n",
    "    X, y, test_size=0.2, random_state=42\n",
    ")"
   ]
  },
  {
   "cell_type": "markdown",
   "id": "98fba360-6e1c-455f-a47b-1c1f68db2649",
   "metadata": {},
   "source": [
    "## Træn modellen med Random Forest Regressor:"
   ]
  },
  {
   "cell_type": "code",
   "execution_count": 183,
   "id": "c234556e-338d-47bb-a572-95a6bb42886f",
   "metadata": {
    "scrolled": true
   },
   "outputs": [
    {
     "data": {
      "text/html": [
       "<style>#sk-container-id-3 {\n",
       "  /* Definition of color scheme common for light and dark mode */\n",
       "  --sklearn-color-text: black;\n",
       "  --sklearn-color-line: gray;\n",
       "  /* Definition of color scheme for unfitted estimators */\n",
       "  --sklearn-color-unfitted-level-0: #fff5e6;\n",
       "  --sklearn-color-unfitted-level-1: #f6e4d2;\n",
       "  --sklearn-color-unfitted-level-2: #ffe0b3;\n",
       "  --sklearn-color-unfitted-level-3: chocolate;\n",
       "  /* Definition of color scheme for fitted estimators */\n",
       "  --sklearn-color-fitted-level-0: #f0f8ff;\n",
       "  --sklearn-color-fitted-level-1: #d4ebff;\n",
       "  --sklearn-color-fitted-level-2: #b3dbfd;\n",
       "  --sklearn-color-fitted-level-3: cornflowerblue;\n",
       "\n",
       "  /* Specific color for light theme */\n",
       "  --sklearn-color-text-on-default-background: var(--sg-text-color, var(--theme-code-foreground, var(--jp-content-font-color1, black)));\n",
       "  --sklearn-color-background: var(--sg-background-color, var(--theme-background, var(--jp-layout-color0, white)));\n",
       "  --sklearn-color-border-box: var(--sg-text-color, var(--theme-code-foreground, var(--jp-content-font-color1, black)));\n",
       "  --sklearn-color-icon: #696969;\n",
       "\n",
       "  @media (prefers-color-scheme: dark) {\n",
       "    /* Redefinition of color scheme for dark theme */\n",
       "    --sklearn-color-text-on-default-background: var(--sg-text-color, var(--theme-code-foreground, var(--jp-content-font-color1, white)));\n",
       "    --sklearn-color-background: var(--sg-background-color, var(--theme-background, var(--jp-layout-color0, #111)));\n",
       "    --sklearn-color-border-box: var(--sg-text-color, var(--theme-code-foreground, var(--jp-content-font-color1, white)));\n",
       "    --sklearn-color-icon: #878787;\n",
       "  }\n",
       "}\n",
       "\n",
       "#sk-container-id-3 {\n",
       "  color: var(--sklearn-color-text);\n",
       "}\n",
       "\n",
       "#sk-container-id-3 pre {\n",
       "  padding: 0;\n",
       "}\n",
       "\n",
       "#sk-container-id-3 input.sk-hidden--visually {\n",
       "  border: 0;\n",
       "  clip: rect(1px 1px 1px 1px);\n",
       "  clip: rect(1px, 1px, 1px, 1px);\n",
       "  height: 1px;\n",
       "  margin: -1px;\n",
       "  overflow: hidden;\n",
       "  padding: 0;\n",
       "  position: absolute;\n",
       "  width: 1px;\n",
       "}\n",
       "\n",
       "#sk-container-id-3 div.sk-dashed-wrapped {\n",
       "  border: 1px dashed var(--sklearn-color-line);\n",
       "  margin: 0 0.4em 0.5em 0.4em;\n",
       "  box-sizing: border-box;\n",
       "  padding-bottom: 0.4em;\n",
       "  background-color: var(--sklearn-color-background);\n",
       "}\n",
       "\n",
       "#sk-container-id-3 div.sk-container {\n",
       "  /* jupyter's `normalize.less` sets `[hidden] { display: none; }`\n",
       "     but bootstrap.min.css set `[hidden] { display: none !important; }`\n",
       "     so we also need the `!important` here to be able to override the\n",
       "     default hidden behavior on the sphinx rendered scikit-learn.org.\n",
       "     See: https://github.com/scikit-learn/scikit-learn/issues/21755 */\n",
       "  display: inline-block !important;\n",
       "  position: relative;\n",
       "}\n",
       "\n",
       "#sk-container-id-3 div.sk-text-repr-fallback {\n",
       "  display: none;\n",
       "}\n",
       "\n",
       "div.sk-parallel-item,\n",
       "div.sk-serial,\n",
       "div.sk-item {\n",
       "  /* draw centered vertical line to link estimators */\n",
       "  background-image: linear-gradient(var(--sklearn-color-text-on-default-background), var(--sklearn-color-text-on-default-background));\n",
       "  background-size: 2px 100%;\n",
       "  background-repeat: no-repeat;\n",
       "  background-position: center center;\n",
       "}\n",
       "\n",
       "/* Parallel-specific style estimator block */\n",
       "\n",
       "#sk-container-id-3 div.sk-parallel-item::after {\n",
       "  content: \"\";\n",
       "  width: 100%;\n",
       "  border-bottom: 2px solid var(--sklearn-color-text-on-default-background);\n",
       "  flex-grow: 1;\n",
       "}\n",
       "\n",
       "#sk-container-id-3 div.sk-parallel {\n",
       "  display: flex;\n",
       "  align-items: stretch;\n",
       "  justify-content: center;\n",
       "  background-color: var(--sklearn-color-background);\n",
       "  position: relative;\n",
       "}\n",
       "\n",
       "#sk-container-id-3 div.sk-parallel-item {\n",
       "  display: flex;\n",
       "  flex-direction: column;\n",
       "}\n",
       "\n",
       "#sk-container-id-3 div.sk-parallel-item:first-child::after {\n",
       "  align-self: flex-end;\n",
       "  width: 50%;\n",
       "}\n",
       "\n",
       "#sk-container-id-3 div.sk-parallel-item:last-child::after {\n",
       "  align-self: flex-start;\n",
       "  width: 50%;\n",
       "}\n",
       "\n",
       "#sk-container-id-3 div.sk-parallel-item:only-child::after {\n",
       "  width: 0;\n",
       "}\n",
       "\n",
       "/* Serial-specific style estimator block */\n",
       "\n",
       "#sk-container-id-3 div.sk-serial {\n",
       "  display: flex;\n",
       "  flex-direction: column;\n",
       "  align-items: center;\n",
       "  background-color: var(--sklearn-color-background);\n",
       "  padding-right: 1em;\n",
       "  padding-left: 1em;\n",
       "}\n",
       "\n",
       "\n",
       "/* Toggleable style: style used for estimator/Pipeline/ColumnTransformer box that is\n",
       "clickable and can be expanded/collapsed.\n",
       "- Pipeline and ColumnTransformer use this feature and define the default style\n",
       "- Estimators will overwrite some part of the style using the `sk-estimator` class\n",
       "*/\n",
       "\n",
       "/* Pipeline and ColumnTransformer style (default) */\n",
       "\n",
       "#sk-container-id-3 div.sk-toggleable {\n",
       "  /* Default theme specific background. It is overwritten whether we have a\n",
       "  specific estimator or a Pipeline/ColumnTransformer */\n",
       "  background-color: var(--sklearn-color-background);\n",
       "}\n",
       "\n",
       "/* Toggleable label */\n",
       "#sk-container-id-3 label.sk-toggleable__label {\n",
       "  cursor: pointer;\n",
       "  display: block;\n",
       "  width: 100%;\n",
       "  margin-bottom: 0;\n",
       "  padding: 0.5em;\n",
       "  box-sizing: border-box;\n",
       "  text-align: center;\n",
       "}\n",
       "\n",
       "#sk-container-id-3 label.sk-toggleable__label-arrow:before {\n",
       "  /* Arrow on the left of the label */\n",
       "  content: \"▸\";\n",
       "  float: left;\n",
       "  margin-right: 0.25em;\n",
       "  color: var(--sklearn-color-icon);\n",
       "}\n",
       "\n",
       "#sk-container-id-3 label.sk-toggleable__label-arrow:hover:before {\n",
       "  color: var(--sklearn-color-text);\n",
       "}\n",
       "\n",
       "/* Toggleable content - dropdown */\n",
       "\n",
       "#sk-container-id-3 div.sk-toggleable__content {\n",
       "  max-height: 0;\n",
       "  max-width: 0;\n",
       "  overflow: hidden;\n",
       "  text-align: left;\n",
       "  /* unfitted */\n",
       "  background-color: var(--sklearn-color-unfitted-level-0);\n",
       "}\n",
       "\n",
       "#sk-container-id-3 div.sk-toggleable__content.fitted {\n",
       "  /* fitted */\n",
       "  background-color: var(--sklearn-color-fitted-level-0);\n",
       "}\n",
       "\n",
       "#sk-container-id-3 div.sk-toggleable__content pre {\n",
       "  margin: 0.2em;\n",
       "  border-radius: 0.25em;\n",
       "  color: var(--sklearn-color-text);\n",
       "  /* unfitted */\n",
       "  background-color: var(--sklearn-color-unfitted-level-0);\n",
       "}\n",
       "\n",
       "#sk-container-id-3 div.sk-toggleable__content.fitted pre {\n",
       "  /* unfitted */\n",
       "  background-color: var(--sklearn-color-fitted-level-0);\n",
       "}\n",
       "\n",
       "#sk-container-id-3 input.sk-toggleable__control:checked~div.sk-toggleable__content {\n",
       "  /* Expand drop-down */\n",
       "  max-height: 200px;\n",
       "  max-width: 100%;\n",
       "  overflow: auto;\n",
       "}\n",
       "\n",
       "#sk-container-id-3 input.sk-toggleable__control:checked~label.sk-toggleable__label-arrow:before {\n",
       "  content: \"▾\";\n",
       "}\n",
       "\n",
       "/* Pipeline/ColumnTransformer-specific style */\n",
       "\n",
       "#sk-container-id-3 div.sk-label input.sk-toggleable__control:checked~label.sk-toggleable__label {\n",
       "  color: var(--sklearn-color-text);\n",
       "  background-color: var(--sklearn-color-unfitted-level-2);\n",
       "}\n",
       "\n",
       "#sk-container-id-3 div.sk-label.fitted input.sk-toggleable__control:checked~label.sk-toggleable__label {\n",
       "  background-color: var(--sklearn-color-fitted-level-2);\n",
       "}\n",
       "\n",
       "/* Estimator-specific style */\n",
       "\n",
       "/* Colorize estimator box */\n",
       "#sk-container-id-3 div.sk-estimator input.sk-toggleable__control:checked~label.sk-toggleable__label {\n",
       "  /* unfitted */\n",
       "  background-color: var(--sklearn-color-unfitted-level-2);\n",
       "}\n",
       "\n",
       "#sk-container-id-3 div.sk-estimator.fitted input.sk-toggleable__control:checked~label.sk-toggleable__label {\n",
       "  /* fitted */\n",
       "  background-color: var(--sklearn-color-fitted-level-2);\n",
       "}\n",
       "\n",
       "#sk-container-id-3 div.sk-label label.sk-toggleable__label,\n",
       "#sk-container-id-3 div.sk-label label {\n",
       "  /* The background is the default theme color */\n",
       "  color: var(--sklearn-color-text-on-default-background);\n",
       "}\n",
       "\n",
       "/* On hover, darken the color of the background */\n",
       "#sk-container-id-3 div.sk-label:hover label.sk-toggleable__label {\n",
       "  color: var(--sklearn-color-text);\n",
       "  background-color: var(--sklearn-color-unfitted-level-2);\n",
       "}\n",
       "\n",
       "/* Label box, darken color on hover, fitted */\n",
       "#sk-container-id-3 div.sk-label.fitted:hover label.sk-toggleable__label.fitted {\n",
       "  color: var(--sklearn-color-text);\n",
       "  background-color: var(--sklearn-color-fitted-level-2);\n",
       "}\n",
       "\n",
       "/* Estimator label */\n",
       "\n",
       "#sk-container-id-3 div.sk-label label {\n",
       "  font-family: monospace;\n",
       "  font-weight: bold;\n",
       "  display: inline-block;\n",
       "  line-height: 1.2em;\n",
       "}\n",
       "\n",
       "#sk-container-id-3 div.sk-label-container {\n",
       "  text-align: center;\n",
       "}\n",
       "\n",
       "/* Estimator-specific */\n",
       "#sk-container-id-3 div.sk-estimator {\n",
       "  font-family: monospace;\n",
       "  border: 1px dotted var(--sklearn-color-border-box);\n",
       "  border-radius: 0.25em;\n",
       "  box-sizing: border-box;\n",
       "  margin-bottom: 0.5em;\n",
       "  /* unfitted */\n",
       "  background-color: var(--sklearn-color-unfitted-level-0);\n",
       "}\n",
       "\n",
       "#sk-container-id-3 div.sk-estimator.fitted {\n",
       "  /* fitted */\n",
       "  background-color: var(--sklearn-color-fitted-level-0);\n",
       "}\n",
       "\n",
       "/* on hover */\n",
       "#sk-container-id-3 div.sk-estimator:hover {\n",
       "  /* unfitted */\n",
       "  background-color: var(--sklearn-color-unfitted-level-2);\n",
       "}\n",
       "\n",
       "#sk-container-id-3 div.sk-estimator.fitted:hover {\n",
       "  /* fitted */\n",
       "  background-color: var(--sklearn-color-fitted-level-2);\n",
       "}\n",
       "\n",
       "/* Specification for estimator info (e.g. \"i\" and \"?\") */\n",
       "\n",
       "/* Common style for \"i\" and \"?\" */\n",
       "\n",
       ".sk-estimator-doc-link,\n",
       "a:link.sk-estimator-doc-link,\n",
       "a:visited.sk-estimator-doc-link {\n",
       "  float: right;\n",
       "  font-size: smaller;\n",
       "  line-height: 1em;\n",
       "  font-family: monospace;\n",
       "  background-color: var(--sklearn-color-background);\n",
       "  border-radius: 1em;\n",
       "  height: 1em;\n",
       "  width: 1em;\n",
       "  text-decoration: none !important;\n",
       "  margin-left: 1ex;\n",
       "  /* unfitted */\n",
       "  border: var(--sklearn-color-unfitted-level-1) 1pt solid;\n",
       "  color: var(--sklearn-color-unfitted-level-1);\n",
       "}\n",
       "\n",
       ".sk-estimator-doc-link.fitted,\n",
       "a:link.sk-estimator-doc-link.fitted,\n",
       "a:visited.sk-estimator-doc-link.fitted {\n",
       "  /* fitted */\n",
       "  border: var(--sklearn-color-fitted-level-1) 1pt solid;\n",
       "  color: var(--sklearn-color-fitted-level-1);\n",
       "}\n",
       "\n",
       "/* On hover */\n",
       "div.sk-estimator:hover .sk-estimator-doc-link:hover,\n",
       ".sk-estimator-doc-link:hover,\n",
       "div.sk-label-container:hover .sk-estimator-doc-link:hover,\n",
       ".sk-estimator-doc-link:hover {\n",
       "  /* unfitted */\n",
       "  background-color: var(--sklearn-color-unfitted-level-3);\n",
       "  color: var(--sklearn-color-background);\n",
       "  text-decoration: none;\n",
       "}\n",
       "\n",
       "div.sk-estimator.fitted:hover .sk-estimator-doc-link.fitted:hover,\n",
       ".sk-estimator-doc-link.fitted:hover,\n",
       "div.sk-label-container:hover .sk-estimator-doc-link.fitted:hover,\n",
       ".sk-estimator-doc-link.fitted:hover {\n",
       "  /* fitted */\n",
       "  background-color: var(--sklearn-color-fitted-level-3);\n",
       "  color: var(--sklearn-color-background);\n",
       "  text-decoration: none;\n",
       "}\n",
       "\n",
       "/* Span, style for the box shown on hovering the info icon */\n",
       ".sk-estimator-doc-link span {\n",
       "  display: none;\n",
       "  z-index: 9999;\n",
       "  position: relative;\n",
       "  font-weight: normal;\n",
       "  right: .2ex;\n",
       "  padding: .5ex;\n",
       "  margin: .5ex;\n",
       "  width: min-content;\n",
       "  min-width: 20ex;\n",
       "  max-width: 50ex;\n",
       "  color: var(--sklearn-color-text);\n",
       "  box-shadow: 2pt 2pt 4pt #999;\n",
       "  /* unfitted */\n",
       "  background: var(--sklearn-color-unfitted-level-0);\n",
       "  border: .5pt solid var(--sklearn-color-unfitted-level-3);\n",
       "}\n",
       "\n",
       ".sk-estimator-doc-link.fitted span {\n",
       "  /* fitted */\n",
       "  background: var(--sklearn-color-fitted-level-0);\n",
       "  border: var(--sklearn-color-fitted-level-3);\n",
       "}\n",
       "\n",
       ".sk-estimator-doc-link:hover span {\n",
       "  display: block;\n",
       "}\n",
       "\n",
       "/* \"?\"-specific style due to the `<a>` HTML tag */\n",
       "\n",
       "#sk-container-id-3 a.estimator_doc_link {\n",
       "  float: right;\n",
       "  font-size: 1rem;\n",
       "  line-height: 1em;\n",
       "  font-family: monospace;\n",
       "  background-color: var(--sklearn-color-background);\n",
       "  border-radius: 1rem;\n",
       "  height: 1rem;\n",
       "  width: 1rem;\n",
       "  text-decoration: none;\n",
       "  /* unfitted */\n",
       "  color: var(--sklearn-color-unfitted-level-1);\n",
       "  border: var(--sklearn-color-unfitted-level-1) 1pt solid;\n",
       "}\n",
       "\n",
       "#sk-container-id-3 a.estimator_doc_link.fitted {\n",
       "  /* fitted */\n",
       "  border: var(--sklearn-color-fitted-level-1) 1pt solid;\n",
       "  color: var(--sklearn-color-fitted-level-1);\n",
       "}\n",
       "\n",
       "/* On hover */\n",
       "#sk-container-id-3 a.estimator_doc_link:hover {\n",
       "  /* unfitted */\n",
       "  background-color: var(--sklearn-color-unfitted-level-3);\n",
       "  color: var(--sklearn-color-background);\n",
       "  text-decoration: none;\n",
       "}\n",
       "\n",
       "#sk-container-id-3 a.estimator_doc_link.fitted:hover {\n",
       "  /* fitted */\n",
       "  background-color: var(--sklearn-color-fitted-level-3);\n",
       "}\n",
       "</style><div id=\"sk-container-id-3\" class=\"sk-top-container\"><div class=\"sk-text-repr-fallback\"><pre>RandomForestRegressor(random_state=42)</pre><b>In a Jupyter environment, please rerun this cell to show the HTML representation or trust the notebook. <br />On GitHub, the HTML representation is unable to render, please try loading this page with nbviewer.org.</b></div><div class=\"sk-container\" hidden><div class=\"sk-item\"><div class=\"sk-estimator fitted sk-toggleable\"><input class=\"sk-toggleable__control sk-hidden--visually\" id=\"sk-estimator-id-3\" type=\"checkbox\" checked><label for=\"sk-estimator-id-3\" class=\"sk-toggleable__label fitted sk-toggleable__label-arrow fitted\">&nbsp;&nbsp;RandomForestRegressor<a class=\"sk-estimator-doc-link fitted\" rel=\"noreferrer\" target=\"_blank\" href=\"https://scikit-learn.org/1.5/modules/generated/sklearn.ensemble.RandomForestRegressor.html\">?<span>Documentation for RandomForestRegressor</span></a><span class=\"sk-estimator-doc-link fitted\">i<span>Fitted</span></span></label><div class=\"sk-toggleable__content fitted\"><pre>RandomForestRegressor(random_state=42)</pre></div> </div></div></div></div>"
      ],
      "text/plain": [
       "RandomForestRegressor(random_state=42)"
      ]
     },
     "execution_count": 183,
     "metadata": {},
     "output_type": "execute_result"
    }
   ],
   "source": [
    "RFRmodel = RandomForestRegressor(n_estimators=100, random_state=42)\n",
    "RFRmodel.fit(X_train, y_train)\n"
   ]
  },
  {
   "cell_type": "markdown",
   "id": "577c717a-bfcb-4d24-9d6f-24c3905d594d",
   "metadata": {},
   "source": [
    "## Evaluering af modellen:"
   ]
  },
  {
   "cell_type": "code",
   "execution_count": 185,
   "id": "cf821be7-4187-4efa-a6eb-b4e9de95b12c",
   "metadata": {},
   "outputs": [
    {
     "name": "stdout",
     "output_type": "stream",
     "text": [
      "Mean Squared Error (MSE): 10922214.49\n",
      "Root Mean Squared Error (RMSE): 3304.88\n",
      "Mean Absolute Error (MAE): 1363.39\n",
      "R² Score: 0.98\n"
     ]
    }
   ],
   "source": [
    "y_pred = RFRmodel.predict(X_test)\n",
    "\n",
    "mse = mean_squared_error(y_test, y_pred)\n",
    "rmse = np.sqrt(mse)\n",
    "mae = mean_absolute_error(y_test, y_pred)\n",
    "r2 = r2_score(y_test, y_pred)\n",
    "\n",
    "print(f'Mean Squared Error (MSE): {mse:.2f}')\n",
    "print(f'Root Mean Squared Error (RMSE): {rmse:.2f}')\n",
    "print(f'Mean Absolute Error (MAE): {mae:.2f}')\n",
    "print(f'R² Score: {r2:.2f}')\n",
    "\n"
   ]
  },
  {
   "cell_type": "markdown",
   "id": "c0e9c85f-73f5-4e3a-b5bf-6c04e38ccb7a",
   "metadata": {},
   "source": [
    "# -MSE: \n",
    "Gennemsnittet af de kvadrerede fejl er relativt højt (10.922.214,49).\n",
    "Dette skyldes, at store fejl straffes ekstra meget i denne beregning, da afvigelser kvadreres. MSE er derfor høj, selvom de fleste fejl kan være små.\n",
    "# -RMSE:\n",
    "Kvadratroden af MSE giver en værdi på 3.304,88, hvilket betyder, at modellen i gennemsnit laver en fejl på ca. 3.305 pr. forudsigelse.\n",
    "Dette er et lavt fejlniveau, særligt i forhold til prisniveauet, som spænder op til over 120.000.\n",
    "\n",
    "# -MAE:\n",
    "Den gennemsnitlige absolutte fejl er 1.363,39. Den lave værdi her viser, at de fleste forudsigelser rammer tæt på de faktiske værdier.\n",
    "\n",
    "# -R²-score:\n",
    "\n",
    "R²-værdien er 0,98, hvilket betyder, at modellen forklarer 98 % af variationen i de faktiske priser.\n",
    "Modellen er dermed god til at forudsige, og har stor præcision. Kun 2 % af variationen forbliver uforklaret.\n",
    "\n"
   ]
  },
  {
   "cell_type": "code",
   "execution_count": 187,
   "id": "cf93f004-2ed7-4827-905f-f17ab3389b6f",
   "metadata": {},
   "outputs": [
    {
     "data": {
      "image/png": "[encoded data removed]",
      "text/plain": [
       "<Figure size 1000x500 with 1 Axes>"
      ]
     },
     "metadata": {},
     "output_type": "display_data"
    }
   ],
   "source": [
    "\n",
    "importances = RFRmodel.feature_importances_\n",
    "feature_names = X.columns\n",
    "\n",
    "# Sorter og vis top 10\n",
    "indices = np.argsort(importances)[::-1][:10]\n",
    "plt.figure(figsize=(10, 5))\n",
    "plt.title(\"Top 10 Vigtigste Features\")\n",
    "plt.bar(range(len(indices)), importances[indices], align=\"center\")\n",
    "plt.xticks(range(len(indices)), [feature_names[i] for i in indices], rotation=45)\n",
    "plt.tight_layout()\n",
    "plt.show()\n"
   ]
  },
  {
   "cell_type": "markdown",
   "id": "e490f046-d815-47e2-b720-6bfe82070940",
   "metadata": {},
   "source": [
    "# Konklusion: \n",
    "\n",
    "I følge modellen er de vigtigste features klassen, derefter kommer duration, days left og forskellige andre features. Antallet af stops er slet ikke blandt top 10, så det viser sig at stop ikke er den feature der har størst betydning for prisen. "
   ]
  },
  {
   "cell_type": "markdown",
   "id": "56dfb3a7-8463-485f-aa1a-06ea34244e8f",
   "metadata": {},
   "source": [
    "# Multiple lineær regression:"
   ]
  },
  {
   "cell_type": "code",
   "execution_count": 190,
   "id": "69827e41-7407-4892-a9ca-a39963537922",
   "metadata": {},
   "outputs": [
    {
     "data": {
      "text/html": [
       "<div>\n",
       "<style scoped>\n",
       "    .dataframe tbody tr th:only-of-type {\n",
       "        vertical-align: middle;\n",
       "    }\n",
       "\n",
       "    .dataframe tbody tr th {\n",
       "        vertical-align: top;\n",
       "    }\n",
       "\n",
       "    .dataframe thead th {\n",
       "        text-align: right;\n",
       "    }\n",
       "</style>\n",
       "<table border=\"1\" class=\"dataframe\">\n",
       "  <thead>\n",
       "    <tr style=\"text-align: right;\">\n",
       "      <th></th>\n",
       "      <th>class_Business</th>\n",
       "      <th>stops_two_or_more</th>\n",
       "      <th>stops_one</th>\n",
       "    </tr>\n",
       "  </thead>\n",
       "  <tbody>\n",
       "    <tr>\n",
       "      <th>0</th>\n",
       "      <td>0</td>\n",
       "      <td>0</td>\n",
       "      <td>0</td>\n",
       "    </tr>\n",
       "    <tr>\n",
       "      <th>1</th>\n",
       "      <td>0</td>\n",
       "      <td>0</td>\n",
       "      <td>0</td>\n",
       "    </tr>\n",
       "    <tr>\n",
       "      <th>2</th>\n",
       "      <td>0</td>\n",
       "      <td>0</td>\n",
       "      <td>0</td>\n",
       "    </tr>\n",
       "    <tr>\n",
       "      <th>3</th>\n",
       "      <td>0</td>\n",
       "      <td>0</td>\n",
       "      <td>0</td>\n",
       "    </tr>\n",
       "    <tr>\n",
       "      <th>4</th>\n",
       "      <td>0</td>\n",
       "      <td>0</td>\n",
       "      <td>0</td>\n",
       "    </tr>\n",
       "  </tbody>\n",
       "</table>\n",
       "</div>"
      ],
      "text/plain": [
       "   class_Business  stops_two_or_more  stops_one\n",
       "0               0                  0          0\n",
       "1               0                  0          0\n",
       "2               0                  0          0\n",
       "3               0                  0          0\n",
       "4               0                  0          0"
      ]
     },
     "execution_count": 190,
     "metadata": {},
     "output_type": "execute_result"
    }
   ],
   "source": [
    "\n",
    "# liste med variabler (features), som bruges til input ( stops_zero bliver reference)\n",
    "feature_cols = ['class_Business','stops_two_or_more', 'stops_one', ]\n",
    "\n",
    "# udtræk kolonner fra dataframen\n",
    "X = dfNumeric[feature_cols]\n",
    "\n",
    "# print første 5 rækker\n",
    "X.head()"
   ]
  },
  {
   "cell_type": "code",
   "execution_count": 191,
   "id": "3a3bc917-232e-4daf-bede-6667ca485b9f",
   "metadata": {},
   "outputs": [
    {
     "data": {
      "text/plain": [
       "0    5953\n",
       "1    5953\n",
       "2    5956\n",
       "3    5955\n",
       "4    5955\n",
       "Name: price, dtype: int64"
      ]
     },
     "execution_count": 191,
     "metadata": {},
     "output_type": "execute_result"
    }
   ],
   "source": [
    "# target variabel y\n",
    "y = dfNumeric['price']\n",
    "\n",
    "# print første 5 rækker\n",
    "y.head()"
   ]
  },
  {
   "cell_type": "code",
   "execution_count": 192,
   "id": "6107f741-051a-4586-8086-c5eb5be75412",
   "metadata": {},
   "outputs": [
    {
     "data": {
      "text/html": [
       "<style>#sk-container-id-4 {\n",
       "  /* Definition of color scheme common for light and dark mode */\n",
       "  --sklearn-color-text: black;\n",
       "  --sklearn-color-line: gray;\n",
       "  /* Definition of color scheme for unfitted estimators */\n",
       "  --sklearn-color-unfitted-level-0: #fff5e6;\n",
       "  --sklearn-color-unfitted-level-1: #f6e4d2;\n",
       "  --sklearn-color-unfitted-level-2: #ffe0b3;\n",
       "  --sklearn-color-unfitted-level-3: chocolate;\n",
       "  /* Definition of color scheme for fitted estimators */\n",
       "  --sklearn-color-fitted-level-0: #f0f8ff;\n",
       "  --sklearn-color-fitted-level-1: #d4ebff;\n",
       "  --sklearn-color-fitted-level-2: #b3dbfd;\n",
       "  --sklearn-color-fitted-level-3: cornflowerblue;\n",
       "\n",
       "  /* Specific color for light theme */\n",
       "  --sklearn-color-text-on-default-background: var(--sg-text-color, var(--theme-code-foreground, var(--jp-content-font-color1, black)));\n",
       "  --sklearn-color-background: var(--sg-background-color, var(--theme-background, var(--jp-layout-color0, white)));\n",
       "  --sklearn-color-border-box: var(--sg-text-color, var(--theme-code-foreground, var(--jp-content-font-color1, black)));\n",
       "  --sklearn-color-icon: #696969;\n",
       "\n",
       "  @media (prefers-color-scheme: dark) {\n",
       "    /* Redefinition of color scheme for dark theme */\n",
       "    --sklearn-color-text-on-default-background: var(--sg-text-color, var(--theme-code-foreground, var(--jp-content-font-color1, white)));\n",
       "    --sklearn-color-background: var(--sg-background-color, var(--theme-background, var(--jp-layout-color0, #111)));\n",
       "    --sklearn-color-border-box: var(--sg-text-color, var(--theme-code-foreground, var(--jp-content-font-color1, white)));\n",
       "    --sklearn-color-icon: #878787;\n",
       "  }\n",
       "}\n",
       "\n",
       "#sk-container-id-4 {\n",
       "  color: var(--sklearn-color-text);\n",
       "}\n",
       "\n",
       "#sk-container-id-4 pre {\n",
       "  padding: 0;\n",
       "}\n",
       "\n",
       "#sk-container-id-4 input.sk-hidden--visually {\n",
       "  border: 0;\n",
       "  clip: rect(1px 1px 1px 1px);\n",
       "  clip: rect(1px, 1px, 1px, 1px);\n",
       "  height: 1px;\n",
       "  margin: -1px;\n",
       "  overflow: hidden;\n",
       "  padding: 0;\n",
       "  position: absolute;\n",
       "  width: 1px;\n",
       "}\n",
       "\n",
       "#sk-container-id-4 div.sk-dashed-wrapped {\n",
       "  border: 1px dashed var(--sklearn-color-line);\n",
       "  margin: 0 0.4em 0.5em 0.4em;\n",
       "  box-sizing: border-box;\n",
       "  padding-bottom: 0.4em;\n",
       "  background-color: var(--sklearn-color-background);\n",
       "}\n",
       "\n",
       "#sk-container-id-4 div.sk-container {\n",
       "  /* jupyter's `normalize.less` sets `[hidden] { display: none; }`\n",
       "     but bootstrap.min.css set `[hidden] { display: none !important; }`\n",
       "     so we also need the `!important` here to be able to override the\n",
       "     default hidden behavior on the sphinx rendered scikit-learn.org.\n",
       "     See: https://github.com/scikit-learn/scikit-learn/issues/21755 */\n",
       "  display: inline-block !important;\n",
       "  position: relative;\n",
       "}\n",
       "\n",
       "#sk-container-id-4 div.sk-text-repr-fallback {\n",
       "  display: none;\n",
       "}\n",
       "\n",
       "div.sk-parallel-item,\n",
       "div.sk-serial,\n",
       "div.sk-item {\n",
       "  /* draw centered vertical line to link estimators */\n",
       "  background-image: linear-gradient(var(--sklearn-color-text-on-default-background), var(--sklearn-color-text-on-default-background));\n",
       "  background-size: 2px 100%;\n",
       "  background-repeat: no-repeat;\n",
       "  background-position: center center;\n",
       "}\n",
       "\n",
       "/* Parallel-specific style estimator block */\n",
       "\n",
       "#sk-container-id-4 div.sk-parallel-item::after {\n",
       "  content: \"\";\n",
       "  width: 100%;\n",
       "  border-bottom: 2px solid var(--sklearn-color-text-on-default-background);\n",
       "  flex-grow: 1;\n",
       "}\n",
       "\n",
       "#sk-container-id-4 div.sk-parallel {\n",
       "  display: flex;\n",
       "  align-items: stretch;\n",
       "  justify-content: center;\n",
       "  background-color: var(--sklearn-color-background);\n",
       "  position: relative;\n",
       "}\n",
       "\n",
       "#sk-container-id-4 div.sk-parallel-item {\n",
       "  display: flex;\n",
       "  flex-direction: column;\n",
       "}\n",
       "\n",
       "#sk-container-id-4 div.sk-parallel-item:first-child::after {\n",
       "  align-self: flex-end;\n",
       "  width: 50%;\n",
       "}\n",
       "\n",
       "#sk-container-id-4 div.sk-parallel-item:last-child::after {\n",
       "  align-self: flex-start;\n",
       "  width: 50%;\n",
       "}\n",
       "\n",
       "#sk-container-id-4 div.sk-parallel-item:only-child::after {\n",
       "  width: 0;\n",
       "}\n",
       "\n",
       "/* Serial-specific style estimator block */\n",
       "\n",
       "#sk-container-id-4 div.sk-serial {\n",
       "  display: flex;\n",
       "  flex-direction: column;\n",
       "  align-items: center;\n",
       "  background-color: var(--sklearn-color-background);\n",
       "  padding-right: 1em;\n",
       "  padding-left: 1em;\n",
       "}\n",
       "\n",
       "\n",
       "/* Toggleable style: style used for estimator/Pipeline/ColumnTransformer box that is\n",
       "clickable and can be expanded/collapsed.\n",
       "- Pipeline and ColumnTransformer use this feature and define the default style\n",
       "- Estimators will overwrite some part of the style using the `sk-estimator` class\n",
       "*/\n",
       "\n",
       "/* Pipeline and ColumnTransformer style (default) */\n",
       "\n",
       "#sk-container-id-4 div.sk-toggleable {\n",
       "  /* Default theme specific background. It is overwritten whether we have a\n",
       "  specific estimator or a Pipeline/ColumnTransformer */\n",
       "  background-color: var(--sklearn-color-background);\n",
       "}\n",
       "\n",
       "/* Toggleable label */\n",
       "#sk-container-id-4 label.sk-toggleable__label {\n",
       "  cursor: pointer;\n",
       "  display: block;\n",
       "  width: 100%;\n",
       "  margin-bottom: 0;\n",
       "  padding: 0.5em;\n",
       "  box-sizing: border-box;\n",
       "  text-align: center;\n",
       "}\n",
       "\n",
       "#sk-container-id-4 label.sk-toggleable__label-arrow:before {\n",
       "  /* Arrow on the left of the label */\n",
       "  content: \"▸\";\n",
       "  float: left;\n",
       "  margin-right: 0.25em;\n",
       "  color: var(--sklearn-color-icon);\n",
       "}\n",
       "\n",
       "#sk-container-id-4 label.sk-toggleable__label-arrow:hover:before {\n",
       "  color: var(--sklearn-color-text);\n",
       "}\n",
       "\n",
       "/* Toggleable content - dropdown */\n",
       "\n",
       "#sk-container-id-4 div.sk-toggleable__content {\n",
       "  max-height: 0;\n",
       "  max-width: 0;\n",
       "  overflow: hidden;\n",
       "  text-align: left;\n",
       "  /* unfitted */\n",
       "  background-color: var(--sklearn-color-unfitted-level-0);\n",
       "}\n",
       "\n",
       "#sk-container-id-4 div.sk-toggleable__content.fitted {\n",
       "  /* fitted */\n",
       "  background-color: var(--sklearn-color-fitted-level-0);\n",
       "}\n",
       "\n",
       "#sk-container-id-4 div.sk-toggleable__content pre {\n",
       "  margin: 0.2em;\n",
       "  border-radius: 0.25em;\n",
       "  color: var(--sklearn-color-text);\n",
       "  /* unfitted */\n",
       "  background-color: var(--sklearn-color-unfitted-level-0);\n",
       "}\n",
       "\n",
       "#sk-container-id-4 div.sk-toggleable__content.fitted pre {\n",
       "  /* unfitted */\n",
       "  background-color: var(--sklearn-color-fitted-level-0);\n",
       "}\n",
       "\n",
       "#sk-container-id-4 input.sk-toggleable__control:checked~div.sk-toggleable__content {\n",
       "  /* Expand drop-down */\n",
       "  max-height: 200px;\n",
       "  max-width: 100%;\n",
       "  overflow: auto;\n",
       "}\n",
       "\n",
       "#sk-container-id-4 input.sk-toggleable__control:checked~label.sk-toggleable__label-arrow:before {\n",
       "  content: \"▾\";\n",
       "}\n",
       "\n",
       "/* Pipeline/ColumnTransformer-specific style */\n",
       "\n",
       "#sk-container-id-4 div.sk-label input.sk-toggleable__control:checked~label.sk-toggleable__label {\n",
       "  color: var(--sklearn-color-text);\n",
       "  background-color: var(--sklearn-color-unfitted-level-2);\n",
       "}\n",
       "\n",
       "#sk-container-id-4 div.sk-label.fitted input.sk-toggleable__control:checked~label.sk-toggleable__label {\n",
       "  background-color: var(--sklearn-color-fitted-level-2);\n",
       "}\n",
       "\n",
       "/* Estimator-specific style */\n",
       "\n",
       "/* Colorize estimator box */\n",
       "#sk-container-id-4 div.sk-estimator input.sk-toggleable__control:checked~label.sk-toggleable__label {\n",
       "  /* unfitted */\n",
       "  background-color: var(--sklearn-color-unfitted-level-2);\n",
       "}\n",
       "\n",
       "#sk-container-id-4 div.sk-estimator.fitted input.sk-toggleable__control:checked~label.sk-toggleable__label {\n",
       "  /* fitted */\n",
       "  background-color: var(--sklearn-color-fitted-level-2);\n",
       "}\n",
       "\n",
       "#sk-container-id-4 div.sk-label label.sk-toggleable__label,\n",
       "#sk-container-id-4 div.sk-label label {\n",
       "  /* The background is the default theme color */\n",
       "  color: var(--sklearn-color-text-on-default-background);\n",
       "}\n",
       "\n",
       "/* On hover, darken the color of the background */\n",
       "#sk-container-id-4 div.sk-label:hover label.sk-toggleable__label {\n",
       "  color: var(--sklearn-color-text);\n",
       "  background-color: var(--sklearn-color-unfitted-level-2);\n",
       "}\n",
       "\n",
       "/* Label box, darken color on hover, fitted */\n",
       "#sk-container-id-4 div.sk-label.fitted:hover label.sk-toggleable__label.fitted {\n",
       "  color: var(--sklearn-color-text);\n",
       "  background-color: var(--sklearn-color-fitted-level-2);\n",
       "}\n",
       "\n",
       "/* Estimator label */\n",
       "\n",
       "#sk-container-id-4 div.sk-label label {\n",
       "  font-family: monospace;\n",
       "  font-weight: bold;\n",
       "  display: inline-block;\n",
       "  line-height: 1.2em;\n",
       "}\n",
       "\n",
       "#sk-container-id-4 div.sk-label-container {\n",
       "  text-align: center;\n",
       "}\n",
       "\n",
       "/* Estimator-specific */\n",
       "#sk-container-id-4 div.sk-estimator {\n",
       "  font-family: monospace;\n",
       "  border: 1px dotted var(--sklearn-color-border-box);\n",
       "  border-radius: 0.25em;\n",
       "  box-sizing: border-box;\n",
       "  margin-bottom: 0.5em;\n",
       "  /* unfitted */\n",
       "  background-color: var(--sklearn-color-unfitted-level-0);\n",
       "}\n",
       "\n",
       "#sk-container-id-4 div.sk-estimator.fitted {\n",
       "  /* fitted */\n",
       "  background-color: var(--sklearn-color-fitted-level-0);\n",
       "}\n",
       "\n",
       "/* on hover */\n",
       "#sk-container-id-4 div.sk-estimator:hover {\n",
       "  /* unfitted */\n",
       "  background-color: var(--sklearn-color-unfitted-level-2);\n",
       "}\n",
       "\n",
       "#sk-container-id-4 div.sk-estimator.fitted:hover {\n",
       "  /* fitted */\n",
       "  background-color: var(--sklearn-color-fitted-level-2);\n",
       "}\n",
       "\n",
       "/* Specification for estimator info (e.g. \"i\" and \"?\") */\n",
       "\n",
       "/* Common style for \"i\" and \"?\" */\n",
       "\n",
       ".sk-estimator-doc-link,\n",
       "a:link.sk-estimator-doc-link,\n",
       "a:visited.sk-estimator-doc-link {\n",
       "  float: right;\n",
       "  font-size: smaller;\n",
       "  line-height: 1em;\n",
       "  font-family: monospace;\n",
       "  background-color: var(--sklearn-color-background);\n",
       "  border-radius: 1em;\n",
       "  height: 1em;\n",
       "  width: 1em;\n",
       "  text-decoration: none !important;\n",
       "  margin-left: 1ex;\n",
       "  /* unfitted */\n",
       "  border: var(--sklearn-color-unfitted-level-1) 1pt solid;\n",
       "  color: var(--sklearn-color-unfitted-level-1);\n",
       "}\n",
       "\n",
       ".sk-estimator-doc-link.fitted,\n",
       "a:link.sk-estimator-doc-link.fitted,\n",
       "a:visited.sk-estimator-doc-link.fitted {\n",
       "  /* fitted */\n",
       "  border: var(--sklearn-color-fitted-level-1) 1pt solid;\n",
       "  color: var(--sklearn-color-fitted-level-1);\n",
       "}\n",
       "\n",
       "/* On hover */\n",
       "div.sk-estimator:hover .sk-estimator-doc-link:hover,\n",
       ".sk-estimator-doc-link:hover,\n",
       "div.sk-label-container:hover .sk-estimator-doc-link:hover,\n",
       ".sk-estimator-doc-link:hover {\n",
       "  /* unfitted */\n",
       "  background-color: var(--sklearn-color-unfitted-level-3);\n",
       "  color: var(--sklearn-color-background);\n",
       "  text-decoration: none;\n",
       "}\n",
       "\n",
       "div.sk-estimator.fitted:hover .sk-estimator-doc-link.fitted:hover,\n",
       ".sk-estimator-doc-link.fitted:hover,\n",
       "div.sk-label-container:hover .sk-estimator-doc-link.fitted:hover,\n",
       ".sk-estimator-doc-link.fitted:hover {\n",
       "  /* fitted */\n",
       "  background-color: var(--sklearn-color-fitted-level-3);\n",
       "  color: var(--sklearn-color-background);\n",
       "  text-decoration: none;\n",
       "}\n",
       "\n",
       "/* Span, style for the box shown on hovering the info icon */\n",
       ".sk-estimator-doc-link span {\n",
       "  display: none;\n",
       "  z-index: 9999;\n",
       "  position: relative;\n",
       "  font-weight: normal;\n",
       "  right: .2ex;\n",
       "  padding: .5ex;\n",
       "  margin: .5ex;\n",
       "  width: min-content;\n",
       "  min-width: 20ex;\n",
       "  max-width: 50ex;\n",
       "  color: var(--sklearn-color-text);\n",
       "  box-shadow: 2pt 2pt 4pt #999;\n",
       "  /* unfitted */\n",
       "  background: var(--sklearn-color-unfitted-level-0);\n",
       "  border: .5pt solid var(--sklearn-color-unfitted-level-3);\n",
       "}\n",
       "\n",
       ".sk-estimator-doc-link.fitted span {\n",
       "  /* fitted */\n",
       "  background: var(--sklearn-color-fitted-level-0);\n",
       "  border: var(--sklearn-color-fitted-level-3);\n",
       "}\n",
       "\n",
       ".sk-estimator-doc-link:hover span {\n",
       "  display: block;\n",
       "}\n",
       "\n",
       "/* \"?\"-specific style due to the `<a>` HTML tag */\n",
       "\n",
       "#sk-container-id-4 a.estimator_doc_link {\n",
       "  float: right;\n",
       "  font-size: 1rem;\n",
       "  line-height: 1em;\n",
       "  font-family: monospace;\n",
       "  background-color: var(--sklearn-color-background);\n",
       "  border-radius: 1rem;\n",
       "  height: 1rem;\n",
       "  width: 1rem;\n",
       "  text-decoration: none;\n",
       "  /* unfitted */\n",
       "  color: var(--sklearn-color-unfitted-level-1);\n",
       "  border: var(--sklearn-color-unfitted-level-1) 1pt solid;\n",
       "}\n",
       "\n",
       "#sk-container-id-4 a.estimator_doc_link.fitted {\n",
       "  /* fitted */\n",
       "  border: var(--sklearn-color-fitted-level-1) 1pt solid;\n",
       "  color: var(--sklearn-color-fitted-level-1);\n",
       "}\n",
       "\n",
       "/* On hover */\n",
       "#sk-container-id-4 a.estimator_doc_link:hover {\n",
       "  /* unfitted */\n",
       "  background-color: var(--sklearn-color-unfitted-level-3);\n",
       "  color: var(--sklearn-color-background);\n",
       "  text-decoration: none;\n",
       "}\n",
       "\n",
       "#sk-container-id-4 a.estimator_doc_link.fitted:hover {\n",
       "  /* fitted */\n",
       "  background-color: var(--sklearn-color-fitted-level-3);\n",
       "}\n",
       "</style><div id=\"sk-container-id-4\" class=\"sk-top-container\"><div class=\"sk-text-repr-fallback\"><pre>LinearRegression()</pre><b>In a Jupyter environment, please rerun this cell to show the HTML representation or trust the notebook. <br />On GitHub, the HTML representation is unable to render, please try loading this page with nbviewer.org.</b></div><div class=\"sk-container\" hidden><div class=\"sk-item\"><div class=\"sk-estimator fitted sk-toggleable\"><input class=\"sk-toggleable__control sk-hidden--visually\" id=\"sk-estimator-id-4\" type=\"checkbox\" checked><label for=\"sk-estimator-id-4\" class=\"sk-toggleable__label fitted sk-toggleable__label-arrow fitted\">&nbsp;&nbsp;LinearRegression<a class=\"sk-estimator-doc-link fitted\" rel=\"noreferrer\" target=\"_blank\" href=\"https://scikit-learn.org/1.5/modules/generated/sklearn.linear_model.LinearRegression.html\">?<span>Documentation for LinearRegression</span></a><span class=\"sk-estimator-doc-link fitted\">i<span>Fitted</span></span></label><div class=\"sk-toggleable__content fitted\"><pre>LinearRegression()</pre></div> </div></div></div></div>"
      ],
      "text/plain": [
       "LinearRegression()"
      ]
     },
     "execution_count": 192,
     "metadata": {},
     "output_type": "execute_result"
    }
   ],
   "source": [
    "# split data i trænings- og testdata\n",
    "\n",
    "X_train, X_test, y_train, y_test = train_test_split(X, y, random_state=1)\n",
    "\n",
    "# Opret model\n",
    "linregM = LinearRegression()\n",
    "\n",
    "# træn modellen\n",
    "linregM.fit(X_train, y_train)\n"
   ]
  },
  {
   "cell_type": "code",
   "execution_count": 193,
   "id": "4eb479c7-74aa-4b1c-9bb8-9298320153c7",
   "metadata": {},
   "outputs": [
    {
     "name": "stdout",
     "output_type": "stream",
     "text": [
      "b0 = -927.8329548136608\n",
      "bi = [45688.28570721 11277.02747723  8466.57003154]\n"
     ]
    }
   ],
   "source": [
    "# udskriv skæringspunktet (intercept)\n",
    "print('b0 =', linregM.intercept_)\n",
    "\n",
    "# udskriv hældningerne (koefficienter)\n",
    "print('bi =', linregM.coef_)"
   ]
  },
  {
   "cell_type": "code",
   "execution_count": 194,
   "id": "82ab3655-eba6-4f50-a415-c4cfc9b064dd",
   "metadata": {},
   "outputs": [
    {
     "data": {
      "text/plain": [
       "[('class_Business', 45688.28570721017),\n",
       " ('stops_two_or_more', 11277.027477233896),\n",
       " ('stops_one', 8466.57003154224)]"
      ]
     },
     "execution_count": 194,
     "metadata": {},
     "output_type": "execute_result"
    }
   ],
   "source": [
    "# kombiner feature-navne med deres koefficienter\n",
    "list(zip(feature_cols, linregM.coef_))"
   ]
  },
  {
   "cell_type": "code",
   "execution_count": 195,
   "id": "56de557a-13dc-40ee-adcc-76a7947ff150",
   "metadata": {},
   "outputs": [],
   "source": [
    "# forudsige priser på testdatasættet\n",
    "y_predicted = linregM.predict(X_test)"
   ]
  },
  {
   "cell_type": "code",
   "execution_count": 196,
   "id": "38b44d07-d742-40b3-bf8c-5ec3512ffd5a",
   "metadata": {},
   "outputs": [
    {
     "data": {
      "text/plain": [
       "array([ 7538.73707673,  7538.73707673,  7538.73707673, ...,\n",
       "       53227.02278394,  7538.73707673, 53227.02278394])"
      ]
     },
     "execution_count": 196,
     "metadata": {},
     "output_type": "execute_result"
    }
   ],
   "source": [
    "y_predicted"
   ]
  },
  {
   "cell_type": "code",
   "execution_count": 197,
   "id": "952d427b-9a7d-4181-9b59-1331cda4f117",
   "metadata": {},
   "outputs": [
    {
     "name": "stdout",
     "output_type": "stream",
     "text": [
      "Mean Absolute Error (MAE): 5038.04\n",
      "Mean Squared Error (MSE): 53390435.82\n",
      "Root Mean Squared Error (RMSE): 7306.88\n",
      "R² score: 0.90\n"
     ]
    }
   ],
   "source": [
    "# Mean Absolute Error (MAE)\n",
    "print(f\"Mean Absolute Error (MAE): {metrics.mean_absolute_error(y_test, y_predicted):.2f}\")\n",
    "\n",
    "# Mean Squared Error (MSE) \n",
    "mse = metrics.mean_squared_error(y_test, y_predicted)\n",
    "print(f\"Mean Squared Error (MSE): {mse:.2f}\")\n",
    "\n",
    "# Root Mean Squared Error (RMSE) ud fra MSE \n",
    "rmse = np.sqrt(mse)\n",
    "print(f\"Root Mean Squared Error (RMSE): {rmse:.2f}\")\n",
    "\n",
    "# R² score\n",
    "r2 = r2_score(y_test, y_predicted)\n",
    "print(f\"R² score: {r2:.2f}\")\n"
   ]
  },
  {
   "cell_type": "markdown",
   "id": "6fd97220-76d5-4c3e-9d84-59344658ddf1",
   "metadata": {},
   "source": [
    "# Analyse af Multiple Linear Regression model: \n"
   ]
  },
  {
   "cell_type": "markdown",
   "id": "2a164349-ac16-413d-a33c-caec1ca0a097",
   "metadata": {},
   "source": [
    "MAE (5038): Gennemsnitlig absolut fejl på ca. 5038, dvs. forudsigelserne afviger i gennemsnit med dette beløb.\n",
    "\n",
    "MSE (53.390.435): Meget høj, hvilket indikerer at nogle fejl er store, da MSE kvadrerer afvigelserne og straffer store fejl hårdt.\n",
    "\n",
    "RMSE (7307): Højere end MAE, hvilket bekræfter, at enkelte store fejl trækker gennemsnitsfejlen op. \n",
    "\n",
    "R² (0.90): Meget god — modellen forklarer 90 % af variationen, hvilket tyder på en præcis og pålidelig model.\n",
    "\n",
    "# Konklusion:\n",
    "Modellen er god til at forklare variationen i priser (R²=0,90), men fejlniveauet tyder på, at forudsigelserne kan være mindre præcise ved lave priser, hvor en fejl på flere tusinde kan være stor relativt set, og det viser Intercept (b0 = –927.83) også, da den er en negativ pris. "
   ]
  },
  {
   "cell_type": "markdown",
   "id": "9632004e-3b7a-4327-b22d-02779a320b31",
   "metadata": {},
   "source": [
    "# Analyse af koefficienter med stops_zero som reference:\n",
    "\n",
    "### -class_Business (+45688): \n",
    "Business-billetter er i gennemsnit ca. 45.700 kr. dyrere end Economy (reference).\n",
    "\n",
    "### -stops_two_or_more (+11277): \n",
    "Fly med to eller flere stop koster i gennemsnit 11.277 kr. mere end fly uden stop (stops_zero).\n",
    "\n",
    "### -stops_one (+8467):\n",
    "Fly med ét stop koster i gennemsnit 8.467 kr. mere end fly uden stop (stops_zero)."
   ]
  },
  {
   "cell_type": "code",
   "execution_count": 201,
   "id": "595852c4-5d51-4c90-959a-5cd59f17e610",
   "metadata": {},
   "outputs": [
    {
     "data": {
      "image/png": "[encoded data removed]",
      "text/plain": [
       "<Figure size 640x480 with 1 Axes>"
      ]
     },
     "metadata": {},
     "output_type": "display_data"
    }
   ],
   "source": [
    "# Visualisering\n",
    "\n",
    "plt.title('Multiple Linear Regression')\n",
    "plt.scatter(y_test, y_predicted, color='blue', label='Data points')\n",
    "\n",
    "plt.xlabel('Sande værdier (y_test)')\n",
    "plt.ylabel('Forudsagte værdier (y_predicted)')\n",
    "\n",
    "plt.scatter(y_test, y_predicted, color='blue')\n",
    "plt.show()"
   ]
  },
  {
   "cell_type": "markdown",
   "id": "e7eb9f4e-4767-4a7c-8b2f-7a0e295cd1de",
   "metadata": {},
   "source": [
    "# Forbedring af Multiple Linear Regression model med log-transform: "
   ]
  },
  {
   "cell_type": "code",
   "execution_count": 203,
   "id": "66b004dc-9de8-46dc-a8cf-bdc0ad9fd868",
   "metadata": {},
   "outputs": [
    {
     "name": "stdout",
     "output_type": "stream",
     "text": [
      "b0 = 8.146168178288267\n",
      "bi = [2.16963755 0.83223196 0.56362773]\n",
      "Mean Absolute Error (MAE): 0.31\n",
      "Mean Squared Error (MSE): 0.18\n",
      "Root Mean Squared Error (RMSE): 0.42\n",
      "R² score: 0.86\n"
     ]
    }
   ],
   "source": [
    "# Fjern rækker med 0 eller negative priser først\n",
    "dfNumeric = dfNumeric[dfNumeric['price'] > 0]\n",
    "\n",
    "# Log-transformér prisen\n",
    "dfNumeric['log_price'] = np.log(dfNumeric['price'])\n",
    "\n",
    "# liste med variabler (features), som bruges til input ( stops_zero bliver reference)\n",
    "feature_cols = ['class_Business','stops_two_or_more', 'stops_one', ]\n",
    "\n",
    "# udtræk kolonner fra dataframen\n",
    "X = dfNumeric[feature_cols]\n",
    "\n",
    "# print første 5 rækker\n",
    "X.head()\n",
    "\n",
    "# target variabel y\n",
    "y = dfNumeric['log_price']\n",
    "\n",
    "# print første 5 rækker\n",
    "y.head()\n",
    "\n",
    "# split data i trænings- og testdata\n",
    "\n",
    "X_train, X_test, y_train, y_test = train_test_split(X, y, random_state=1)\n",
    "\n",
    "# Opret model\n",
    "linregM1 = LinearRegression()\n",
    "\n",
    "# træn modellen\n",
    "linregM1.fit(X_train, y_train)\n",
    "\n",
    "# udskriv skæringspunktet (intercept)\n",
    "print('b0 =', linregM1.intercept_)\n",
    "\n",
    "# udskriv hældningerne (koefficienter)\n",
    "print('bi =', linregM1.coef_)\n",
    "\n",
    "# kombiner feature-navne med deres koefficienter\n",
    "list(zip(feature_cols, linregM1.coef_))\n",
    "\n",
    "# forudsige priser på testdatasættet\n",
    "y_predicted = linregM1.predict(X_test)\n",
    "\n",
    "y_predicted\n",
    "\n",
    "# Mean Absolute Error (MAE)\n",
    "print(f\"Mean Absolute Error (MAE): {metrics.mean_absolute_error(y_test, y_predicted):.2f}\")\n",
    "\n",
    "# Mean Squared Error (MSE) \n",
    "mse = metrics.mean_squared_error(y_test, y_predicted)\n",
    "print(f\"Mean Squared Error (MSE): {mse:.2f}\")\n",
    "\n",
    "# Root Mean Squared Error (RMSE) ud fra MSE \n",
    "rmse = np.sqrt(mse)\n",
    "print(f\"Root Mean Squared Error (RMSE): {rmse:.2f}\")\n",
    "\n",
    "# R² score\n",
    "r2 = r2_score(y_test, y_predicted)\n",
    "print(f\"R² score: {r2:.2f}\")\n",
    "\n",
    "\n"
   ]
  },
  {
   "cell_type": "markdown",
   "id": "20db543a-df33-488c-9fec-232a2373263b",
   "metadata": {},
   "source": [
    "# Konklusion:\n",
    "\n",
    "Efter log-transformeringen er intercept blevet positiv (8,15). MAE, MSE og RMSE er alle blevet betydelig mindre. R2 er blevet lidt mindre, men er stadig høj. Så ved at benytte log-transformering er modellen blevet mere robust overfor outliers. \n",
    "\n"
   ]
  },
  {
   "cell_type": "markdown",
   "id": "893e797b-3f69-4080-bf0a-1c885c5f730f",
   "metadata": {},
   "source": [
    "# Economy-klasse:\n",
    "\n",
    "| **Antal stop** | **Beregning (log-pris)** | **Log-pris** | **Pris (kr)**        |\n",
    "| -------------- | ------------------------ | ------------ | -------------------- |\n",
    "| 0 stop         | `8.146`                  | 8.146        | `e^8.146 ≈ 3.445 kr` |\n",
    "| 1 stop         | `8.146 + 0.564 = 8.709`  | 8.709        | `e^8.709 ≈ 6.078 kr` |\n",
    "| 2+ stop        | `8.146 + 0.832 = 8.978`  | 8.978        | `e^8.978 ≈ 7.915 kr` |\n"
   ]
  },
  {
   "cell_type": "markdown",
   "id": "f73f8376-9681-476e-a66c-911d23d66d0b",
   "metadata": {},
   "source": [
    "# Business-klasse:\n",
    "\n",
    "| **Antal stop** | **Beregning (log-pris)**         | **Log-pris** | **Pris (kr)**          |\n",
    "| -------------- | -------------------------------- | ------------ | ---------------------- |\n",
    "| 0 stop         | `8.146 + 2.170 = 10.316`         | 10.316       | `e^10.316 ≈ 30.188 kr` |\n",
    "| 1 stop         | `8.146 + 2.170 + 0.564 = 10.879` | 10.879       | `e^10.879 ≈ 52.777 kr` |\n",
    "| 2+ stop        | `8.146 + 2.170 + 0.832 = 11.148` | 11.148       | `e^11.148 ≈ 69.247 kr` |\n"
   ]
  },
  {
   "cell_type": "markdown",
   "id": "a3282c72-3aba-4334-9763-d46effd4a14a",
   "metadata": {},
   "source": [
    "# Konklusion: \n",
    "\n",
    "Prisen på flybilletter påvirkes markant af både klasse og antal stop.Business-billetter er væsentligt dyrere end Economy, og flere stop øger gennemsnitsprisen i begge klasser.\n",
    "\n",
    "Ved brug af log-transformeret pris blev fejlene reduceret og forskellene mellem grupperne lettere at tolke."
   ]
  },
  {
   "cell_type": "markdown",
   "id": "8fbbd150-e341-44ec-b269-b8487c0eee87",
   "metadata": {},
   "source": [
    "# Endelig konklusion: Hvordan påvirker antallet af stop prisen?\n",
    "\n",
    "Hypotesen om, at flyvninger med flere stop generelt er billigere end direkte flyvninger, forkastes.\n",
    "\n",
    "Den beskrivende statistik viser, at gennemsnitsprisen er lavest for direkte fly (ca. 9.400 kr.), højest for 1-stop fly (ca. 23.000 kr.) og midt imellem for 2-stop (ca. 14.000 kr.). Visualiseringer som scatter- og boxplots bekræfter, at 1-stop og 2-stops flyvninger ofte har højere og mere ustabile priser end direkte fly.\n",
    "\n",
    "Den multiple lineær regressionsmodel viser, at både 1 og 2 stop er forbundet med højere priser sammenlignet med direkte fly. Én stop øger prisen med ca. 8.467 kr., og to eller flere stop med ca. 11.277 kr. Det betyder, at flere stop faktisk ofte øger prisen frem for at reducere den.\n",
    "\n",
    "Endelig viser Random Forest-modellen, at antallet af stop slet ikke er blandt de 10 vigtigste faktorer for prisfastsættelsen. Klassen, rejsens varighed og antal dage til afrejse har langt større betydning."
   ]
  }
 ],
 "metadata": {
  "kernelspec": {
   "display_name": "Python [conda env:base] *",
   "language": "python",
   "name": "conda-base-py"
  },
  "language_info": {
   "codemirror_mode": {
    "name": "ipython",
    "version": 3
   },
   "file_extension": ".py",
   "mimetype": "text/x-python",
   "name": "python",
   "nbconvert_exporter": "python",
   "pygments_lexer": "ipython3",
   "version": "3.12.7"
  }
 },
 "nbformat": 4,
 "nbformat_minor": 5
}
