{
 "cells": [
  {
   "cell_type": "code",
   "execution_count": 1,
   "id": "cb643dca-2ecb-4440-93a2-23b0bdd72336",
   "metadata": {},
   "outputs": [],
   "source": [
    "import pandas as pd\n",
    "import numpy as np\n",
    "import matplotlib.pyplot as plt\n",
    "import seaborn as sns"
   ]
  },
  {
   "cell_type": "markdown",
   "id": "af6b8eb3-5881-4c69-8981-8177478d48d0",
   "metadata": {},
   "source": [
    "# Indlæsning af data"
   ]
  },
  {
   "cell_type": "code",
   "execution_count": 3,
   "id": "97cfbb0a-018d-4e2b-b45b-3625b2b10e9f",
   "metadata": {},
   "outputs": [
    {
     "data": {
      "text/html": [
       "<div>\n",
       "<style scoped>\n",
       "    .dataframe tbody tr th:only-of-type {\n",
       "        vertical-align: middle;\n",
       "    }\n",
       "\n",
       "    .dataframe tbody tr th {\n",
       "        vertical-align: top;\n",
       "    }\n",
       "\n",
       "    .dataframe thead th {\n",
       "        text-align: right;\n",
       "    }\n",
       "</style>\n",
       "<table border=\"1\" class=\"dataframe\">\n",
       "  <thead>\n",
       "    <tr style=\"text-align: right;\">\n",
       "      <th></th>\n",
       "      <th>Airline</th>\n",
       "      <th>Date_of_Journey</th>\n",
       "      <th>Source</th>\n",
       "      <th>Dep_Time</th>\n",
       "      <th>Destination</th>\n",
       "      <th>Class</th>\n",
       "      <th>Price</th>\n",
       "    </tr>\n",
       "  </thead>\n",
       "  <tbody>\n",
       "    <tr>\n",
       "      <th>288</th>\n",
       "      <td>Jet Airways</td>\n",
       "      <td>27/05/2019</td>\n",
       "      <td>Delhi</td>\n",
       "      <td>20:55</td>\n",
       "      <td>Cochin</td>\n",
       "      <td>0</td>\n",
       "      <td>12898</td>\n",
       "    </tr>\n",
       "    <tr>\n",
       "      <th>575</th>\n",
       "      <td>Air India</td>\n",
       "      <td>09/03/2019</td>\n",
       "      <td>Banglore</td>\n",
       "      <td>21:10</td>\n",
       "      <td>New Delhi</td>\n",
       "      <td>0</td>\n",
       "      <td>4966</td>\n",
       "    </tr>\n",
       "    <tr>\n",
       "      <th>4812</th>\n",
       "      <td>IndiGo</td>\n",
       "      <td>18/03/2019</td>\n",
       "      <td>Banglore</td>\n",
       "      <td>16:55</td>\n",
       "      <td>New Delhi</td>\n",
       "      <td>0</td>\n",
       "      <td>4049</td>\n",
       "    </tr>\n",
       "    <tr>\n",
       "      <th>10323</th>\n",
       "      <td>Vistara</td>\n",
       "      <td>6/05/2019</td>\n",
       "      <td>Banglore</td>\n",
       "      <td>11:30</td>\n",
       "      <td>Delhi</td>\n",
       "      <td>0</td>\n",
       "      <td>4668</td>\n",
       "    </tr>\n",
       "    <tr>\n",
       "      <th>8907</th>\n",
       "      <td>Jet Airways</td>\n",
       "      <td>9/06/2019</td>\n",
       "      <td>Kolkata</td>\n",
       "      <td>20:00</td>\n",
       "      <td>Banglore</td>\n",
       "      <td>0</td>\n",
       "      <td>14571</td>\n",
       "    </tr>\n",
       "  </tbody>\n",
       "</table>\n",
       "</div>"
      ],
      "text/plain": [
       "           Airline Date_of_Journey    Source Dep_Time Destination  Class  \\\n",
       "288    Jet Airways      27/05/2019     Delhi    20:55      Cochin      0   \n",
       "575      Air India      09/03/2019  Banglore    21:10   New Delhi      0   \n",
       "4812        IndiGo      18/03/2019  Banglore    16:55   New Delhi      0   \n",
       "10323      Vistara       6/05/2019  Banglore    11:30       Delhi      0   \n",
       "8907   Jet Airways       9/06/2019   Kolkata    20:00    Banglore      0   \n",
       "\n",
       "       Price  \n",
       "288    12898  \n",
       "575     4966  \n",
       "4812    4049  \n",
       "10323   4668  \n",
       "8907   14571  "
      ]
     },
     "execution_count": 3,
     "metadata": {},
     "output_type": "execute_result"
    }
   ],
   "source": [
    "df = pd.read_csv('../data/Data_Train.csv')\n",
    "df.sample(5)"
   ]
  },
  {
   "cell_type": "markdown",
   "id": "696ec8cc-da0e-4f6a-a964-45011756fa50",
   "metadata": {},
   "source": [
    "Vi har importeret dataene og lavet en hurtig gennemgang for at få et overblik over datasættet. Nu går vi videre med at forberede og rense dataene, så de er klar til analyse."
   ]
  },
  {
   "cell_type": "markdown",
   "id": "3be6db84-4576-49b6-a403-a3e51b2d3dc0",
   "metadata": {},
   "source": [
    "# Rensning af data"
   ]
  },
  {
   "cell_type": "code",
   "execution_count": 6,
   "id": "4eed48e6-b661-4c4f-97ab-73507661e0fa",
   "metadata": {},
   "outputs": [
    {
     "name": "stdout",
     "output_type": "stream",
     "text": [
      "Tjekker for manglende værdier:\n",
      "Airline            0\n",
      "Date_of_Journey    0\n",
      "Source             0\n",
      "Dep_Time           0\n",
      "Destination        0\n",
      "Class              0\n",
      "Price              0\n",
      "dtype: int64\n",
      "Tjekker for NaN-værdier:\n",
      "Airline            0\n",
      "Date_of_Journey    0\n",
      "Source             0\n",
      "Dep_Time           0\n",
      "Destination        0\n",
      "Class              0\n",
      "Price              0\n",
      "dtype: int64\n",
      "Tjekker for datatyper:\n",
      "<class 'pandas.core.frame.DataFrame'>\n",
      "RangeIndex: 10683 entries, 0 to 10682\n",
      "Data columns (total 7 columns):\n",
      " #   Column           Non-Null Count  Dtype \n",
      "---  ------           --------------  ----- \n",
      " 0   Airline          10683 non-null  object\n",
      " 1   Date_of_Journey  10683 non-null  object\n",
      " 2   Source           10683 non-null  object\n",
      " 3   Dep_Time         10683 non-null  object\n",
      " 4   Destination      10683 non-null  object\n",
      " 5   Class            10683 non-null  int64 \n",
      " 6   Price            10683 non-null  int64 \n",
      "dtypes: int64(2), object(5)\n",
      "memory usage: 584.4+ KB\n",
      "None\n",
      "Tjekker for duplikater:\n",
      "2001\n"
     ]
    }
   ],
   "source": [
    "# Tjekker for manglende værdier\n",
    "print(\"Tjekker for manglende værdier:\")\n",
    "print(df.isnull().sum())\n",
    "\n",
    "# Tjekker for NaN-værdier\n",
    "print(\"Tjekker for NaN-værdier:\")\n",
    "print(df.isna().sum())\n",
    "\n",
    "# Tjekker for datatyper\n",
    "print(\"Tjekker for datatyper:\")\n",
    "print(df.info())\n",
    "\n",
    "# Tjekker for duplikater\n",
    "# Hvis der står noget to gange et sted\n",
    "print(\"Tjekker for duplikater:\")\n",
    "print(df.duplicated().sum()) "
   ]
  },
  {
   "cell_type": "code",
   "execution_count": 7,
   "id": "e346653f-db8e-4417-80e1-3a701cfe61db",
   "metadata": {},
   "outputs": [
    {
     "name": "stdout",
     "output_type": "stream",
     "text": [
      "Antal fuldstændige duplikatrækker (inkl. kopier): 3192\n",
      "\n",
      "Eksempler på duplikerede rækker:\n",
      "        Airline Date_of_Journey    Source Dep_Time Destination  Class  Price\n",
      "2   Jet Airways       9/06/2019     Delhi    09:25      Cochin      0  13882\n",
      "6   Jet Airways      12/03/2019  Banglore    18:55   New Delhi      0  11087\n",
      "7   Jet Airways      01/03/2019  Banglore    08:00   New Delhi      0  22270\n",
      "13  Jet Airways       9/05/2019   Kolkata    21:10    Banglore      0   9663\n",
      "17  Jet Airways      12/06/2019     Delhi    14:00      Cochin      0  10262\n",
      "\n",
      "Antal gentagelser (egentlige duplikater): 2001\n",
      "Antal unikke rækker blandt de duplikerede: 1191\n",
      "\n",
      "Forekomster af række 2:\n",
      "          Airline Date_of_Journey Source Dep_Time Destination  Class  Price\n",
      "2     Jet Airways       9/06/2019  Delhi    09:25      Cochin      0  13882\n",
      "5375  Jet Airways       9/06/2019  Delhi    09:25      Cochin      0  13882\n",
      "\n",
      "Forekomster af række 6:\n",
      "          Airline Date_of_Journey    Source Dep_Time Destination  Class  Price\n",
      "6     Jet Airways      12/03/2019  Banglore    18:55   New Delhi      0  11087\n",
      "400   Jet Airways      12/03/2019  Banglore    18:55   New Delhi      0  11087\n",
      "1668  Jet Airways      12/03/2019  Banglore    18:55   New Delhi      0  11087\n",
      "2938  Jet Airways      12/03/2019  Banglore    18:55   New Delhi      0  11087\n",
      "4846  Jet Airways      12/03/2019  Banglore    18:55   New Delhi      0  11087\n",
      "5110  Jet Airways      12/03/2019  Banglore    18:55   New Delhi      0  11087\n",
      "5985  Jet Airways      12/03/2019  Banglore    18:55   New Delhi      0  11087\n",
      "6659  Jet Airways      12/03/2019  Banglore    18:55   New Delhi      0  11087\n",
      "8339  Jet Airways      12/03/2019  Banglore    18:55   New Delhi      0  11087\n",
      "8924  Jet Airways      12/03/2019  Banglore    18:55   New Delhi      0  11087\n"
     ]
    }
   ],
   "source": [
    "# Finder alle rækker der er identiske med mindst én anden (keep=False viser ALLE forekomster)\n",
    "fulde_duplikater = df[df.duplicated(keep=False)]\n",
    "\n",
    "# Udskriver samlet antal duplikerede rækker\n",
    "print(\"Antal fuldstændige duplikatrækker (inkl. kopier):\", fulde_duplikater.shape[0])\n",
    "\n",
    "# Viser et par eksempler på de duplikerede rækker\n",
    "print(\"\\nEksempler på duplikerede rækker:\")\n",
    "print(fulde_duplikater.head())\n",
    "\n",
    "# Tæller hvor mange af disse er faktiske kopier (ikke første forekomst)\n",
    "antal_egentlige_duplikater = df[df.duplicated(keep=False)].duplicated().sum()\n",
    "print(\"\\nAntal gentagelser (egentlige duplikater):\", antal_egentlige_duplikater)\n",
    "\n",
    "# Tjekker hvor mange unikke rækker er det der gentages?\n",
    "unikke_rækker = fulde_duplikater.drop_duplicates()\n",
    "print(\"Antal unikke rækker blandt de duplikerede:\", unikke_rækker.shape[0])\n",
    "\n",
    "# Eksempel 1: Række 2\n",
    "print(\"\\nForekomster af række 2:\")\n",
    "print(df[df.eq(df.loc[2]).all(axis=1)])\n",
    "\n",
    "# Eksempel 2: Række 6\n",
    "print(\"\\nForekomster af række 6:\")\n",
    "print(df[df.eq(df.loc[6]).all(axis=1)])"
   ]
  },
  {
   "cell_type": "code",
   "execution_count": 8,
   "id": "7456300a-354c-42d3-afd7-a5bf6ab36644",
   "metadata": {},
   "outputs": [
    {
     "name": "stdout",
     "output_type": "stream",
     "text": [
      "Datasættets nye størrelse efter sletning af duplikater: (8682, 7)\n"
     ]
    }
   ],
   "source": [
    "# Fjerner duplikaterne fra datasættet for at sikre, at kun unikke observationer er tilbage\n",
    "df = df.drop_duplicates()\n",
    "print(\"Datasættets nye størrelse efter sletning af duplikater:\", df.shape)"
   ]
  },
  {
   "cell_type": "markdown",
   "id": "59b17479-0774-4aea-9caf-4825c7deb85b",
   "metadata": {},
   "source": [
    "Datasættet indeholder ikke nogen manglende værdier, hverken som NaN eller null. Datatyperne består hovedsageligt af tekst (object), som vi vil konvertere til string, samt nogle numeriske kolonner, der er defineret som heltal (int64) og decimaltal (float64).\n",
    "\n",
    "Datasættet indeholder en del duplikater, hvor nogle rækker er præcist ens. Selvom duplikater kan være nyttige i nogle analyser, har vi valgt at fjerne dem her. Det gør vi for at sikre, at hver række i datasættet bidrager unikt til vores analyser og modeller. Ved at fjerne duplikaterne undgår vi, at nogle observationer får for stor vægt i analysen, hvilket kan påvirke resultaterne. Dette er vigtigt, både for lineær regression og andre statistiske analyser og maskinlæringsmodeller.\n",
    "\n",
    "Nu opdeles datasættet i to separate dataframes: en med numeriske værdier og en med nominelle (kategoriske) data, da det bliver lettere at arbejde med disse typer."
   ]
  },
  {
   "cell_type": "markdown",
   "id": "35221dea-b66f-4dca-9fe4-81ace4689ff3",
   "metadata": {},
   "source": [
    "# Koncerteringer "
   ]
  },
  {
   "cell_type": "code",
   "execution_count": 11,
   "id": "7a412eff-8a2b-49bb-8b58-ce6d13f8d51d",
   "metadata": {},
   "outputs": [
    {
     "name": "stdout",
     "output_type": "stream",
     "text": [
      "Index(['Airline', 'Date_of_Journey', 'Source', 'Dep_Time', 'Destination',\n",
      "       'Class', 'Price'],\n",
      "      dtype='object')\n"
     ]
    }
   ],
   "source": [
    "print(df.columns)"
   ]
  },
  {
   "cell_type": "code",
   "execution_count": 12,
   "id": "205407ae-795f-4844-a415-85d484a92ad2",
   "metadata": {},
   "outputs": [
    {
     "name": "stdout",
     "output_type": "stream",
     "text": [
      "   journey_day  journey_month  journey_week  is_weekend  dep_hour\n",
      "0           24              3            12           1        22\n",
      "1            1              5            18           0         5\n",
      "2            9              6            23           1         9\n",
      "3           12              5            19           1        18\n",
      "4            1              3             9           0        16\n",
      "5           24              6            26           0         9\n",
      "6           12              3            11           0        18\n",
      "7            1              3             9           0         8\n",
      "8           12              3            11           0         8\n",
      "9           27              5            22           0        11\n"
     ]
    }
   ],
   "source": [
    "# Konverter 'Date_of_Journey' til datetime med fejlbehandling\n",
    "df['Date_of_Journey'] = pd.to_datetime(df['Date_of_Journey'], format='%d/%m/%Y', errors='coerce')\n",
    "\n",
    "# Ekstraher dag, måned, ugenummer og weekend flag (brug konsistente kolonnenavne med små bogstaver)\n",
    "df['journey_day'] = df['Date_of_Journey'].dt.day.astype('int64')\n",
    "df['journey_month'] = df['Date_of_Journey'].dt.month.astype('int64')\n",
    "df['journey_week'] = df['Date_of_Journey'].dt.isocalendar().week.astype('int64')\n",
    "df['is_weekend'] = (df['Date_of_Journey'].dt.dayofweek >= 5).astype('int64')\n",
    "\n",
    "# Konverter 'Dep_Time' til datetime og udtræk time som heltal\n",
    "df['Dep_Time'] = pd.to_datetime(df['Dep_Time'], format='%H:%M', errors='coerce')\n",
    "df['dep_hour'] = df['Dep_Time'].dt.hour.astype('int64')\n",
    "\n",
    "# Fjern 'Dep_Time' hvis ikke længere nødvendig\n",
    "df.drop('Dep_Time', axis=1, inplace=True)\n",
    "df.drop('Date_of_Journey', axis=1, inplace=True)\n",
    "\n",
    "# Print udvalgte kolonner for at se resultatet\n",
    "print(df[['journey_day', 'journey_month', 'journey_week', 'is_weekend', 'dep_hour']].head(10))"
   ]
  },
  {
   "cell_type": "code",
   "execution_count": 13,
   "id": "1ee577f3-52e7-44e3-8b2e-9697991dc0ce",
   "metadata": {},
   "outputs": [
    {
     "name": "stdout",
     "output_type": "stream",
     "text": [
      "      Class  Price  is_weekend  Airline_Air Asia  Airline_Air India  \\\n",
      "3492      0   4332           1                 0                  0   \n",
      "2767      0  12242           0                 0                  0   \n",
      "2293      0   8603           0                 0                  1   \n",
      "2318      0   6442           1                 0                  0   \n",
      "8073      0   4804           0                 0                  0   \n",
      "\n",
      "      Airline_GoAir  Airline_IndiGo  Airline_Jet Airways  \\\n",
      "3492              0               1                    0   \n",
      "2767              0               0                    1   \n",
      "2293              0               0                    0   \n",
      "2318              0               1                    0   \n",
      "8073              0               1                    0   \n",
      "\n",
      "      Airline_Jet Airways Business  Airline_Multiple carriers  \\\n",
      "3492                             0                          0   \n",
      "2767                             0                          0   \n",
      "2293                             0                          0   \n",
      "2318                             0                          0   \n",
      "8073                             0                          0   \n",
      "\n",
      "      Airline_Multiple carriers Premium economy  Airline_SpiceJet  \\\n",
      "3492                                          0                 0   \n",
      "2767                                          0                 0   \n",
      "2293                                          0                 0   \n",
      "2318                                          0                 0   \n",
      "8073                                          0                 0   \n",
      "\n",
      "      Airline_Trujet  Airline_Vistara  Airline_Vistara Premium economy  \\\n",
      "3492               0                0                                0   \n",
      "2767               0                0                                0   \n",
      "2293               0                0                                0   \n",
      "2318               0                0                                0   \n",
      "8073               0                0                                0   \n",
      "\n",
      "      Source_Banglore  Source_Chennai  Source_Delhi  Source_Kolkata  \\\n",
      "3492                0               1             0               0   \n",
      "2767                0               0             1               0   \n",
      "2293                0               0             1               0   \n",
      "2318                0               0             1               0   \n",
      "8073                0               0             0               1   \n",
      "\n",
      "      Source_Mumbai  Destination_Banglore  Destination_Cochin  \\\n",
      "3492              0                     0                   0   \n",
      "2767              0                     0                   1   \n",
      "2293              0                     0                   1   \n",
      "2318              0                     0                   1   \n",
      "8073              0                     1                   0   \n",
      "\n",
      "      Destination_Delhi  Destination_Hyderabad  Destination_Kolkata  \\\n",
      "3492                  0                      0                    1   \n",
      "2767                  0                      0                    0   \n",
      "2293                  0                      0                    0   \n",
      "2318                  0                      0                    0   \n",
      "8073                  0                      0                    0   \n",
      "\n",
      "      Destination_New Delhi  journey_month_3  journey_month_4  \\\n",
      "3492                      0                0                0   \n",
      "2767                      0                1                0   \n",
      "2293                      0                0                0   \n",
      "2318                      0                0                0   \n",
      "8073                      0                0                0   \n",
      "\n",
      "      journey_month_5  journey_month_6  journey_day_1  journey_day_3  \\\n",
      "3492                1                0              0              0   \n",
      "2767                0                0              0              0   \n",
      "2293                0                1              0              0   \n",
      "2318                0                1              0              0   \n",
      "8073                1                0              0              0   \n",
      "\n",
      "      journey_day_6  journey_day_9  journey_day_12  journey_day_15  \\\n",
      "3492              0              0               0               0   \n",
      "2767              0              0               0               0   \n",
      "2293              0              0               0               0   \n",
      "2318              0              0               0               1   \n",
      "8073              0              0               0               0   \n",
      "\n",
      "      journey_day_18  journey_day_21  journey_day_24  journey_day_27  \\\n",
      "3492               1               0               0               0   \n",
      "2767               0               0               0               1   \n",
      "2293               0               0               0               1   \n",
      "2318               0               0               0               0   \n",
      "8073               0               0               1               0   \n",
      "\n",
      "      journey_week_9  journey_week_10  journey_week_11  journey_week_12  \\\n",
      "3492               0                0                0                0   \n",
      "2767               0                0                0                0   \n",
      "2293               0                0                0                0   \n",
      "2318               0                0                0                0   \n",
      "8073               0                0                0                0   \n",
      "\n",
      "      journey_week_13  journey_week_14  journey_week_15  journey_week_16  \\\n",
      "3492                0                0                0                0   \n",
      "2767                1                0                0                0   \n",
      "2293                0                0                0                0   \n",
      "2318                0                0                0                0   \n",
      "8073                0                0                0                0   \n",
      "\n",
      "      journey_week_17  journey_week_18  journey_week_19  journey_week_20  \\\n",
      "3492                0                0                0                1   \n",
      "2767                0                0                0                0   \n",
      "2293                0                0                0                0   \n",
      "2318                0                0                0                0   \n",
      "8073                0                0                0                0   \n",
      "\n",
      "      journey_week_21  journey_week_22  journey_week_23  journey_week_24  \\\n",
      "3492                0                0                0                0   \n",
      "2767                0                0                0                0   \n",
      "2293                0                0                0                0   \n",
      "2318                0                0                0                1   \n",
      "8073                1                0                0                0   \n",
      "\n",
      "      journey_week_25  journey_week_26  dep_hour_0  dep_hour_1  dep_hour_2  \\\n",
      "3492                0                0           0           0           0   \n",
      "2767                0                0           0           0           1   \n",
      "2293                0                1           0           0           0   \n",
      "2318                0                0           0           0           0   \n",
      "8073                0                0           0           0           0   \n",
      "\n",
      "      dep_hour_3  dep_hour_4  dep_hour_5  dep_hour_6  dep_hour_7  dep_hour_8  \\\n",
      "3492           0           0           0           0           0           0   \n",
      "2767           0           0           0           0           0           0   \n",
      "2293           0           0           0           0           0           0   \n",
      "2318           0           0           0           0           0           0   \n",
      "8073           0           1           0           0           0           0   \n",
      "\n",
      "      dep_hour_9  dep_hour_10  dep_hour_11  dep_hour_12  dep_hour_13  \\\n",
      "3492           0            0            1            0            0   \n",
      "2767           0            0            0            0            0   \n",
      "2293           0            0            0            1            0   \n",
      "2318           0            0            1            0            0   \n",
      "8073           0            0            0            0            0   \n",
      "\n",
      "      dep_hour_14  dep_hour_15  dep_hour_16  dep_hour_17  dep_hour_18  \\\n",
      "3492            0            0            0            0            0   \n",
      "2767            0            0            0            0            0   \n",
      "2293            0            0            0            0            0   \n",
      "2318            0            0            0            0            0   \n",
      "8073            0            0            0            0            0   \n",
      "\n",
      "      dep_hour_19  dep_hour_20  dep_hour_21  dep_hour_22  dep_hour_23  \n",
      "3492            0            0            0            0            0  \n",
      "2767            0            0            0            0            0  \n",
      "2293            0            0            0            0            0  \n",
      "2318            0            0            0            0            0  \n",
      "8073            0            0            0            0            0  \n"
     ]
    }
   ],
   "source": [
    "# Brug de korrekte kolonnenavne som faktisk findes i dataframe\n",
    "dfNumeric = pd.get_dummies(df, columns=['Airline', 'Source', 'Destination', 'journey_month', 'journey_day', 'journey_week', 'dep_hour'], dtype=pd.Int64Dtype())\n",
    "\n",
    "# Sørg for alle kolonner vises\n",
    "pd.set_option('display.max_columns', None)\n",
    "\n",
    "# Se et eksempel\n",
    "print(dfNumeric.sample(5))"
   ]
  },
  {
   "cell_type": "code",
   "execution_count": 14,
   "id": "14445f87-1c60-4c56-9866-f5fc440f7499",
   "metadata": {},
   "outputs": [
    {
     "data": {
      "text/plain": [
       "Airline          string[python]\n",
       "Source           string[python]\n",
       "Destination      string[python]\n",
       "Class                     int64\n",
       "Price                     int64\n",
       "journey_day               int64\n",
       "journey_month             int64\n",
       "journey_week              int64\n",
       "is_weekend                int64\n",
       "dep_hour                  int64\n",
       "dtype: object"
      ]
     },
     "execution_count": 14,
     "metadata": {},
     "output_type": "execute_result"
    }
   ],
   "source": [
    "# Konverterer alle 'object'-kolonner til 'string'-type\n",
    "# det gør det lettere at arbejde med tekstdata i pandas\n",
    "for col in df:\n",
    "    if df[col].dtype == 'object':\n",
    "        df[col] = df[col].astype('string')\n",
    "\n",
    "# Tjekker datatyperne efter konvertering\n",
    "df.dtypes"
   ]
  },
  {
   "cell_type": "markdown",
   "id": "2d461c8c-add5-43ee-8144-574bf2884939",
   "metadata": {},
   "source": [
    "# Dataudforskning"
   ]
  },
  {
   "cell_type": "code",
   "execution_count": 16,
   "id": "90e11bfa-4935-4773-9bb5-e21acabcfd5e",
   "metadata": {
    "scrolled": true
   },
   "outputs": [
    {
     "data": {
      "text/html": [
       "<div>\n",
       "<style scoped>\n",
       "    .dataframe tbody tr th:only-of-type {\n",
       "        vertical-align: middle;\n",
       "    }\n",
       "\n",
       "    .dataframe tbody tr th {\n",
       "        vertical-align: top;\n",
       "    }\n",
       "\n",
       "    .dataframe thead th {\n",
       "        text-align: right;\n",
       "    }\n",
       "</style>\n",
       "<table border=\"1\" class=\"dataframe\">\n",
       "  <thead>\n",
       "    <tr style=\"text-align: right;\">\n",
       "      <th></th>\n",
       "      <th>Class</th>\n",
       "      <th>Price</th>\n",
       "      <th>journey_day</th>\n",
       "      <th>journey_month</th>\n",
       "      <th>journey_week</th>\n",
       "      <th>is_weekend</th>\n",
       "      <th>dep_hour</th>\n",
       "    </tr>\n",
       "  </thead>\n",
       "  <tbody>\n",
       "    <tr>\n",
       "      <th>count</th>\n",
       "      <td>8682.0</td>\n",
       "      <td>8682.000000</td>\n",
       "      <td>8682.000000</td>\n",
       "      <td>8682.000000</td>\n",
       "      <td>8682.000000</td>\n",
       "      <td>8682.000000</td>\n",
       "      <td>8682.000000</td>\n",
       "    </tr>\n",
       "    <tr>\n",
       "      <th>mean</th>\n",
       "      <td>0.0</td>\n",
       "      <td>8434.731283</td>\n",
       "      <td>13.601014</td>\n",
       "      <td>4.695001</td>\n",
       "      <td>18.367196</td>\n",
       "      <td>0.293941</td>\n",
       "      <td>12.317784</td>\n",
       "    </tr>\n",
       "    <tr>\n",
       "      <th>std</th>\n",
       "      <td>0.0</td>\n",
       "      <td>4605.337734</td>\n",
       "      <td>8.537199</td>\n",
       "      <td>1.164916</td>\n",
       "      <td>5.244065</td>\n",
       "      <td>0.455592</td>\n",
       "      <td>5.703824</td>\n",
       "    </tr>\n",
       "    <tr>\n",
       "      <th>min</th>\n",
       "      <td>0.0</td>\n",
       "      <td>1759.000000</td>\n",
       "      <td>1.000000</td>\n",
       "      <td>3.000000</td>\n",
       "      <td>9.000000</td>\n",
       "      <td>0.000000</td>\n",
       "      <td>0.000000</td>\n",
       "    </tr>\n",
       "    <tr>\n",
       "      <th>25%</th>\n",
       "      <td>0.0</td>\n",
       "      <td>4823.000000</td>\n",
       "      <td>6.000000</td>\n",
       "      <td>3.000000</td>\n",
       "      <td>13.000000</td>\n",
       "      <td>0.000000</td>\n",
       "      <td>7.000000</td>\n",
       "    </tr>\n",
       "    <tr>\n",
       "      <th>50%</th>\n",
       "      <td>0.0</td>\n",
       "      <td>7229.000000</td>\n",
       "      <td>12.000000</td>\n",
       "      <td>5.000000</td>\n",
       "      <td>20.000000</td>\n",
       "      <td>0.000000</td>\n",
       "      <td>11.000000</td>\n",
       "    </tr>\n",
       "    <tr>\n",
       "      <th>75%</th>\n",
       "      <td>0.0</td>\n",
       "      <td>11410.000000</td>\n",
       "      <td>21.000000</td>\n",
       "      <td>6.000000</td>\n",
       "      <td>23.000000</td>\n",
       "      <td>1.000000</td>\n",
       "      <td>17.000000</td>\n",
       "    </tr>\n",
       "    <tr>\n",
       "      <th>max</th>\n",
       "      <td>0.0</td>\n",
       "      <td>79512.000000</td>\n",
       "      <td>27.000000</td>\n",
       "      <td>6.000000</td>\n",
       "      <td>26.000000</td>\n",
       "      <td>1.000000</td>\n",
       "      <td>23.000000</td>\n",
       "    </tr>\n",
       "  </tbody>\n",
       "</table>\n",
       "</div>"
      ],
      "text/plain": [
       "        Class         Price  journey_day  journey_month  journey_week  \\\n",
       "count  8682.0   8682.000000  8682.000000    8682.000000   8682.000000   \n",
       "mean      0.0   8434.731283    13.601014       4.695001     18.367196   \n",
       "std       0.0   4605.337734     8.537199       1.164916      5.244065   \n",
       "min       0.0   1759.000000     1.000000       3.000000      9.000000   \n",
       "25%       0.0   4823.000000     6.000000       3.000000     13.000000   \n",
       "50%       0.0   7229.000000    12.000000       5.000000     20.000000   \n",
       "75%       0.0  11410.000000    21.000000       6.000000     23.000000   \n",
       "max       0.0  79512.000000    27.000000       6.000000     26.000000   \n",
       "\n",
       "        is_weekend     dep_hour  \n",
       "count  8682.000000  8682.000000  \n",
       "mean      0.293941    12.317784  \n",
       "std       0.455592     5.703824  \n",
       "min       0.000000     0.000000  \n",
       "25%       0.000000     7.000000  \n",
       "50%       0.000000    11.000000  \n",
       "75%       1.000000    17.000000  \n",
       "max       1.000000    23.000000  "
      ]
     },
     "execution_count": 16,
     "metadata": {},
     "output_type": "execute_result"
    }
   ],
   "source": [
    "# giver et hurtigt overblik over tallene i datasættet, som fx gennemsnit, min, max og spredning\n",
    "df.describe()"
   ]
  },
  {
   "cell_type": "markdown",
   "id": "7f92ab2c-89cc-4e00-a485-854b7b99e3ac",
   "metadata": {},
   "source": [
    "Date_of_Journey: Datoerne Strækker sig fra 1. marts til 27. juni 2019, med median omkring midt i maj.\n",
    "\n",
    "Price: Priserne varierer fra 1.759 til 79.512, med en gennemsnitlig pris på ca. 8.435.\n",
    "\n",
    "Journey_month: Rejserne fordeler sig over månederne marts (3) til juni (6), med flest rejser omkring april–maj (gennemsnit 4,7).\n",
    "\n",
    "Der er stor variation i priserne, hvilket sandsynligvis skyldes forskelle i sæson, rejseklasse og flyselskab.\n",
    "\n",
    "Standardafvigelsen vises som NaN for datoer, da det ikke er beregnbar, da det er en datetime-værdi"
   ]
  },
  {
   "cell_type": "code",
   "execution_count": 18,
   "id": "06620594-f033-4c8b-98b7-c2ceaa447ece",
   "metadata": {},
   "outputs": [
    {
     "data": {
      "text/plain": [
       "Index(['Airline', 'Source', 'Destination', 'Class', 'Price', 'journey_day',\n",
       "       'journey_month', 'journey_week', 'is_weekend', 'dep_hour'],\n",
       "      dtype='object')"
      ]
     },
     "execution_count": 18,
     "metadata": {},
     "output_type": "execute_result"
    }
   ],
   "source": [
    "df.columns"
   ]
  },
  {
   "cell_type": "markdown",
   "id": "b1f48a15-77f6-4d96-ade4-7646f83b1cce",
   "metadata": {},
   "source": [
    "Vi kan se, at dataene allerede er forholdsvis standardiserede, men lad os konvertere kolonnenavnene til at bruge \"x-y\" i stedet for \"x_y\" for at demonstrere muligheden for at forberede data."
   ]
  },
  {
   "cell_type": "code",
   "execution_count": 20,
   "id": "46426f61-f3bf-4c9b-88bb-003a3c93ee0f",
   "metadata": {},
   "outputs": [
    {
     "name": "stdout",
     "output_type": "stream",
     "text": [
      "Index(['AIRLINE', 'SOURCE', 'DESTINATION', 'CLASS', 'PRICE', 'JOURNEY-DAY',\n",
      "       'JOURNEY-MONTH', 'JOURNEY-WEEK', 'IS-WEEKEND', 'DEP-HOUR'],\n",
      "      dtype='object')\n"
     ]
    },
    {
     "data": {
      "text/plain": [
       "0"
      ]
     },
     "execution_count": 20,
     "metadata": {},
     "output_type": "execute_result"
    }
   ],
   "source": [
    "import gc\n",
    "\n",
    "dfStan = df.copy()\n",
    "\n",
    "# Skifter kolonnenavne til store bogstaver og erstatter \"_\" med \"-\"\n",
    "dfStan.columns = [col.upper().replace('_', '-') for col in dfStan.columns]\n",
    "\n",
    "print(dfStan.columns)\n",
    "\n",
    "del dfStan\n",
    "\n",
    "# Kører garbage collection for at rydde op i hukommelsen\n",
    "gc.collect()"
   ]
  },
  {
   "cell_type": "markdown",
   "id": "b7fd6eeb-2d96-4dfc-b923-3e40f6688d39",
   "metadata": {},
   "source": [
    "Som nævnt foretager vi ikke en permanent ændring af kolonnenavnene i datasættet, men viser blot, hvordan det kan gøres. \n",
    "\n",
    "Vi vælger dog at konvertere kolonnenavnene til små bogstaver, da det giver et pænere, mere ensartet og læsevenligt datasæt."
   ]
  },
  {
   "cell_type": "code",
   "execution_count": 22,
   "id": "82242d48-bc08-4152-b305-a86fe848a2a9",
   "metadata": {},
   "outputs": [
    {
     "name": "stdout",
     "output_type": "stream",
     "text": [
      "Index(['airline', 'source', 'destination', 'class', 'price', 'journey_day',\n",
      "       'journey_month', 'journey_week', 'is_weekend', 'dep_hour'],\n",
      "      dtype='object')\n"
     ]
    }
   ],
   "source": [
    "# Skifter kolonnenavne til små bogstaver \n",
    "df.columns = [col.lower() for col in df.columns]\n",
    "\n",
    "print(df.columns)"
   ]
  },
  {
   "cell_type": "markdown",
   "id": "b5e40d0b-4f19-4ccc-b871-7129d25de597",
   "metadata": {},
   "source": [
    "# Grundlæggende visualiseringer"
   ]
  },
  {
   "cell_type": "markdown",
   "id": "bd0738e3-69c2-4d7f-94fe-2321584020b6",
   "metadata": {},
   "source": [
    "# Visualiseringer af Prisoversigt over alle priser "
   ]
  },
  {
   "cell_type": "code",
   "execution_count": 25,
   "id": "3a97d1a9-cc84-4021-bcd4-198329bd9986",
   "metadata": {},
   "outputs": [
    {
     "data": {
      "image/png": "[encoded data removed]",
      "text/plain": [
       "<Figure size 1000x800 with 2 Axes>"
      ]
     },
     "metadata": {},
     "output_type": "display_data"
    },
    {
     "name": "stdout",
     "output_type": "stream",
     "text": [
      "Skævhed (Skewness): 2.24303381701942\n",
      "Kurtosis: 17.0167794296372\n",
      "Fordelingen er højreskæv (positiv skævhed).\n",
      "Fordelingen er spidsere end en normalfordeling (høj kurtosis).\n"
     ]
    }
   ],
   "source": [
    "from scipy.stats import skew, kurtosis  \n",
    "\n",
    "plt.figure(figsize=(10, 8))\n",
    "\n",
    "# Histogram med KDE øverst\n",
    "plt.subplot(2, 1, 1)\n",
    "sns.histplot(df['price'], kde=True, bins=50)\n",
    "plt.title('Fordeling af Priser - histogram')\n",
    "plt.ylabel('Antal')\n",
    "plt.xlabel('Pris')\n",
    "\n",
    "# Boxplot nederst\n",
    "plt.subplot(2, 1, 2)\n",
    "sns.boxplot(x=df['price'])\n",
    "plt.title('Boxplot af Pris')\n",
    "\n",
    "plt.tight_layout()\n",
    "plt.show()\n",
    "\n",
    "# Beregning af skævhed og kurtosis til histogram\n",
    "skewness = skew(df['price'].dropna())\n",
    "kurt = kurtosis(df['price'].dropna())\n",
    "\n",
    "print(f\"Skævhed (Skewness): {skewness}\")\n",
    "print(f\"Kurtosis: {kurt}\")\n",
    "\n",
    "if skewness > 0:\n",
    "    print(\"Fordelingen er højreskæv (positiv skævhed).\")\n",
    "elif skewness < 0:\n",
    "    print(\"Fordelingen er venstreskæv (negativ skævhed).\")\n",
    "else:\n",
    "    print(\"Fordelingen er symmetrisk.\")\n",
    "\n",
    "if kurt > 0:\n",
    "    print(\"Fordelingen er spidsere end en normalfordeling (høj kurtosis).\")\n",
    "elif kurt < 0:\n",
    "    print(\"Fordelingen er fladere end en normalfordeling (lav kurtosis).\")\n",
    "else:\n",
    "    print(\"Fordelingen har samme spidshed som en normalfordeling.\")"
   ]
  },
  {
   "cell_type": "markdown",
   "id": "dd51825d-6049-45ea-87be-7e405c48de1d",
   "metadata": {},
   "source": [
    "### \n",
    "\n",
    "Priserne på billetterne er tydeligt højreskæve, hvilket betyder, at de fleste priser er rimeligt lave, men der er en del, som er meget høje og trækker hele fordelingen ud mod højre. Det forklarer den lange hale i prisfordelingen.\n",
    "\n",
    "Derudover er kurtosis meget høj, hvilket viser, at fordelingen er spidsere end en normalfordeling — altså at der er flere meget høje priser, end man normalt ville forvente. Det er helt naturligt for flypriser, hvor billetter i fx business class eller højsæson kan koste markant mere"
   ]
  },
  {
   "cell_type": "markdown",
   "id": "9b138cd2-dbb6-4045-b0d8-f82f87bab560",
   "metadata": {},
   "source": [
    "# Prisoversigt fordelt over økonomiklasse og businesklasse "
   ]
  },
  {
   "cell_type": "code",
   "execution_count": 28,
   "id": "1fcbed51-6e28-470b-bb52-3dcfbf71af91",
   "metadata": {},
   "outputs": [],
   "source": [
    "# Antagelse: Priser over 25.000 er sandsynligvis businessklasse (baseret på min graf)\n",
    "business_df = df[df['price'] > 25000]\n",
    "economy_df = df[df['price'] <= 25000]"
   ]
  },
  {
   "cell_type": "code",
   "execution_count": 29,
   "id": "1143e518-d304-4acc-8d9e-79f63eef7cff",
   "metadata": {},
   "outputs": [
    {
     "data": {
      "image/png": "[encoded data removed]",
      "text/plain": [
       "<Figure size 1200x500 with 2 Axes>"
      ]
     },
     "metadata": {},
     "output_type": "display_data"
    }
   ],
   "source": [
    "plt.figure(figsize=(12, 5))\n",
    "\n",
    "plt.subplot(1, 2, 1)\n",
    "sns.histplot(economy_df['price'], kde=True, bins=40)\n",
    "plt.title('Økonomiklasse - Prisfordeling')\n",
    "\n",
    "plt.subplot(1, 2, 2)\n",
    "sns.histplot(business_df['price'], kde=True, bins=20, color='red')\n",
    "plt.title('Businessklasse - Prisfordeling')\n",
    "\n",
    "plt.tight_layout()\n",
    "plt.show()"
   ]
  },
  {
   "cell_type": "markdown",
   "id": "b883ba5d-8c06-4ad3-9cb7-a72db67798d2",
   "metadata": {},
   "source": [
    "# \n",
    "\n",
    "Jeg har delt datasættet op i to dele, med økonomiklasse og busniessklasse."
   ]
  },
  {
   "cell_type": "code",
   "execution_count": 31,
   "id": "3c456455-35b4-4f9b-82bf-1960efee7e24",
   "metadata": {},
   "outputs": [
    {
     "name": "stdout",
     "output_type": "stream",
     "text": [
      "Antal billetter i økonomiklasse: 8630\n",
      "Antal billetter i businessklasse (pris > 25.000): 52\n"
     ]
    }
   ],
   "source": [
    "print(f\"Antal billetter i økonomiklasse: {len(economy_df)}\")\n",
    "print(f\"Antal billetter i businessklasse (pris > 25.000): {len(business_df)}\")"
   ]
  },
  {
   "cell_type": "markdown",
   "id": "1d29f00b-2a50-4851-a8c3-95801fd83439",
   "metadata": {},
   "source": [
    "# Visualiseringer af priser pr rejsemåneder "
   ]
  },
  {
   "cell_type": "code",
   "execution_count": 33,
   "id": "97126262-a853-4d7e-ad6a-a261fa96eea4",
   "metadata": {},
   "outputs": [
    {
     "data": {
      "image/png": "[encoded data removed]",
      "text/plain": [
       "<Figure size 800x600 with 1 Axes>"
      ]
     },
     "metadata": {},
     "output_type": "display_data"
    }
   ],
   "source": [
    "# Scatterplot: Pris vs rejsemåned\n",
    "\n",
    "plt.figure(figsize=(8, 6))\n",
    "sns.stripplot(data=df, x='journey_month', y='price', jitter=True, alpha=0.6)\n",
    "plt.title('Scatterplot: Pris pr. rejsemåned')\n",
    "plt.xlabel('Rejsemåned')\n",
    "plt.ylabel('Pris')\n",
    "plt.tight_layout()\n",
    "plt.show()"
   ]
  },
  {
   "cell_type": "markdown",
   "id": "422373dc-f6b2-42c5-88f0-784909c7b287",
   "metadata": {},
   "source": [
    "### Analyse af scatterplottet:\n",
    "\n",
    "| Rejsemåned | Observationer om prisfordeling                                                  |\n",
    "|------------|----------------------------------------------------------------------------------|\n",
    "| Marts (3)  | Stor spredning – mange rejser med meget høje priser (business class op til 80.000 kr) |\n",
    "| April (4)  | Tættere og lavere prisfordeling – færre business-rejser                         |\n",
    "| Maj (5)    | Lidt bredere spredning – enkelte dyre rejser, men mange under 20.000 kr         |\n",
    "| Juni (6)   | Mest kompakt – flertallet af priser ligger mellem 4.000 og 18.000 kr            |\n",
    "\n",
    "Scatterplottet viser tydeligt, at marts indeholder mange rejser med business class-priser. De øvrige måneder har en lavere koncentration af disse dyre rejser.\n"
   ]
  },
  {
   "cell_type": "code",
   "execution_count": 35,
   "id": "fb91ea54-6e8d-445c-86b6-cf94fbed194a",
   "metadata": {},
   "outputs": [
    {
     "data": {
      "image/png": "[encoded data removed]",
      "text/plain": [
       "<Figure size 800x600 with 1 Axes>"
      ]
     },
     "metadata": {},
     "output_type": "display_data"
    }
   ],
   "source": [
    "# Søjlediagram: gennenemsnitspris pr. rejsemåned \n",
    "\n",
    "mean_prices = df.groupby('journey_month')['price'].mean().sort_index()\n",
    "\n",
    "plt.figure(figsize=(8, 6))\n",
    "sns.barplot(x=mean_prices.index, y=mean_prices.values)\n",
    "plt.title('Søjlediagram: Gennemsnitspris pr. rejsemåned')\n",
    "plt.xlabel('Rejsemåned')\n",
    "plt.ylabel('Gennemsnitspris')\n",
    "plt.tight_layout()\n",
    "plt.show()"
   ]
  },
  {
   "cell_type": "markdown",
   "id": "ce40ad24-43a9-4699-8e46-431d865ae66f",
   "metadata": {},
   "source": [
    "### Analyse af søjlediagrammet:\n",
    "\n",
    "| Rejsemåned | Gennemsnitspris (visuelt vurderet) | Observationer                                         |\n",
    "|------------|-------------------------------|--------------------------------------------------------|\n",
    "| Marts (3)  | Høj (ca. 10.000+)              | Højest gennemsnitspris, påvirket af mange business-rejser |\n",
    "| April (4)  | Lav (ca. 5.500)                | Laveste gennemsnitspris – færre dyre rejser             |\n",
    "| Maj (5)    | Mellem (ca. 8.400)             | Gennemsnitsprisen stiger efter april                   |\n",
    "| Juni (6)   | Mellem (ca. 8.200)             | Lidt lavere end maj, men stadig over april             |\n",
    "\n",
    "Søjlediagrammet viser, at marts har højeste gennemsnitspris, formodentlig grundet flere business class-rejser. April er tydeligt den billigste måned.\n"
   ]
  },
  {
   "cell_type": "code",
   "execution_count": 37,
   "id": "e771b69d-32ca-48f1-9052-c7cf34fb74f2",
   "metadata": {},
   "outputs": [
    {
     "data": {
      "image/png": "[encoded data removed]",
      "text/plain": [
       "<Figure size 800x600 with 1 Axes>"
      ]
     },
     "metadata": {},
     "output_type": "display_data"
    }
   ],
   "source": [
    "# Boxplot: Pris pr. rejsemåned\n",
    "\n",
    "plt.figure(figsize=(8, 6))\n",
    "sns.boxplot(data=df, x='journey_month', y='price')\n",
    "plt.title('Boxplot: Pris pr. rejsemåned')\n",
    "plt.xlabel('Rejsemåned')\n",
    "plt.ylabel('Pris')\n",
    "plt.tight_layout()\n",
    "plt.show()"
   ]
  },
  {
   "cell_type": "markdown",
   "id": "50a88164-e3db-4698-a523-aca87b6509fc",
   "metadata": {},
   "source": [
    "### Analyse af boxplottet:\n",
    "\n",
    "| Rejsemåned | Observationer om prisfordeling                                                              |\n",
    "|------------|----------------------------------------------------------------------------------------------|\n",
    "| Marts (3)  | Høj prisvariation og mange meget høje priser (business class), median omkring 8.000 kr       |\n",
    "| April (4)  | Lavere median og færre høje priser – priserne generelt lavere og mere stabile                |\n",
    "| Maj (5)    | Bred prisfordeling, enkelte høje priser, men generelt mere jævnt fordelt end marts           |\n",
    "| Juni (6)   | Ligner maj – stabile priser og relativt få meget høje priser                                 |\n",
    "\n",
    "Boxplottet viser, at marts har flest rejser med meget høje priser, sandsynligvis business class. April er mere ensartet og har lavere medianpris.\n"
   ]
  },
  {
   "cell_type": "code",
   "execution_count": 39,
   "id": "bf08e399-c535-40b6-b1d1-acc818dda7e4",
   "metadata": {},
   "outputs": [
    {
     "name": "stdout",
     "output_type": "stream",
     "text": [
      "Korrelationsmatrix mellem pris og rejsemåned:\n",
      "                  price  journey_month\n",
      "price          1.000000      -0.110887\n",
      "journey_month -0.110887       1.000000\n"
     ]
    },
    {
     "data": {
      "image/png": "[encoded data removed]",
      "text/plain": [
       "<Figure size 500x400 with 2 Axes>"
      ]
     },
     "metadata": {},
     "output_type": "display_data"
    }
   ],
   "source": [
    "# Udvælg relevante kolonner\n",
    "cols_to_corr = ['price', 'journey_month']\n",
    "\n",
    "# Beregn korrelationsmatrix\n",
    "corr = df[['price', 'journey_month']].corr()\n",
    "\n",
    "# Udskriv korrelation\n",
    "print(\"Korrelationsmatrix mellem pris og rejsemåned:\")\n",
    "print(corr)\n",
    "\n",
    "# Visualiser som heatmap\n",
    "plt.figure(figsize=(5, 4))\n",
    "sns.heatmap(corr, annot=True, fmt=\".2f\", cmap='coolwarm', vmin=-1, vmax=1)\n",
    "plt.title(\"Korrelationsmatrix: Pris vs. Rejsemåned\")\n",
    "plt.show()"
   ]
  },
  {
   "cell_type": "markdown",
   "id": "c57ff80e-6d0b-4fea-9b78-648a725ac5ff",
   "metadata": {},
   "source": [
    "### Korrelationsanalyse\n",
    "\n",
    "Korrelationskoefficienten mellem pris og rejsemåned er ca. **-0,11**, hvilket er en **svag negativ sammenhæng**. Det betyder, at priserne generelt har en tendens til at falde lidt, jo senere på året man rejser (fra marts til juni).\n",
    "\n",
    "Sammenhængen er dog **ikke stærk**, og der er sandsynligvis **ikke en simpel lineær sammenhæng** – andre faktorer som rejselængde, sæson, og billetklasse (f.eks. business) spiller også en rolle.\n",
    "\n",
    "Så kort sagt: Man kan måske spare lidt ved at rejse senere, men det er ikke en garanti – billedet er mere komplekst end bare måned = pris.\n"
   ]
  },
  {
   "cell_type": "markdown",
   "id": "e8634ba0-607a-4b7c-b946-c2b858fab6fb",
   "metadata": {},
   "source": [
    "### Konklusion: Hvordan varierer priserne afhængigt af rejsemåneden?\n",
    "\n",
    "Priserne varierer tydeligt mellem månederne marts, april, maj og juni.\n",
    "\n",
    "**Marts** skiller sig ud som den dyreste måned – både gennemsnitsprisen og spredningen i priserne er høje. Det skyldes sandsynligvis flere business class-rejser.\n",
    "\n",
    "**April** er den billigste måned at rejse i. Priserne er mere stabile og lavere både i gennemsnit og variation.\n",
    "\n",
    "**Maj og juni** ligger midt imellem. Der er stadig nogen prisvariation, men færre meget dyre billetter sammenlignet med marts.\n",
    "\n",
    "Korrelationsanalysen viser en **svag negativ sammenhæng** (r = -0,11) mellem pris og rejsemåned. Det betyder, at priserne generelt har en tendens til at falde lidt, jo senere på året man rejser – men sammenhængen er ikke stærk eller lineær.\n",
    "\n",
    "Samlet set peger analysen på, at man kan spare penge ved at rejse i **april eller juni**, mens **marts** ofte er den dyreste måned – især pga. business-billetter.\n",
    "\n"
   ]
  },
  {
   "cell_type": "markdown",
   "id": "f5d860e8-c445-4cd8-8403-e1c38429e88c",
   "metadata": {},
   "source": [
    "# Sprint 3 "
   ]
  },
  {
   "cell_type": "markdown",
   "id": "eb039432-2c66-4ee0-b354-0715c601879a",
   "metadata": {},
   "source": [
    "# Datamodellering"
   ]
  },
  {
   "cell_type": "code",
   "execution_count": 44,
   "id": "334762f2-aa89-497b-b6b2-e1f21efbcc5c",
   "metadata": {},
   "outputs": [
    {
     "name": "stdout",
     "output_type": "stream",
     "text": [
      "RMSE: 2586.65\n",
      "R^2: 0.61\n"
     ]
    }
   ],
   "source": [
    "from sklearn.model_selection import train_test_split\n",
    "from sklearn.tree import DecisionTreeRegressor\n",
    "from sklearn.preprocessing import StandardScaler\n",
    "from sklearn.metrics import root_mean_squared_error, r2_score\n",
    "\n",
    "# Data\n",
    "X = dfNumeric.drop('Price', axis=1)\n",
    "y = dfNumeric['Price']\n",
    "\n",
    "# Split data\n",
    "X_train, X_test, y_train, y_test = train_test_split(X, y, test_size=0.2, random_state=42)\n",
    "\n",
    "# Træn Decision Tree model\n",
    "model = DecisionTreeRegressor(random_state=42)\n",
    "model.fit(X_train, y_train)\n",
    "\n",
    "# Forudsig\n",
    "y_pred = model.predict(X_test)\n",
    "\n",
    "# Evaluér\n",
    "rmse = root_mean_squared_error(y_test, y_pred)\n",
    "r2 = r2_score(y_test, y_pred)\n",
    "\n",
    "print(f\"RMSE: {rmse:.2f}\")\n",
    "print(f\"R^2: {r2:.2f}\")"
   ]
  },
  {
   "cell_type": "markdown",
   "id": "4c083a51-86c0-4d50-9135-9c5e871fd98e",
   "metadata": {},
   "source": [
    "### Evaluering af modellen\n",
    "\n",
    "# -RMSE:\n",
    "Den gennemsnitlige fejl målt med RMSE er 2.586,65 kr. Det betyder, at modelens forudsigelser i gennemsnit ligger omkring 2.600 kr. fra de faktiske priser. Det er en rimelig præcision, men der er stadig noget støj i dataene.\n",
    "\n",
    "# -R²-score:\n",
    "R²-værdien er 0,61, hvilket vil sige, at modellen forklarer 61 % af variationen i priserne. Det er et acceptabelt resultat, men viser også, at modellen ikke fanger alle sammenhænge – der er stadig 39 % af variationen, den ikke får med. "
   ]
  },
  {
   "cell_type": "code",
   "execution_count": 46,
   "id": "c4f610a8-ae3e-43fa-a5f6-d01394767392",
   "metadata": {},
   "outputs": [
    {
     "name": "stdout",
     "output_type": "stream",
     "text": [
      "journey_month\n",
      "3    10157.864147\n",
      "4     5492.932267\n",
      "5     8332.180336\n",
      "6     8261.362935\n",
      "Name: predicted_price, dtype: float64\n"
     ]
    }
   ],
   "source": [
    "# Forudsig alle rækker i datasættet\n",
    "y_pred_all = model.predict(dfNumeric.drop('Price', axis=1))\n",
    "\n",
    "# Lav DataFrame med måneder og forudsigelser\n",
    "results = pd.DataFrame({\n",
    "    'journey_month': df['journey_month'],\n",
    "    'predicted_price': y_pred_all\n",
    "})\n",
    "\n",
    "# Beregn gennemsnitlig pris pr. måned\n",
    "avg_price_per_month = results.groupby('journey_month')['predicted_price'].mean()\n",
    "\n",
    "print(avg_price_per_month)"
   ]
  },
  {
   "cell_type": "markdown",
   "id": "c3e7eeb7-280a-47c0-b63c-9c02966e93b3",
   "metadata": {},
   "source": [
    "### Forudsiget gennemsnitspris pr. rejsemåned\n",
    "\n",
    "Modellen er blevet brugt til at forudsige priserne for alle rejser, og vi har derefter beregnet den gennemsnitlige forudsigede pris for hver rejsemåned:\n",
    "\n",
    "| Rejsemåned | Forudsiget gennemsnitspris (kr.) |\n",
    "|------------|-------------------------------|\n",
    "| Marts (3)  | 10.157 kr.                     |\n",
    "| April (4)  | 5.492 kr.                      |\n",
    "| Maj (5)    | 8.332 kr.                      |\n",
    "| Juni (6)   | 8.261 kr.                      |\n",
    "\n",
    "🔍 **Fortolkning:**  \n",
    "Forudsigelserne bekræfter det, vi tidligere så i de faktiske data:\n",
    "\n",
    "- **April** er stadig den billigste måned at rejse i ifølge modellen.  \n",
    "- **Marts** er klart den dyreste måned med en forudset gennemsnitspris på over 10.000 kr.  \n",
    "- **Maj og juni** ligger tæt på hinanden, begge med priser omkring 8.280 kr.\n",
    "\n",
    "Modellen understøtter altså tidligere konklusioner: April er det bedste tidspunkt at finde billigere billetter, mens marts generelt er dyrest.\n"
   ]
  },
  {
   "cell_type": "code",
   "execution_count": 48,
   "id": "004e48a5-deb2-4f96-91dc-2e61f116f5fe",
   "metadata": {},
   "outputs": [
    {
     "name": "stdout",
     "output_type": "stream",
     "text": [
      "RMSE: 2113.33\n",
      "R^2: 0.74\n"
     ]
    }
   ],
   "source": [
    "from sklearn.model_selection import train_test_split\n",
    "from sklearn.ensemble import RandomForestRegressor\n",
    "from sklearn.metrics import r2_score, root_mean_squared_error\n",
    "\n",
    "# Data\n",
    "X = dfNumeric.drop('Price', axis=1)\n",
    "y = dfNumeric['Price']\n",
    "\n",
    "# Split\n",
    "X_train, X_test, y_train, y_test = train_test_split(X, y, test_size=0.2, random_state=42)\n",
    "\n",
    "# Model\n",
    "model = RandomForestRegressor(random_state=42, n_estimators=100, max_depth=10)\n",
    "model.fit(X_train, y_train)\n",
    "\n",
    "# Forudsigelse\n",
    "y_pred = model.predict(X_test)\n",
    "\n",
    "# Evaluering\n",
    "rmse = root_mean_squared_error(y_test, y_pred)\n",
    "r2 = r2_score(y_test, y_pred)\n",
    "\n",
    "print(f\"RMSE: {rmse:.2f}\")\n",
    "print(f\"R^2: {r2:.2f}\")"
   ]
  },
  {
   "cell_type": "markdown",
   "id": "02786fe6-45b3-4b93-a83b-e7b1944cbab7",
   "metadata": {},
   "source": [
    "# -RMSE:\n",
    "Modellen har en gennemsnitlig fejl (RMSE) på ca. **2.113 kr.**. Det betyder, at forudsigelserne typisk ligger lidt over 2.000 kr. fra den rigtige pris. Det er en forbedring sammenlignet med Decision Tree-modellen.\n",
    "\n",
    "# -R²-score:\n",
    "R²-værdien er **0,74**, hvilket betyder, at modellen forklarer **74 % af variationen i priserne**. Det er en markant forbedring i forhold til den tidligere model og viser, at Random Forest fanger flere mønstre og sammenhænge i data.\n",
    "\n",
    "Samlet set giver Random Forest mere præcise forudsigelser og er bedre til at generalisere end den simple beslutningstræmodel.\n"
   ]
  },
  {
   "cell_type": "code",
   "execution_count": 50,
   "id": "7ed5a82d-ac64-461f-993b-78e65976e85b",
   "metadata": {},
   "outputs": [
    {
     "name": "stdout",
     "output_type": "stream",
     "text": [
      "journey_month\n",
      "3    10150.673647\n",
      "4     5676.792760\n",
      "5     8276.800228\n",
      "6     8257.490881\n",
      "Name: predicted_price, dtype: float64\n"
     ]
    }
   ],
   "source": [
    "# Forudsig priser for hele datasættet\n",
    "y_pred_all = model.predict(dfNumeric.drop('Price', axis=1))\n",
    "\n",
    "# Lav en DataFrame med måneder og forudsigelser\n",
    "results = pd.DataFrame({\n",
    "    'journey_month': df['journey_month'],\n",
    "    'predicted_price': y_pred_all\n",
    "})\n",
    "\n",
    "# Beregn gennemsnitlig pris pr. måned\n",
    "avg_price_per_month = results.groupby('journey_month')['predicted_price'].mean()\n",
    "\n",
    "print(avg_price_per_month)"
   ]
  },
  {
   "cell_type": "markdown",
   "id": "555433fe-82ea-4670-b64f-49a5d22c0133",
   "metadata": {},
   "source": [
    "## Forudsiget gennemsnitspris pr. rejsemåned\n",
    "\n",
    "Vi har brugt en Decision Tree Regression-model til at forudsige priserne for alle rejser i datasættet. Derefter har vi beregnet den gennemsnitlige forudsigede pris for hver rejsemåned:\n",
    "\n",
    "| Rejsemåned | Forudsiget gennemsnitspris (kr.) |\n",
    "|------------|----------------------------------|\n",
    "| Marts (3)  | 10.150                           |\n",
    "| April (4)  | 5.677                            |\n",
    "| Maj (5)    | 8.277                            |\n",
    "| Juni (6)   | 8.257                            |\n",
    "\n",
    "**Fortolkning:**\n",
    "\n",
    "- April er den billigste måned at rejse i, med den laveste gennemsnitlige pris.\n",
    "- Marts er den dyreste måned med priser over 10.000 kr.\n",
    "- Maj og juni har lignende prisniveauer omkring 8.250 kr.\n",
    "- Resultaterne stemmer godt overens med de faktiske data og bekræfter, at april er det bedste tidspunkt at finde billigere billetter, mens marts generelt er dyrere.\n",
    "\n",
    "Modellen giver dermed et pålideligt billede af prisvariationerne over rejsemåneder.\n"
   ]
  },
  {
   "cell_type": "markdown",
   "id": "590bbd26-a28d-45c8-bf78-c1e577861a54",
   "metadata": {},
   "source": [
    "### Konklusion: Hvordan varierer priserne afhængigt af rejsemåneden?\n",
    "\n",
    "Analysen viser, at billetpriserne varierer tydeligt afhængigt af rejsemåneden. April er den billigste måned at rejse i, mens marts er den dyreste. Maj og juni ligger midt imellem. \n",
    "\n",
    "Blandt de anvendte modeller giver **Random Forest Regression** de mest præcise forudsigelser (RMSE: ~2.113 kr., R²: 0,74) og er bedre til at fange mønstrene i data end Decision Tree-modellen. \n",
    "\n",
    "Samlet set bekræfter modellerne, at rejsetidspunktet har stor betydning for prisen, og at april er det bedste valg for lavere billetpriser."
   ]
  },
  {
   "cell_type": "markdown",
   "id": "b78b2e42-e001-4c51-99aa-42f0825ff621",
   "metadata": {},
   "source": [
    "## Endelig konklusion\n",
    "\n",
    "Hypotesen om, at priserne varierer med rejsemåneden, hvor højsæson medfører højere priser end lavsæson, **bekræftes**.\n",
    "\n",
    "Analysen af priser på indenrigsfly i Indien viser, at priserne varierer med rejsemåneden, og at højsæson generelt medfører højere priser end lavsæson.\n",
    "\n",
    "Marts, som falder sammen med starten på sommerferien og øget rejseaktivitet, er den klart dyreste måned. April er den billigste måned, da den ligger uden for de store ferier, mens maj og juni har priser, der ligger imellem disse yderpunkter.\n",
    "\n",
    "Dermed **bekræftes hypotesen** om, at højsæsonen i Indien – især i perioder med skoleferier og store festivaler – fører til højere billetpriser på indenrigsfly. Prisvariationerne skyldes også ting som billetklasse og hvornår man rejser, så priserne kan være lidt svære at forudsige helt præcist."
   ]
  },
  {
   "cell_type": "markdown",
   "id": "6c010df0-92d9-41a7-8b47-41cd5abdd404",
   "metadata": {},
   "source": [
    "hej"
   ]
  }
 ],
 "metadata": {
  "kernelspec": {
   "display_name": "Python [conda env:base] *",
   "language": "python",
   "name": "conda-base-py"
  },
  "language_info": {
   "codemirror_mode": {
    "name": "ipython",
    "version": 3
   },
   "file_extension": ".py",
   "mimetype": "text/x-python",
   "name": "python",
   "nbconvert_exporter": "python",
   "pygments_lexer": "ipython3",
   "version": "3.12.7"
  }
 },
 "nbformat": 4,
 "nbformat_minor": 5
}
